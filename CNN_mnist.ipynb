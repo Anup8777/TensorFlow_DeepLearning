{
  "nbformat": 4,
  "nbformat_minor": 0,
  "metadata": {
    "colab": {
      "name": "CNN.ipynb",
      "provenance": [],
      "collapsed_sections": [],
      "include_colab_link": true
    },
    "kernelspec": {
      "name": "python3",
      "display_name": "Python 3"
    }
  },
  "cells": [
    {
      "cell_type": "markdown",
      "metadata": {
        "id": "view-in-github",
        "colab_type": "text"
      },
      "source": [
        "<a href=\"https://colab.research.google.com/github/Anup8777/TensorFlow_DeepLearning/blob/master/CNN_mnist.ipynb\" target=\"_parent\"><img src=\"https://colab.research.google.com/assets/colab-badge.svg\" alt=\"Open In Colab\"/></a>"
      ]
    },
    {
      "cell_type": "code",
      "metadata": {
        "id": "WK6pVLpqK34t",
        "colab_type": "code",
        "colab": {
          "base_uri": "https://localhost:8080/",
          "height": 50
        },
        "outputId": "53e740ef-22c1-43c7-c9d3-221f032b3ac7"
      },
      "source": [
        "import tensorflow as tf\n",
        "from tensorflow.keras import layers as layers\n",
        "import numpy as np\n",
        "import matplotlib.pyplot as plt\n",
        "import seaborn as sns\n",
        "from tensorflow.keras.optimizers import Adam\n",
        "import tensorboard\n",
        "import datetime\n",
        "import warnings\n",
        "import os\n",
        "from sklearn import metrics\n",
        "\n",
        "%load_ext tensorboard"
      ],
      "execution_count": 126,
      "outputs": [
        {
          "output_type": "stream",
          "text": [
            "The tensorboard extension is already loaded. To reload it, use:\n",
            "  %reload_ext tensorboard\n"
          ],
          "name": "stdout"
        }
      ]
    },
    {
      "cell_type": "code",
      "metadata": {
        "id": "0YuY3mSrPTSU",
        "colab_type": "code",
        "colab": {}
      },
      "source": [
        "logdir = os.path.join(\"logs\", datetime.datetime.now( ).strftime(\"%Y%m%d-%H%M%S\"))\n",
        "tensorboard_callback = tf.keras.callbacks.TensorBoard(logdir, histogram_freq=1)\n",
        "warnings.filterwarnings('ignore')"
      ],
      "execution_count": 0,
      "outputs": []
    },
    {
      "cell_type": "code",
      "metadata": {
        "id": "gvDy2Z27Ljyu",
        "colab_type": "code",
        "colab": {}
      },
      "source": [
        "(x_train, y_train), (x_test, y_test) = tf.keras.datasets.mnist.load_data()"
      ],
      "execution_count": 0,
      "outputs": []
    },
    {
      "cell_type": "code",
      "metadata": {
        "id": "ELRYthrCWCBw",
        "colab_type": "code",
        "colab": {
          "base_uri": "https://localhost:8080/",
          "height": 34
        },
        "outputId": "a7865ffb-97a3-4134-d9a9-78b9d4f8378c"
      },
      "source": [
        "img_rows = x_train[0].shape[0]\n",
        "img_cols = x_test[0].shape[1]\n",
        "\n",
        "x_train = x_train.reshape(x_train.shape[0],img_rows,img_cols,1)\n",
        "x_test = x_test.reshape(x_test.shape[0],img_rows,img_cols,1)\n",
        "in_shape = (img_rows, img_cols, 1) "
      ],
      "execution_count": 109,
      "outputs": [
        {
          "output_type": "execute_result",
          "data": {
            "text/plain": [
              "(28, 28, 1)"
            ]
          },
          "metadata": {
            "tags": []
          },
          "execution_count": 109
        }
      ]
    },
    {
      "cell_type": "code",
      "metadata": {
        "id": "RnOIDcBSMrCS",
        "colab_type": "code",
        "colab": {}
      },
      "source": [
        "model = tf.keras.Sequential([\n",
        "tf.keras.layers.Conv2D(filters=32, kernel_size=(2,2), strides=(1, 1), input_shape=in_shape ),\n",
        "tf.keras.layers.MaxPool2D(),\n",
        "tf.keras.layers.Flatten(),\n",
        "tf.keras.layers.Dense(10, activation='softmax')])"
      ],
      "execution_count": 0,
      "outputs": []
    },
    {
      "cell_type": "code",
      "metadata": {
        "id": "49xLBTNoNwr_",
        "colab_type": "code",
        "colab": {}
      },
      "source": [
        "model.compile(optimizer='Adam', loss=tf.keras.losses.sparse_categorical_crossentropy, metrics='accuracy')"
      ],
      "execution_count": 0,
      "outputs": []
    },
    {
      "cell_type": "code",
      "metadata": {
        "id": "8zedmVu_Nx6p",
        "colab_type": "code",
        "colab": {}
      },
      "source": [
        "BATCH_SIZE = 128\n",
        "EPOCHS = 30"
      ],
      "execution_count": 0,
      "outputs": []
    },
    {
      "cell_type": "code",
      "metadata": {
        "id": "k6XuUmixN0p-",
        "colab_type": "code",
        "colab": {
          "base_uri": "https://localhost:8080/",
          "height": 1000
        },
        "outputId": "457d1bb7-3db4-4037-c7eb-22a18d1db012"
      },
      "source": [
        "model.fit(x_train, y_train, batch_size=BATCH_SIZE, epochs = EPOCHS, verbose=1, callbacks= [tensorboard_callback], validation_split=0.8, shuffle=True )"
      ],
      "execution_count": 113,
      "outputs": [
        {
          "output_type": "stream",
          "text": [
            "Epoch 1/200\n",
            "94/94 [==============================] - 9s 93ms/step - loss: 4.2273 - accuracy: 0.8280 - val_loss: 1.6175 - val_accuracy: 0.8881\n",
            "Epoch 2/200\n",
            "94/94 [==============================] - 9s 91ms/step - loss: 0.8930 - accuracy: 0.9197 - val_loss: 1.1299 - val_accuracy: 0.9064\n",
            "Epoch 3/200\n",
            "94/94 [==============================] - 9s 91ms/step - loss: 0.5325 - accuracy: 0.9398 - val_loss: 0.9536 - val_accuracy: 0.9142\n",
            "Epoch 4/200\n",
            "94/94 [==============================] - 9s 90ms/step - loss: 0.3514 - accuracy: 0.9520 - val_loss: 0.8754 - val_accuracy: 0.9188\n",
            "Epoch 5/200\n",
            "94/94 [==============================] - 8s 87ms/step - loss: 0.2372 - accuracy: 0.9627 - val_loss: 0.7761 - val_accuracy: 0.9244\n",
            "Epoch 6/200\n",
            "94/94 [==============================] - 8s 86ms/step - loss: 0.1574 - accuracy: 0.9721 - val_loss: 0.7432 - val_accuracy: 0.9310\n",
            "Epoch 7/200\n",
            "94/94 [==============================] - 8s 89ms/step - loss: 0.1534 - accuracy: 0.9707 - val_loss: 0.7484 - val_accuracy: 0.9279\n",
            "Epoch 8/200\n",
            "94/94 [==============================] - 8s 88ms/step - loss: 0.1289 - accuracy: 0.9762 - val_loss: 0.7732 - val_accuracy: 0.9298\n",
            "Epoch 9/200\n",
            "94/94 [==============================] - 10s 101ms/step - loss: 0.1041 - accuracy: 0.9800 - val_loss: 0.7295 - val_accuracy: 0.9344\n",
            "Epoch 10/200\n",
            "94/94 [==============================] - 9s 92ms/step - loss: 0.0859 - accuracy: 0.9819 - val_loss: 0.7404 - val_accuracy: 0.9350\n",
            "Epoch 11/200\n",
            "94/94 [==============================] - 9s 92ms/step - loss: 0.0776 - accuracy: 0.9829 - val_loss: 0.7330 - val_accuracy: 0.9338\n",
            "Epoch 12/200\n",
            "94/94 [==============================] - 9s 92ms/step - loss: 0.0746 - accuracy: 0.9845 - val_loss: 0.7786 - val_accuracy: 0.9345\n",
            "Epoch 13/200\n",
            "94/94 [==============================] - 9s 93ms/step - loss: 0.0680 - accuracy: 0.9839 - val_loss: 0.7459 - val_accuracy: 0.9366\n",
            "Epoch 14/200\n",
            "94/94 [==============================] - 9s 93ms/step - loss: 0.0666 - accuracy: 0.9857 - val_loss: 0.7428 - val_accuracy: 0.9405\n",
            "Epoch 15/200\n",
            "94/94 [==============================] - 9s 93ms/step - loss: 0.0531 - accuracy: 0.9872 - val_loss: 0.7475 - val_accuracy: 0.9407\n",
            "Epoch 16/200\n",
            "94/94 [==============================] - 9s 96ms/step - loss: 0.0523 - accuracy: 0.9892 - val_loss: 0.7311 - val_accuracy: 0.9418\n",
            "Epoch 17/200\n",
            "94/94 [==============================] - 9s 99ms/step - loss: 0.0352 - accuracy: 0.9911 - val_loss: 0.7625 - val_accuracy: 0.9399\n",
            "Epoch 18/200\n",
            "94/94 [==============================] - 9s 97ms/step - loss: 0.0476 - accuracy: 0.9888 - val_loss: 0.8043 - val_accuracy: 0.9374\n",
            "Epoch 19/200\n",
            "94/94 [==============================] - 9s 95ms/step - loss: 0.0512 - accuracy: 0.9882 - val_loss: 0.8345 - val_accuracy: 0.9391\n",
            "Epoch 20/200\n",
            "94/94 [==============================] - 9s 92ms/step - loss: 0.0415 - accuracy: 0.9902 - val_loss: 0.8172 - val_accuracy: 0.9397\n",
            "Epoch 21/200\n",
            "94/94 [==============================] - 9s 91ms/step - loss: 0.0395 - accuracy: 0.9915 - val_loss: 0.8189 - val_accuracy: 0.9411\n",
            "Epoch 22/200\n",
            "94/94 [==============================] - 9s 91ms/step - loss: 0.0515 - accuracy: 0.9897 - val_loss: 0.8490 - val_accuracy: 0.9383\n",
            "Epoch 23/200\n",
            "94/94 [==============================] - 9s 91ms/step - loss: 0.0618 - accuracy: 0.9885 - val_loss: 0.9316 - val_accuracy: 0.9379\n",
            "Epoch 24/200\n",
            "94/94 [==============================] - 8s 90ms/step - loss: 0.0485 - accuracy: 0.9902 - val_loss: 0.9604 - val_accuracy: 0.9357\n",
            "Epoch 25/200\n",
            "94/94 [==============================] - 11s 116ms/step - loss: 0.0802 - accuracy: 0.9858 - val_loss: 0.9330 - val_accuracy: 0.9406\n",
            "Epoch 26/200\n",
            "94/94 [==============================] - 9s 94ms/step - loss: 0.0746 - accuracy: 0.9858 - val_loss: 0.9579 - val_accuracy: 0.9388\n",
            "Epoch 27/200\n",
            "94/94 [==============================] - 9s 95ms/step - loss: 0.0708 - accuracy: 0.9884 - val_loss: 0.9208 - val_accuracy: 0.9392\n",
            "Epoch 28/200\n",
            "94/94 [==============================] - 9s 96ms/step - loss: 0.0517 - accuracy: 0.9901 - val_loss: 0.9528 - val_accuracy: 0.9420\n",
            "Epoch 29/200\n",
            "94/94 [==============================] - 9s 92ms/step - loss: 0.0481 - accuracy: 0.9905 - val_loss: 0.9557 - val_accuracy: 0.9411\n",
            "Epoch 30/200\n",
            "94/94 [==============================] - 8s 90ms/step - loss: 0.0664 - accuracy: 0.9885 - val_loss: 0.9867 - val_accuracy: 0.9406\n",
            "Epoch 31/200\n",
            "94/94 [==============================] - 9s 91ms/step - loss: 0.0626 - accuracy: 0.9897 - val_loss: 0.9836 - val_accuracy: 0.9419\n",
            "Epoch 32/200\n",
            "94/94 [==============================] - 9s 91ms/step - loss: 0.0640 - accuracy: 0.9894 - val_loss: 1.0479 - val_accuracy: 0.9403\n",
            "Epoch 33/200\n",
            "94/94 [==============================] - 9s 95ms/step - loss: 0.0426 - accuracy: 0.9927 - val_loss: 1.1452 - val_accuracy: 0.9314\n",
            "Epoch 34/200\n",
            "94/94 [==============================] - 9s 94ms/step - loss: 0.0304 - accuracy: 0.9932 - val_loss: 1.0583 - val_accuracy: 0.9418\n",
            "Epoch 35/200\n",
            "94/94 [==============================] - 9s 94ms/step - loss: 0.0305 - accuracy: 0.9939 - val_loss: 1.0944 - val_accuracy: 0.9408\n",
            "Epoch 36/200\n",
            "94/94 [==============================] - 9s 95ms/step - loss: 0.0388 - accuracy: 0.9932 - val_loss: 1.0519 - val_accuracy: 0.9414\n",
            "Epoch 37/200\n",
            "94/94 [==============================] - 9s 94ms/step - loss: 0.0472 - accuracy: 0.9918 - val_loss: 1.0452 - val_accuracy: 0.9416\n",
            "Epoch 38/200\n",
            "94/94 [==============================] - 9s 92ms/step - loss: 0.0385 - accuracy: 0.9939 - val_loss: 1.0887 - val_accuracy: 0.9419\n",
            "Epoch 39/200\n",
            "94/94 [==============================] - 9s 94ms/step - loss: 0.0457 - accuracy: 0.9912 - val_loss: 1.0692 - val_accuracy: 0.9418\n",
            "Epoch 40/200\n",
            "94/94 [==============================] - 9s 100ms/step - loss: 0.0628 - accuracy: 0.9897 - val_loss: 1.0960 - val_accuracy: 0.9430\n",
            "Epoch 41/200\n",
            "94/94 [==============================] - 10s 102ms/step - loss: 0.0510 - accuracy: 0.9921 - val_loss: 1.1036 - val_accuracy: 0.9422\n",
            "Epoch 42/200\n",
            "94/94 [==============================] - 10s 103ms/step - loss: 0.0636 - accuracy: 0.9911 - val_loss: 1.1482 - val_accuracy: 0.9402\n",
            "Epoch 43/200\n",
            "94/94 [==============================] - 10s 103ms/step - loss: 0.0519 - accuracy: 0.9922 - val_loss: 1.1532 - val_accuracy: 0.9407\n",
            "Epoch 44/200\n",
            "94/94 [==============================] - 10s 102ms/step - loss: 0.0531 - accuracy: 0.9917 - val_loss: 1.3362 - val_accuracy: 0.9347\n",
            "Epoch 45/200\n",
            "94/94 [==============================] - 10s 104ms/step - loss: 0.0763 - accuracy: 0.9892 - val_loss: 1.2367 - val_accuracy: 0.9389\n",
            "Epoch 46/200\n",
            "94/94 [==============================] - 10s 102ms/step - loss: 0.0656 - accuracy: 0.9898 - val_loss: 1.1588 - val_accuracy: 0.9444\n",
            "Epoch 47/200\n",
            "94/94 [==============================] - 9s 97ms/step - loss: 0.0460 - accuracy: 0.9929 - val_loss: 1.2692 - val_accuracy: 0.9410\n",
            "Epoch 48/200\n",
            "94/94 [==============================] - 10s 104ms/step - loss: 0.0349 - accuracy: 0.9942 - val_loss: 1.1981 - val_accuracy: 0.9427\n",
            "Epoch 49/200\n",
            "94/94 [==============================] - 10s 111ms/step - loss: 0.0279 - accuracy: 0.9948 - val_loss: 1.1148 - val_accuracy: 0.9455\n",
            "Epoch 50/200\n",
            "94/94 [==============================] - 10s 103ms/step - loss: 0.0565 - accuracy: 0.9917 - val_loss: 1.3699 - val_accuracy: 0.9378\n",
            "Epoch 51/200\n",
            "94/94 [==============================] - 10s 105ms/step - loss: 0.0507 - accuracy: 0.9927 - val_loss: 1.3875 - val_accuracy: 0.9356\n",
            "Epoch 52/200\n",
            "94/94 [==============================] - 10s 101ms/step - loss: 0.0493 - accuracy: 0.9928 - val_loss: 1.2335 - val_accuracy: 0.9429\n",
            "Epoch 53/200\n",
            "94/94 [==============================] - 9s 99ms/step - loss: 0.0342 - accuracy: 0.9937 - val_loss: 1.3095 - val_accuracy: 0.9418\n",
            "Epoch 54/200\n",
            "94/94 [==============================] - 9s 100ms/step - loss: 0.0304 - accuracy: 0.9952 - val_loss: 1.3167 - val_accuracy: 0.9409\n",
            "Epoch 55/200\n",
            "94/94 [==============================] - 9s 100ms/step - loss: 0.0341 - accuracy: 0.9949 - val_loss: 1.3843 - val_accuracy: 0.9398\n",
            "Epoch 56/200\n",
            "94/94 [==============================] - 9s 99ms/step - loss: 0.0348 - accuracy: 0.9947 - val_loss: 1.2667 - val_accuracy: 0.9451\n",
            "Epoch 57/200\n",
            "94/94 [==============================] - 9s 98ms/step - loss: 0.0343 - accuracy: 0.9942 - val_loss: 1.3524 - val_accuracy: 0.9396\n",
            "Epoch 58/200\n",
            "94/94 [==============================] - 9s 98ms/step - loss: 0.0433 - accuracy: 0.9932 - val_loss: 1.3764 - val_accuracy: 0.9389\n",
            "Epoch 59/200\n",
            "94/94 [==============================] - 9s 99ms/step - loss: 0.0303 - accuracy: 0.9948 - val_loss: 1.2831 - val_accuracy: 0.9428\n",
            "Epoch 60/200\n",
            "94/94 [==============================] - 9s 98ms/step - loss: 0.0409 - accuracy: 0.9947 - val_loss: 1.4340 - val_accuracy: 0.9425\n",
            "Epoch 61/200\n",
            "94/94 [==============================] - 9s 99ms/step - loss: 0.0395 - accuracy: 0.9939 - val_loss: 1.3395 - val_accuracy: 0.9438\n",
            "Epoch 62/200\n",
            "94/94 [==============================] - 9s 98ms/step - loss: 0.0525 - accuracy: 0.9925 - val_loss: 1.5373 - val_accuracy: 0.9376\n",
            "Epoch 63/200\n",
            "94/94 [==============================] - 9s 99ms/step - loss: 0.0620 - accuracy: 0.9913 - val_loss: 1.4745 - val_accuracy: 0.9427\n",
            "Epoch 64/200\n",
            "94/94 [==============================] - 9s 100ms/step - loss: 0.0590 - accuracy: 0.9921 - val_loss: 1.3852 - val_accuracy: 0.9440\n",
            "Epoch 65/200\n",
            "94/94 [==============================] - 9s 100ms/step - loss: 0.0470 - accuracy: 0.9936 - val_loss: 1.3732 - val_accuracy: 0.9456\n",
            "Epoch 66/200\n",
            "94/94 [==============================] - 9s 100ms/step - loss: 0.0443 - accuracy: 0.9933 - val_loss: 1.3547 - val_accuracy: 0.9446\n",
            "Epoch 67/200\n",
            "94/94 [==============================] - 10s 103ms/step - loss: 0.0306 - accuracy: 0.9957 - val_loss: 1.4618 - val_accuracy: 0.9430\n",
            "Epoch 68/200\n",
            "94/94 [==============================] - 9s 100ms/step - loss: 0.0259 - accuracy: 0.9963 - val_loss: 1.3598 - val_accuracy: 0.9448\n",
            "Epoch 69/200\n",
            "94/94 [==============================] - 9s 99ms/step - loss: 0.0273 - accuracy: 0.9960 - val_loss: 1.3338 - val_accuracy: 0.9459\n",
            "Epoch 70/200\n",
            "94/94 [==============================] - 9s 99ms/step - loss: 0.0172 - accuracy: 0.9971 - val_loss: 1.3593 - val_accuracy: 0.9469\n",
            "Epoch 71/200\n",
            "94/94 [==============================] - 9s 101ms/step - loss: 0.0327 - accuracy: 0.9957 - val_loss: 1.4627 - val_accuracy: 0.9429\n",
            "Epoch 72/200\n",
            "94/94 [==============================] - 10s 101ms/step - loss: 0.0259 - accuracy: 0.9965 - val_loss: 1.4310 - val_accuracy: 0.9447\n",
            "Epoch 73/200\n",
            "94/94 [==============================] - 10s 102ms/step - loss: 0.0170 - accuracy: 0.9970 - val_loss: 1.4996 - val_accuracy: 0.9448\n",
            "Epoch 74/200\n",
            "94/94 [==============================] - 10s 102ms/step - loss: 0.0249 - accuracy: 0.9959 - val_loss: 1.5743 - val_accuracy: 0.9411\n",
            "Epoch 75/200\n",
            "94/94 [==============================] - 10s 102ms/step - loss: 0.0468 - accuracy: 0.9942 - val_loss: 1.5800 - val_accuracy: 0.9423\n",
            "Epoch 76/200\n",
            "94/94 [==============================] - 9s 101ms/step - loss: 0.0504 - accuracy: 0.9947 - val_loss: 1.6220 - val_accuracy: 0.9398\n",
            "Epoch 77/200\n",
            "94/94 [==============================] - 10s 102ms/step - loss: 0.0365 - accuracy: 0.9954 - val_loss: 1.6081 - val_accuracy: 0.9391\n",
            "Epoch 78/200\n",
            "94/94 [==============================] - 10s 104ms/step - loss: 0.0377 - accuracy: 0.9942 - val_loss: 1.5682 - val_accuracy: 0.9438\n",
            "Epoch 79/200\n",
            "94/94 [==============================] - 10s 105ms/step - loss: 0.0779 - accuracy: 0.9917 - val_loss: 1.7441 - val_accuracy: 0.9387\n",
            "Epoch 80/200\n",
            "94/94 [==============================] - 10s 103ms/step - loss: 0.0688 - accuracy: 0.9927 - val_loss: 1.5829 - val_accuracy: 0.9439\n",
            "Epoch 81/200\n",
            "94/94 [==============================] - 10s 104ms/step - loss: 0.0510 - accuracy: 0.9938 - val_loss: 1.6068 - val_accuracy: 0.9425\n",
            "Epoch 82/200\n",
            "94/94 [==============================] - 10s 106ms/step - loss: 0.0359 - accuracy: 0.9952 - val_loss: 1.7537 - val_accuracy: 0.9418\n",
            "Epoch 83/200\n",
            "94/94 [==============================] - 10s 105ms/step - loss: 0.0341 - accuracy: 0.9955 - val_loss: 1.5703 - val_accuracy: 0.9464\n",
            "Epoch 84/200\n",
            "94/94 [==============================] - 10s 107ms/step - loss: 0.0152 - accuracy: 0.9976 - val_loss: 1.5965 - val_accuracy: 0.9454\n",
            "Epoch 85/200\n",
            "94/94 [==============================] - 10s 105ms/step - loss: 0.0333 - accuracy: 0.9962 - val_loss: 1.5918 - val_accuracy: 0.9458\n",
            "Epoch 86/200\n",
            "94/94 [==============================] - 10s 102ms/step - loss: 0.0208 - accuracy: 0.9977 - val_loss: 1.5067 - val_accuracy: 0.9461\n",
            "Epoch 87/200\n",
            "94/94 [==============================] - 9s 101ms/step - loss: 0.0119 - accuracy: 0.9984 - val_loss: 1.5671 - val_accuracy: 0.9466\n",
            "Epoch 88/200\n",
            "94/94 [==============================] - 9s 100ms/step - loss: 0.0079 - accuracy: 0.9987 - val_loss: 1.5608 - val_accuracy: 0.9477\n",
            "Epoch 89/200\n",
            "94/94 [==============================] - 10s 112ms/step - loss: 0.0285 - accuracy: 0.9959 - val_loss: 1.7699 - val_accuracy: 0.9425\n",
            "Epoch 90/200\n",
            "94/94 [==============================] - 11s 113ms/step - loss: 0.0250 - accuracy: 0.9964 - val_loss: 1.6053 - val_accuracy: 0.9447\n",
            "Epoch 91/200\n",
            "94/94 [==============================] - 9s 100ms/step - loss: 0.0183 - accuracy: 0.9967 - val_loss: 1.7012 - val_accuracy: 0.9439\n",
            "Epoch 92/200\n",
            "94/94 [==============================] - 9s 101ms/step - loss: 0.0469 - accuracy: 0.9945 - val_loss: 1.7679 - val_accuracy: 0.9429\n",
            "Epoch 93/200\n",
            "94/94 [==============================] - 9s 100ms/step - loss: 0.0605 - accuracy: 0.9927 - val_loss: 1.8920 - val_accuracy: 0.9417\n",
            "Epoch 94/200\n",
            "94/94 [==============================] - 9s 100ms/step - loss: 0.0452 - accuracy: 0.9949 - val_loss: 1.7366 - val_accuracy: 0.9437\n",
            "Epoch 95/200\n",
            "94/94 [==============================] - 9s 100ms/step - loss: 0.0353 - accuracy: 0.9960 - val_loss: 1.7226 - val_accuracy: 0.9452\n",
            "Epoch 96/200\n",
            "94/94 [==============================] - 9s 99ms/step - loss: 0.0290 - accuracy: 0.9956 - val_loss: 1.7485 - val_accuracy: 0.9450\n",
            "Epoch 97/200\n",
            "94/94 [==============================] - 10s 109ms/step - loss: 0.0524 - accuracy: 0.9953 - val_loss: 1.7440 - val_accuracy: 0.9434\n",
            "Epoch 98/200\n",
            "94/94 [==============================] - 10s 103ms/step - loss: 0.0388 - accuracy: 0.9958 - val_loss: 1.8253 - val_accuracy: 0.9443\n",
            "Epoch 99/200\n",
            "94/94 [==============================] - 10s 101ms/step - loss: 0.0430 - accuracy: 0.9948 - val_loss: 1.8283 - val_accuracy: 0.9444\n",
            "Epoch 100/200\n",
            "94/94 [==============================] - 10s 104ms/step - loss: 0.0165 - accuracy: 0.9974 - val_loss: 1.7337 - val_accuracy: 0.9466\n",
            "Epoch 101/200\n",
            "94/94 [==============================] - 10s 103ms/step - loss: 0.0161 - accuracy: 0.9979 - val_loss: 1.8406 - val_accuracy: 0.9416\n",
            "Epoch 102/200\n",
            "94/94 [==============================] - 10s 103ms/step - loss: 0.0111 - accuracy: 0.9981 - val_loss: 1.8064 - val_accuracy: 0.9438\n",
            "Epoch 103/200\n",
            "94/94 [==============================] - 10s 101ms/step - loss: 0.0217 - accuracy: 0.9975 - val_loss: 1.7722 - val_accuracy: 0.9463\n",
            "Epoch 104/200\n",
            "94/94 [==============================] - 10s 102ms/step - loss: 0.0138 - accuracy: 0.9977 - val_loss: 1.7842 - val_accuracy: 0.9485\n",
            "Epoch 105/200\n",
            "94/94 [==============================] - 10s 103ms/step - loss: 0.0253 - accuracy: 0.9967 - val_loss: 1.8584 - val_accuracy: 0.9458\n",
            "Epoch 106/200\n",
            "94/94 [==============================] - 10s 105ms/step - loss: 0.0285 - accuracy: 0.9968 - val_loss: 1.8950 - val_accuracy: 0.9422\n",
            "Epoch 107/200\n",
            "94/94 [==============================] - 10s 102ms/step - loss: 0.0180 - accuracy: 0.9982 - val_loss: 1.9652 - val_accuracy: 0.9391\n",
            "Epoch 108/200\n",
            "94/94 [==============================] - 10s 103ms/step - loss: 0.0223 - accuracy: 0.9974 - val_loss: 1.9325 - val_accuracy: 0.9422\n",
            "Epoch 109/200\n",
            "94/94 [==============================] - 10s 104ms/step - loss: 0.0290 - accuracy: 0.9967 - val_loss: 2.0921 - val_accuracy: 0.9386\n",
            "Epoch 110/200\n",
            "94/94 [==============================] - 10s 105ms/step - loss: 0.0740 - accuracy: 0.9934 - val_loss: 1.9444 - val_accuracy: 0.9424\n",
            "Epoch 111/200\n",
            "94/94 [==============================] - 10s 106ms/step - loss: 0.0557 - accuracy: 0.9947 - val_loss: 2.0379 - val_accuracy: 0.9429\n",
            "Epoch 112/200\n",
            "94/94 [==============================] - 10s 105ms/step - loss: 0.0529 - accuracy: 0.9947 - val_loss: 2.1015 - val_accuracy: 0.9410\n",
            "Epoch 113/200\n",
            "94/94 [==============================] - 10s 106ms/step - loss: 0.0594 - accuracy: 0.9938 - val_loss: 2.0063 - val_accuracy: 0.9447\n",
            "Epoch 114/200\n",
            "94/94 [==============================] - 10s 104ms/step - loss: 0.0275 - accuracy: 0.9964 - val_loss: 1.9901 - val_accuracy: 0.9447\n",
            "Epoch 115/200\n",
            "94/94 [==============================] - 10s 105ms/step - loss: 0.0138 - accuracy: 0.9982 - val_loss: 1.8964 - val_accuracy: 0.9470\n",
            "Epoch 116/200\n",
            "94/94 [==============================] - 10s 105ms/step - loss: 0.0018 - accuracy: 0.9996 - val_loss: 1.9038 - val_accuracy: 0.9475\n",
            "Epoch 117/200\n",
            "94/94 [==============================] - 10s 104ms/step - loss: 0.0027 - accuracy: 0.9995 - val_loss: 1.9484 - val_accuracy: 0.9459\n",
            "Epoch 118/200\n",
            "94/94 [==============================] - 10s 104ms/step - loss: 0.0041 - accuracy: 0.9993 - val_loss: 1.8804 - val_accuracy: 0.9481\n",
            "Epoch 119/200\n",
            "94/94 [==============================] - 10s 104ms/step - loss: 0.0020 - accuracy: 0.9997 - val_loss: 1.9305 - val_accuracy: 0.9465\n",
            "Epoch 120/200\n",
            "94/94 [==============================] - 10s 105ms/step - loss: 0.0049 - accuracy: 0.9989 - val_loss: 2.0195 - val_accuracy: 0.9465\n",
            "Epoch 121/200\n",
            "94/94 [==============================] - 10s 105ms/step - loss: 0.0075 - accuracy: 0.9988 - val_loss: 1.9282 - val_accuracy: 0.9458\n",
            "Epoch 122/200\n",
            "94/94 [==============================] - 10s 105ms/step - loss: 0.0503 - accuracy: 0.9954 - val_loss: 2.2885 - val_accuracy: 0.9412\n",
            "Epoch 123/200\n",
            "94/94 [==============================] - 10s 105ms/step - loss: 0.0639 - accuracy: 0.9935 - val_loss: 2.0996 - val_accuracy: 0.9434\n",
            "Epoch 124/200\n",
            "94/94 [==============================] - 10s 103ms/step - loss: 0.0829 - accuracy: 0.9922 - val_loss: 2.3787 - val_accuracy: 0.9414\n",
            "Epoch 125/200\n",
            "94/94 [==============================] - 10s 105ms/step - loss: 0.0566 - accuracy: 0.9953 - val_loss: 2.0542 - val_accuracy: 0.9441\n",
            "Epoch 126/200\n",
            "94/94 [==============================] - 10s 103ms/step - loss: 0.0588 - accuracy: 0.9947 - val_loss: 2.2071 - val_accuracy: 0.9418\n",
            "Epoch 127/200\n",
            "94/94 [==============================] - 10s 104ms/step - loss: 0.0271 - accuracy: 0.9976 - val_loss: 2.1715 - val_accuracy: 0.9438\n",
            "Epoch 128/200\n",
            "94/94 [==============================] - 10s 105ms/step - loss: 0.0175 - accuracy: 0.9983 - val_loss: 2.2352 - val_accuracy: 0.9440\n",
            "Epoch 129/200\n",
            "94/94 [==============================] - 10s 106ms/step - loss: 0.0177 - accuracy: 0.9976 - val_loss: 2.2338 - val_accuracy: 0.9405\n",
            "Epoch 130/200\n",
            "94/94 [==============================] - 10s 108ms/step - loss: 0.0280 - accuracy: 0.9970 - val_loss: 2.1758 - val_accuracy: 0.9425\n",
            "Epoch 131/200\n",
            "94/94 [==============================] - 10s 109ms/step - loss: 0.0062 - accuracy: 0.9983 - val_loss: 2.1280 - val_accuracy: 0.9448\n",
            "Epoch 132/200\n",
            "94/94 [==============================] - 10s 104ms/step - loss: 0.0140 - accuracy: 0.9977 - val_loss: 2.1884 - val_accuracy: 0.9422\n",
            "Epoch 133/200\n",
            "94/94 [==============================] - 10s 103ms/step - loss: 0.0163 - accuracy: 0.9977 - val_loss: 2.1709 - val_accuracy: 0.9453\n",
            "Epoch 134/200\n",
            "94/94 [==============================] - 10s 104ms/step - loss: 0.0236 - accuracy: 0.9977 - val_loss: 2.1817 - val_accuracy: 0.9414\n",
            "Epoch 135/200\n",
            "94/94 [==============================] - 9s 97ms/step - loss: 0.0266 - accuracy: 0.9968 - val_loss: 2.5425 - val_accuracy: 0.9336\n",
            "Epoch 136/200\n",
            "94/94 [==============================] - 9s 94ms/step - loss: 0.0623 - accuracy: 0.9942 - val_loss: 2.3440 - val_accuracy: 0.9404\n",
            "Epoch 137/200\n",
            "94/94 [==============================] - 9s 95ms/step - loss: 0.0464 - accuracy: 0.9953 - val_loss: 2.1539 - val_accuracy: 0.9457\n",
            "Epoch 138/200\n",
            "94/94 [==============================] - 9s 97ms/step - loss: 0.0374 - accuracy: 0.9971 - val_loss: 2.4328 - val_accuracy: 0.9422\n",
            "Epoch 139/200\n",
            "94/94 [==============================] - 9s 97ms/step - loss: 0.0280 - accuracy: 0.9970 - val_loss: 2.4306 - val_accuracy: 0.9410\n",
            "Epoch 140/200\n",
            "94/94 [==============================] - 9s 97ms/step - loss: 0.0378 - accuracy: 0.9968 - val_loss: 2.3268 - val_accuracy: 0.9448\n",
            "Epoch 141/200\n",
            "94/94 [==============================] - 9s 93ms/step - loss: 0.0387 - accuracy: 0.9967 - val_loss: 2.1735 - val_accuracy: 0.9448\n",
            "Epoch 142/200\n",
            "94/94 [==============================] - 9s 93ms/step - loss: 0.0195 - accuracy: 0.9975 - val_loss: 2.3511 - val_accuracy: 0.9450\n",
            "Epoch 143/200\n",
            "94/94 [==============================] - 9s 94ms/step - loss: 0.0209 - accuracy: 0.9975 - val_loss: 2.3204 - val_accuracy: 0.9428\n",
            "Epoch 144/200\n",
            "94/94 [==============================] - 9s 92ms/step - loss: 0.0165 - accuracy: 0.9979 - val_loss: 2.3541 - val_accuracy: 0.9443\n",
            "Epoch 145/200\n",
            "94/94 [==============================] - 9s 92ms/step - loss: 0.0150 - accuracy: 0.9977 - val_loss: 2.4543 - val_accuracy: 0.9438\n",
            "Epoch 146/200\n",
            "94/94 [==============================] - 9s 92ms/step - loss: 0.0320 - accuracy: 0.9971 - val_loss: 2.4842 - val_accuracy: 0.9431\n",
            "Epoch 147/200\n",
            "94/94 [==============================] - 9s 92ms/step - loss: 0.0189 - accuracy: 0.9973 - val_loss: 2.5410 - val_accuracy: 0.9402\n",
            "Epoch 148/200\n",
            "94/94 [==============================] - 9s 95ms/step - loss: 0.0101 - accuracy: 0.9984 - val_loss: 2.4365 - val_accuracy: 0.9476\n",
            "Epoch 149/200\n",
            "94/94 [==============================] - 9s 94ms/step - loss: 0.0091 - accuracy: 0.9981 - val_loss: 2.3794 - val_accuracy: 0.9475\n",
            "Epoch 150/200\n",
            "94/94 [==============================] - 9s 93ms/step - loss: 0.0161 - accuracy: 0.9981 - val_loss: 2.3486 - val_accuracy: 0.9481\n",
            "Epoch 151/200\n",
            "94/94 [==============================] - 9s 94ms/step - loss: 0.0129 - accuracy: 0.9984 - val_loss: 2.3296 - val_accuracy: 0.9483\n",
            "Epoch 152/200\n",
            "94/94 [==============================] - 9s 94ms/step - loss: 0.0135 - accuracy: 0.9987 - val_loss: 2.4450 - val_accuracy: 0.9434\n",
            "Epoch 153/200\n",
            "94/94 [==============================] - 11s 120ms/step - loss: 0.0072 - accuracy: 0.9988 - val_loss: 2.4126 - val_accuracy: 0.9453\n",
            "Epoch 154/200\n",
            "94/94 [==============================] - 9s 94ms/step - loss: 0.0322 - accuracy: 0.9975 - val_loss: 2.6894 - val_accuracy: 0.9402\n",
            "Epoch 155/200\n",
            "94/94 [==============================] - 9s 95ms/step - loss: 0.0408 - accuracy: 0.9962 - val_loss: 2.6289 - val_accuracy: 0.9419\n",
            "Epoch 156/200\n",
            "94/94 [==============================] - 9s 96ms/step - loss: 0.0298 - accuracy: 0.9972 - val_loss: 2.4390 - val_accuracy: 0.9473\n",
            "Epoch 157/200\n",
            "94/94 [==============================] - 9s 92ms/step - loss: 0.0091 - accuracy: 0.9991 - val_loss: 2.4611 - val_accuracy: 0.9481\n",
            "Epoch 158/200\n",
            "94/94 [==============================] - 9s 92ms/step - loss: 0.0138 - accuracy: 0.9985 - val_loss: 2.6630 - val_accuracy: 0.9441\n",
            "Epoch 159/200\n",
            "94/94 [==============================] - 9s 92ms/step - loss: 0.0259 - accuracy: 0.9972 - val_loss: 2.9516 - val_accuracy: 0.9404\n",
            "Epoch 160/200\n",
            "94/94 [==============================] - 9s 91ms/step - loss: 0.0155 - accuracy: 0.9983 - val_loss: 2.5722 - val_accuracy: 0.9462\n",
            "Epoch 161/200\n",
            "94/94 [==============================] - 9s 91ms/step - loss: 0.0238 - accuracy: 0.9972 - val_loss: 2.7766 - val_accuracy: 0.9427\n",
            "Epoch 162/200\n",
            "94/94 [==============================] - 9s 94ms/step - loss: 0.0295 - accuracy: 0.9979 - val_loss: 2.5695 - val_accuracy: 0.9422\n",
            "Epoch 163/200\n",
            "94/94 [==============================] - 9s 94ms/step - loss: 0.0243 - accuracy: 0.9978 - val_loss: 2.5107 - val_accuracy: 0.9479\n",
            "Epoch 164/200\n",
            "94/94 [==============================] - 9s 94ms/step - loss: 0.0126 - accuracy: 0.9987 - val_loss: 2.7235 - val_accuracy: 0.9396\n",
            "Epoch 165/200\n",
            "94/94 [==============================] - 9s 97ms/step - loss: 0.0247 - accuracy: 0.9978 - val_loss: 2.5389 - val_accuracy: 0.9453\n",
            "Epoch 166/200\n",
            "94/94 [==============================] - 9s 94ms/step - loss: 0.0119 - accuracy: 0.9984 - val_loss: 2.7830 - val_accuracy: 0.9411\n",
            "Epoch 167/200\n",
            "94/94 [==============================] - 9s 94ms/step - loss: 0.0223 - accuracy: 0.9978 - val_loss: 2.9399 - val_accuracy: 0.9417\n",
            "Epoch 168/200\n",
            "94/94 [==============================] - 9s 97ms/step - loss: 0.0299 - accuracy: 0.9970 - val_loss: 2.8048 - val_accuracy: 0.9439\n",
            "Epoch 169/200\n",
            "94/94 [==============================] - 9s 94ms/step - loss: 0.0485 - accuracy: 0.9968 - val_loss: 2.6821 - val_accuracy: 0.9456\n",
            "Epoch 170/200\n",
            "94/94 [==============================] - 9s 96ms/step - loss: 0.0442 - accuracy: 0.9965 - val_loss: 2.7494 - val_accuracy: 0.9445\n",
            "Epoch 171/200\n",
            "94/94 [==============================] - 9s 94ms/step - loss: 0.0483 - accuracy: 0.9960 - val_loss: 2.9922 - val_accuracy: 0.9395\n",
            "Epoch 172/200\n",
            "94/94 [==============================] - 9s 94ms/step - loss: 0.0460 - accuracy: 0.9961 - val_loss: 2.7958 - val_accuracy: 0.9445\n",
            "Epoch 173/200\n",
            "94/94 [==============================] - 9s 99ms/step - loss: 0.0214 - accuracy: 0.9980 - val_loss: 2.6485 - val_accuracy: 0.9445\n",
            "Epoch 174/200\n",
            "94/94 [==============================] - 9s 100ms/step - loss: 0.0260 - accuracy: 0.9972 - val_loss: 2.8356 - val_accuracy: 0.9454\n",
            "Epoch 175/200\n",
            "94/94 [==============================] - 9s 99ms/step - loss: 0.0325 - accuracy: 0.9975 - val_loss: 2.9532 - val_accuracy: 0.9424\n",
            "Epoch 176/200\n",
            "94/94 [==============================] - 9s 93ms/step - loss: 0.0397 - accuracy: 0.9967 - val_loss: 2.7926 - val_accuracy: 0.9461\n",
            "Epoch 177/200\n",
            "94/94 [==============================] - 9s 93ms/step - loss: 0.0085 - accuracy: 0.9990 - val_loss: 2.7632 - val_accuracy: 0.9458\n",
            "Epoch 178/200\n",
            "94/94 [==============================] - 9s 94ms/step - loss: 0.0144 - accuracy: 0.9991 - val_loss: 2.9158 - val_accuracy: 0.9465\n",
            "Epoch 179/200\n",
            "94/94 [==============================] - 9s 96ms/step - loss: 0.0098 - accuracy: 0.9991 - val_loss: 3.0151 - val_accuracy: 0.9415\n",
            "Epoch 180/200\n",
            "94/94 [==============================] - 10s 105ms/step - loss: 0.0135 - accuracy: 0.9984 - val_loss: 2.7055 - val_accuracy: 0.9454\n",
            "Epoch 181/200\n",
            "94/94 [==============================] - 10s 104ms/step - loss: 0.0118 - accuracy: 0.9987 - val_loss: 2.7922 - val_accuracy: 0.9470\n",
            "Epoch 182/200\n",
            "94/94 [==============================] - 10s 106ms/step - loss: 0.0113 - accuracy: 0.9986 - val_loss: 2.9060 - val_accuracy: 0.9447\n",
            "Epoch 183/200\n",
            "94/94 [==============================] - 10s 107ms/step - loss: 0.0143 - accuracy: 0.9985 - val_loss: 2.9243 - val_accuracy: 0.9453\n",
            "Epoch 184/200\n",
            "94/94 [==============================] - 10s 104ms/step - loss: 0.0204 - accuracy: 0.9982 - val_loss: 2.8708 - val_accuracy: 0.9453\n",
            "Epoch 185/200\n",
            "94/94 [==============================] - 10s 104ms/step - loss: 0.0222 - accuracy: 0.9977 - val_loss: 2.7987 - val_accuracy: 0.9467\n",
            "Epoch 186/200\n",
            "94/94 [==============================] - 10s 102ms/step - loss: 0.0204 - accuracy: 0.9980 - val_loss: 3.1633 - val_accuracy: 0.9401\n",
            "Epoch 187/200\n",
            "94/94 [==============================] - 9s 101ms/step - loss: 0.0188 - accuracy: 0.9983 - val_loss: 3.1675 - val_accuracy: 0.9380\n",
            "Epoch 188/200\n",
            "94/94 [==============================] - 9s 100ms/step - loss: 0.0432 - accuracy: 0.9972 - val_loss: 3.0481 - val_accuracy: 0.9445\n",
            "Epoch 189/200\n",
            "94/94 [==============================] - 9s 100ms/step - loss: 0.0249 - accuracy: 0.9978 - val_loss: 2.9665 - val_accuracy: 0.9447\n",
            "Epoch 190/200\n",
            "94/94 [==============================] - 9s 101ms/step - loss: 0.0254 - accuracy: 0.9974 - val_loss: 3.0474 - val_accuracy: 0.9452\n",
            "Epoch 191/200\n",
            "94/94 [==============================] - 10s 102ms/step - loss: 0.0288 - accuracy: 0.9973 - val_loss: 2.8574 - val_accuracy: 0.9464\n",
            "Epoch 192/200\n",
            "94/94 [==============================] - 10s 105ms/step - loss: 0.0279 - accuracy: 0.9975 - val_loss: 3.0401 - val_accuracy: 0.9455\n",
            "Epoch 193/200\n",
            "94/94 [==============================] - 10s 106ms/step - loss: 0.0349 - accuracy: 0.9977 - val_loss: 3.0959 - val_accuracy: 0.9454\n",
            "Epoch 194/200\n",
            "94/94 [==============================] - 9s 95ms/step - loss: 0.0407 - accuracy: 0.9970 - val_loss: 3.1768 - val_accuracy: 0.9424\n",
            "Epoch 195/200\n",
            "94/94 [==============================] - 9s 94ms/step - loss: 0.0150 - accuracy: 0.9987 - val_loss: 2.8708 - val_accuracy: 0.9487\n",
            "Epoch 196/200\n",
            "94/94 [==============================] - 9s 94ms/step - loss: 0.0076 - accuracy: 0.9991 - val_loss: 3.0242 - val_accuracy: 0.9465\n",
            "Epoch 197/200\n",
            "94/94 [==============================] - 9s 96ms/step - loss: 0.0072 - accuracy: 0.9991 - val_loss: 2.9108 - val_accuracy: 0.9471\n",
            "Epoch 198/200\n",
            "94/94 [==============================] - 9s 95ms/step - loss: 0.0163 - accuracy: 0.9985 - val_loss: 3.1967 - val_accuracy: 0.9437\n",
            "Epoch 199/200\n",
            "94/94 [==============================] - 9s 94ms/step - loss: 0.0276 - accuracy: 0.9974 - val_loss: 3.1320 - val_accuracy: 0.9456\n",
            "Epoch 200/200\n",
            "94/94 [==============================] - 9s 93ms/step - loss: 0.0122 - accuracy: 0.9985 - val_loss: 3.0780 - val_accuracy: 0.9465\n"
          ],
          "name": "stdout"
        },
        {
          "output_type": "execute_result",
          "data": {
            "text/plain": [
              "<tensorflow.python.keras.callbacks.History at 0x7fdc9861ff60>"
            ]
          },
          "metadata": {
            "tags": []
          },
          "execution_count": 113
        }
      ]
    },
    {
      "cell_type": "code",
      "metadata": {
        "id": "ei1uEBlqP0b4",
        "colab_type": "code",
        "colab": {
          "base_uri": "https://localhost:8080/",
          "height": 286
        },
        "outputId": "1e5e124f-b020-4055-c26f-908c2f8739ec"
      },
      "source": [
        "model.summary()"
      ],
      "execution_count": 114,
      "outputs": [
        {
          "output_type": "stream",
          "text": [
            "Model: \"sequential_13\"\n",
            "_________________________________________________________________\n",
            "Layer (type)                 Output Shape              Param #   \n",
            "=================================================================\n",
            "conv2d_13 (Conv2D)           (None, 27, 27, 32)        160       \n",
            "_________________________________________________________________\n",
            "max_pooling2d_13 (MaxPooling (None, 13, 13, 32)        0         \n",
            "_________________________________________________________________\n",
            "flatten_13 (Flatten)         (None, 5408)              0         \n",
            "_________________________________________________________________\n",
            "dense_13 (Dense)             (None, 10)                54090     \n",
            "=================================================================\n",
            "Total params: 54,250\n",
            "Trainable params: 54,250\n",
            "Non-trainable params: 0\n",
            "_________________________________________________________________\n"
          ],
          "name": "stdout"
        }
      ]
    },
    {
      "cell_type": "code",
      "metadata": {
        "id": "YQNR8dxFioTo",
        "colab_type": "code",
        "colab": {}
      },
      "source": [
        "y_hat = model.predict(x_test, batch_size=32)"
      ],
      "execution_count": 0,
      "outputs": []
    },
    {
      "cell_type": "code",
      "metadata": {
        "id": "lhl86zO0i0B0",
        "colab_type": "code",
        "colab": {
          "base_uri": "https://localhost:8080/",
          "height": 50
        },
        "outputId": "07d477c6-6332-4823-9c8d-59098c881fb9"
      },
      "source": [
        "model.evaluate(x_test, y_test)"
      ],
      "execution_count": 155,
      "outputs": [
        {
          "output_type": "stream",
          "text": [
            "313/313 [==============================] - 2s 6ms/step - loss: 2.9926 - accuracy: 0.9507\n"
          ],
          "name": "stdout"
        },
        {
          "output_type": "execute_result",
          "data": {
            "text/plain": [
              "[2.9925537109375, 0.9506999850273132]"
            ]
          },
          "metadata": {
            "tags": []
          },
          "execution_count": 155
        }
      ]
    },
    {
      "cell_type": "code",
      "metadata": {
        "id": "5yHFUOgwjL3e",
        "colab_type": "code",
        "colab": {
          "base_uri": "https://localhost:8080/",
          "height": 282
        },
        "outputId": "cc594821-19b9-4b9f-d479-c61d8811e82d"
      },
      "source": [
        "sns.heatmap(tf.math.confusion_matrix(y_hat.argmax(axis=1), y_test ), cmap='Blues_r')"
      ],
      "execution_count": 156,
      "outputs": [
        {
          "output_type": "execute_result",
          "data": {
            "text/plain": [
              "<matplotlib.axes._subplots.AxesSubplot at 0x7fdc9026cac8>"
            ]
          },
          "metadata": {
            "tags": []
          },
          "execution_count": 156
        },
        {
          "output_type": "display_data",
          "data": {
            "image/png": "[encoded data removed]",
            "text/plain": [
              "<Figure size 432x288 with 2 Axes>"
            ]
          },
          "metadata": {
            "tags": [],
            "needs_background": "light"
          }
        }
      ]
    },
    {
      "cell_type": "code",
      "metadata": {
        "id": "rjjwPXQEjdyi",
        "colab_type": "code",
        "colab": {
          "base_uri": "https://localhost:8080/",
          "height": 218
        },
        "outputId": "e60a6702-5b1a-4f83-81b4-f2e884a1deda"
      },
      "source": [
        "tf.math.confusion_matrix(y_hat.argmax(axis=1), y_test )"
      ],
      "execution_count": 157,
      "outputs": [
        {
          "output_type": "execute_result",
          "data": {
            "text/plain": [
              "<tf.Tensor: shape=(10, 10), dtype=int32, numpy=\n",
              "array([[ 955,    3,    1,    1,    1,    3,   10,    0,    3,    6],\n",
              "       [   0, 1121,   14,    1,    3,    3,    3,    9,    6,    5],\n",
              "       [   3,    3,  972,   14,    4,    2,    5,   20,    7,    1],\n",
              "       [   1,    4,    8,  955,    1,   11,    0,   10,   22,    2],\n",
              "       [   1,    0,    8,    2,  941,    2,    7,    4,    7,   10],\n",
              "       [   5,    1,    1,   17,    0,  852,   11,    0,   18,    9],\n",
              "       [   6,    0,    3,    1,    3,    9,  914,    0,    2,    0],\n",
              "       [   2,    1,   10,    7,    3,    4,    1,  967,   14,   16],\n",
              "       [   7,    2,    9,    5,    4,    3,    5,    4,  878,    8],\n",
              "       [   0,    0,    6,    7,   22,    3,    2,   14,   17,  952]],\n",
              "      dtype=int32)>"
            ]
          },
          "metadata": {
            "tags": []
          },
          "execution_count": 157
        }
      ]
    },
    {
      "cell_type": "code",
      "metadata": {
        "id": "nlLfLQS3lH0E",
        "colab_type": "code",
        "colab": {
          "base_uri": "https://localhost:8080/",
          "height": 302
        },
        "outputId": "188d144e-2fce-440a-e2b7-12e745bab646"
      },
      "source": [
        "print(metrics.classification_report(y_hat.argmax(axis=1), y_test))"
      ],
      "execution_count": 139,
      "outputs": [
        {
          "output_type": "stream",
          "text": [
            "              precision    recall  f1-score   support\n",
            "\n",
            "           0       0.97      0.97      0.97       983\n",
            "           1       0.99      0.96      0.97      1165\n",
            "           2       0.94      0.94      0.94      1031\n",
            "           3       0.95      0.94      0.94      1014\n",
            "           4       0.96      0.96      0.96       982\n",
            "           5       0.96      0.93      0.94       914\n",
            "           6       0.95      0.97      0.96       938\n",
            "           7       0.94      0.94      0.94      1025\n",
            "           8       0.90      0.95      0.92       925\n",
            "           9       0.94      0.93      0.94      1023\n",
            "\n",
            "    accuracy                           0.95     10000\n",
            "   macro avg       0.95      0.95      0.95     10000\n",
            "weighted avg       0.95      0.95      0.95     10000\n",
            "\n"
          ],
          "name": "stdout"
        }
      ]
    },
    {
      "cell_type": "code",
      "metadata": {
        "id": "ZN0cOT75lSAJ",
        "colab_type": "code",
        "colab": {
          "base_uri": "https://localhost:8080/",
          "height": 336
        },
        "outputId": "906b0b90-667d-4e97-b9a9-55507750bb80"
      },
      "source": [
        "plt.hist((y_hat.argmax(axis=1) - y_test))"
      ],
      "execution_count": 154,
      "outputs": [
        {
          "output_type": "execute_result",
          "data": {
            "text/plain": [
              "(array([  14.,   35.,   93.,   28.,  109., 9551.,   58.,   30.,   65.,\n",
              "          17.]),\n",
              " array([-9. , -7.3, -5.6, -3.9, -2.2, -0.5,  1.2,  2.9,  4.6,  6.3,  8. ]),\n",
              " <a list of 10 Patch objects>)"
            ]
          },
          "metadata": {
            "tags": []
          },
          "execution_count": 154
        },
        {
          "output_type": "display_data",
          "data": {
            "image/png": "[encoded data removed]",
            "text/plain": [
              "<Figure size 432x288 with 1 Axes>"
            ]
          },
          "metadata": {
            "tags": [],
            "needs_background": "light"
          }
        }
      ]
    },
    {
      "cell_type": "code",
      "metadata": {
        "id": "jmFRraHslnk5",
        "colab_type": "code",
        "colab": {}
      },
      "source": [
        ""
      ],
      "execution_count": 0,
      "outputs": []
    },
    {
      "cell_type": "code",
      "metadata": {
        "id": "HsV2p6-Hl6Wa",
        "colab_type": "code",
        "colab": {}
      },
      "source": [
        ""
      ],
      "execution_count": 0,
      "outputs": []
    }
  ]
}