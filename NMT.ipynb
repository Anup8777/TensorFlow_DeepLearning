{
  "nbformat": 4,
  "nbformat_minor": 0,
  "metadata": {
    "colab": {
      "name": "Task_5.ipynb",
      "provenance": [],
      "collapsed_sections": [
        "PceQWlkgcQXW",
        "X1OGqO29cJPK"
      ],
      "mount_file_id": "1UW7O9jP9Kxe-V2RjAbRkr-iOA8GpymG4",
      "authorship_tag": "ABX9TyMEejCNoQoaDU7H6//l6ja7",
      "include_colab_link": true
    },
    "kernelspec": {
      "name": "python3",
      "display_name": "Python 3"
    },
    "accelerator": "GPU"
  },
  "cells": [
    {
      "cell_type": "markdown",
      "metadata": {
        "id": "view-in-github",
        "colab_type": "text"
      },
      "source": [
        "<a href=\"https://colab.research.google.com/github/Anup8777/TensorFlow_DeepLearning/blob/master/NMT.ipynb\" target=\"_parent\"><img src=\"https://colab.research.google.com/assets/colab-badge.svg\" alt=\"Open In Colab\"/></a>"
      ]
    },
    {
      "cell_type": "code",
      "metadata": {
        "id": "oifNzUVjdzjs",
        "colab_type": "code",
        "colab": {}
      },
      "source": [
        "import tensorflow as tf\n",
        "\n",
        "import matplotlib.pyplot as plt\n",
        "import matplotlib.ticker as ticker\n",
        "from sklearn.model_selection import train_test_split\n",
        "\n",
        "import unicodedata\n",
        "import re\n",
        "import numpy as np\n",
        "import os\n",
        "import io\n",
        "import time"
      ],
      "execution_count": 1,
      "outputs": []
    },
    {
      "cell_type": "code",
      "metadata": {
        "id": "wugtLMGVf9tG",
        "colab_type": "code",
        "colab": {}
      },
      "source": [
        "flag = \"kan-eng\" # deu -eng\n",
        "flag2 = \"deu-eng\"\n",
        "eng_alphabet = False\n",
        "path_to_file = \"/content/drive/My Drive/IDL Project/\"+flag"
      ],
      "execution_count": 38,
      "outputs": []
    },
    {
      "cell_type": "code",
      "metadata": {
        "id": "9SWbc-aKzPaz",
        "colab_type": "code",
        "colab": {}
      },
      "source": [
        "os.chdir('/content/drive/My Drive/IDL Project/'+flag)"
      ],
      "execution_count": 39,
      "outputs": []
    },
    {
      "cell_type": "code",
      "metadata": {
        "id": "QLTcL2jNg2K_",
        "colab_type": "code",
        "colab": {}
      },
      "source": [
        "def unicode_to_ascii(s):\n",
        "  return ''.join(c for c in unicodedata.normalize('NFD', s)\n",
        "      if unicodedata.category(c) != 'Mn')"
      ],
      "execution_count": 4,
      "outputs": []
    },
    {
      "cell_type": "code",
      "metadata": {
        "id": "1VE4JDUkjNFs",
        "colab_type": "code",
        "colab": {}
      },
      "source": [
        "def preprocess_sentence(w):\n",
        "  w = unicode_to_ascii(w.lower().strip())\n",
        "\n",
        "  # creating a space between a word and the punctuation following it\n",
        "  # eg: \"he is a boy.\" => \"he is a boy .\"\n",
        "  # Reference:- https://stackoverflow.com/questions/3645931/python-padding-punctuation-with-white-spaces-keeping-punctuation\n",
        "  w = re.sub(r\"([?.!,¿])\", r\" \\1 \", w)\n",
        "  w = re.sub(r'[\" \"]+', \" \", w)\n",
        "\n",
        "  \n",
        "  # replacing everything with space except (a-z, A-Z, \".\", \"?\", \"!\", \",\")\n",
        "  if eng_alphabet:\n",
        "    w = re.sub(r\"[^a-zA-Z?.!,¿]+\", \" \", w) ##########\n",
        "\n",
        "  # the language does not contain english alphabets\n",
        "  \n",
        "\n",
        "  w = w.strip()\n",
        "\n",
        "  # adding a start and an end token to the sentence\n",
        "  # so that the model know when to start and stop predicting.\n",
        "  w = '<start> ' + w + ' <end>'\n",
        "  return w"
      ],
      "execution_count": 35,
      "outputs": []
    },
    {
      "cell_type": "code",
      "metadata": {
        "id": "ar2UxEaikNeH",
        "colab_type": "code",
        "colab": {}
      },
      "source": [
        "# 1. Remove the accents\n",
        "# 2. Clean the sentences\n",
        "# 3. Return word pairs in the format: [ENGLISH, SPANISH]\n",
        "def create_dataset(path, num_examples):\n",
        "  lines = io.open(path, encoding='UTF-8').read().strip().split('\\n')\n",
        "\n",
        "  word_pairs = [[preprocess_sentence(w) for w in l.split('\\t')]  for l in lines[:num_examples]]\n",
        "  \n",
        "  \n",
        "  return zip(*word_pairs)"
      ],
      "execution_count": 6,
      "outputs": []
    },
    {
      "cell_type": "code",
      "metadata": {
        "id": "O3HkPsu3mT3f",
        "colab_type": "code",
        "colab": {}
      },
      "source": [
        "def tokenize(lang):\n",
        "  lang_tokenizer = tf.keras.preprocessing.text.Tokenizer(\n",
        "      filters='')\n",
        "  lang_tokenizer.fit_on_texts(lang)\n",
        "\n",
        "  tensor = lang_tokenizer.texts_to_sequences(lang)\n",
        "\n",
        "  tensor = tf.keras.preprocessing.sequence.pad_sequences(tensor,\n",
        "                                                         padding='post')\n",
        "\n",
        "  return tensor, lang_tokenizer"
      ],
      "execution_count": 7,
      "outputs": []
    },
    {
      "cell_type": "code",
      "metadata": {
        "id": "aOJfZe062GVu",
        "colab_type": "code",
        "colab": {}
      },
      "source": [
        "def load_dataset(path, num_examples=None):\n",
        "  # creating cleaned input, output pairs\n",
        "  targ_lang, inp_lang,_ = create_dataset(path, num_examples)\n",
        "\n",
        "  input_tensor, inp_lang_tokenizer = tokenize(inp_lang)\n",
        "  target_tensor, targ_lang_tokenizer = tokenize(targ_lang)\n",
        "\n",
        "\n",
        "  return input_tensor, target_tensor, inp_lang_tokenizer, targ_lang_tokenizer"
      ],
      "execution_count": 8,
      "outputs": []
    },
    {
      "cell_type": "code",
      "metadata": {
        "id": "zYozJQWG23De",
        "colab_type": "code",
        "colab": {}
      },
      "source": [
        "def convert(lang, tensor):\n",
        "  for t in tensor:\n",
        "    if t!=0:\n",
        "      print (\"%d ----> %s\" % (t, lang.index_word[t]))"
      ],
      "execution_count": 9,
      "outputs": []
    },
    {
      "cell_type": "code",
      "metadata": {
        "id": "nh1IFHp73KbU",
        "colab_type": "code",
        "colab": {}
      },
      "source": [
        "class Encoder(tf.keras.Model):\n",
        "  def __init__(self, vocab_size, embedding_dim, enc_units, batch_sz):\n",
        "    super(Encoder, self).__init__()\n",
        "    self.batch_sz = batch_sz\n",
        "    self.enc_units = enc_units\n",
        "    self.embedding = tf.keras.layers.Embedding(vocab_size, embedding_dim)\n",
        "    self.gru = tf.keras.layers.GRU(self.enc_units,\n",
        "                                   return_sequences=True,\n",
        "                                   return_state=True,\n",
        "                                   recurrent_initializer='glorot_uniform')\n",
        "\n",
        "  def call(self, x, hidden):\n",
        "    x = self.embedding(x)\n",
        "    output, state = self.gru(x, initial_state = hidden)\n",
        "    return output, state\n",
        "\n",
        "  def initialize_hidden_state(self):\n",
        "    return tf.zeros((self.batch_sz, self.enc_units))"
      ],
      "execution_count": 10,
      "outputs": []
    },
    {
      "cell_type": "code",
      "metadata": {
        "id": "oBOXMwqX3XWM",
        "colab_type": "code",
        "colab": {}
      },
      "source": [
        "class BahdanauAttention(tf.keras.layers.Layer):\n",
        "  def __init__(self, units):\n",
        "    super(BahdanauAttention, self).__init__()\n",
        "    self.W1 = tf.keras.layers.Dense(units)\n",
        "    self.W2 = tf.keras.layers.Dense(units)\n",
        "    self.V = tf.keras.layers.Dense(1)\n",
        "\n",
        "  def call(self, query, values):\n",
        "    # query hidden state shape == (batch_size, hidden size)\n",
        "    # query_with_time_axis shape == (batch_size, 1, hidden size)\n",
        "    # values shape == (batch_size, max_len, hidden size)\n",
        "    # we are doing this to broadcast addition along the time axis to calculate the score\n",
        "    query_with_time_axis = tf.expand_dims(query, 1)\n",
        "\n",
        "    # score shape == (batch_size, max_length, 1)\n",
        "    # we get 1 at the last axis because we are applying score to self.V\n",
        "    # the shape of the tensor before applying self.V is (batch_size, max_length, units)\n",
        "    score = self.V(tf.nn.tanh(\n",
        "        self.W1(query_with_time_axis) + self.W2(values)))\n",
        "\n",
        "    # attention_weights shape == (batch_size, max_length, 1)\n",
        "    attention_weights = tf.nn.softmax(score, axis=1)\n",
        "\n",
        "    # context_vector shape after sum == (batch_size, hidden_size)\n",
        "    context_vector = attention_weights * values\n",
        "    context_vector = tf.reduce_sum(context_vector, axis=1)\n",
        "\n",
        "    return context_vector, attention_weights"
      ],
      "execution_count": 11,
      "outputs": []
    },
    {
      "cell_type": "code",
      "metadata": {
        "id": "Qc-WHB1t3hPM",
        "colab_type": "code",
        "colab": {}
      },
      "source": [
        "class Decoder(tf.keras.Model):\n",
        "  def __init__(self, vocab_size, embedding_dim, dec_units, batch_sz):\n",
        "    super(Decoder, self).__init__()\n",
        "    self.batch_sz = batch_sz\n",
        "    self.dec_units = dec_units\n",
        "    self.embedding = tf.keras.layers.Embedding(vocab_size, embedding_dim)\n",
        "    self.gru = tf.keras.layers.GRU(self.dec_units,\n",
        "                                   return_sequences=True,\n",
        "                                   return_state=True,\n",
        "                                   recurrent_initializer='glorot_uniform')\n",
        "    self.fc = tf.keras.layers.Dense(vocab_size)\n",
        "\n",
        "    # used for attention\n",
        "    self.attention = BahdanauAttention(self.dec_units)\n",
        "\n",
        "  def call(self, x, hidden, enc_output):\n",
        "    # enc_output shape == (batch_size, max_length, hidden_size)\n",
        "    context_vector, attention_weights = self.attention(hidden, enc_output)\n",
        "\n",
        "    # x shape after passing through embedding == (batch_size, 1, embedding_dim)\n",
        "    x = self.embedding(x)\n",
        "\n",
        "    # x shape after concatenation == (batch_size, 1, embedding_dim + hidden_size)\n",
        "    x = tf.concat([tf.expand_dims(context_vector, 1), x], axis=-1)\n",
        "\n",
        "    # passing the concatenated vector to the GRU\n",
        "    output, state = self.gru(x)\n",
        "\n",
        "    # output shape == (batch_size * 1, hidden_size)\n",
        "    output = tf.reshape(output, (-1, output.shape[2]))\n",
        "\n",
        "    # output shape == (batch_size, vocab)\n",
        "    x = self.fc(output)\n",
        "\n",
        "    return x, state, attention_weights"
      ],
      "execution_count": 12,
      "outputs": []
    },
    {
      "cell_type": "markdown",
      "metadata": {
        "id": "PceQWlkgcQXW",
        "colab_type": "text"
      },
      "source": [
        "## Kannada - English"
      ]
    },
    {
      "cell_type": "code",
      "metadata": {
        "id": "6Epw6PG0jY08",
        "colab_type": "code",
        "colab": {
          "base_uri": "https://localhost:8080/",
          "height": 51
        },
        "outputId": "9b367687-2159-42f6-bbec-257e70683104"
      },
      "source": [
        "kan_sentence = u\"ಟಾಮ್ ಏಳಿದನು.\"\n",
        "eng_sentence = u\"Tom woke up.\"\n",
        "\n",
        "print(preprocess_sentence(kan_sentence))\n",
        "print(preprocess_sentence(eng_sentence))"
      ],
      "execution_count": 101,
      "outputs": [
        {
          "output_type": "stream",
          "text": [
            "<start> ಟಾಮ ಏಳದನು . <end>\n",
            "<start> tom woke up . <end>\n"
          ],
          "name": "stdout"
        }
      ]
    },
    {
      "cell_type": "code",
      "metadata": {
        "id": "kvQHxntTkUq7",
        "colab_type": "code",
        "colab": {
          "base_uri": "https://localhost:8080/",
          "height": 51
        },
        "outputId": "81fee526-c9c7-4fec-c478-f7308a9d988b"
      },
      "source": [
        "eng, kan, _ = create_dataset(path_to_file+'/kan.txt', None)\n",
        "print(en[-1])\n",
        "print(kan[-1])"
      ],
      "execution_count": 102,
      "outputs": [
        {
          "output_type": "stream",
          "text": [
            "<start> i forgot tom was the one who taught you how to play the guitar . <end>\n",
            "<start> ಟಾಮ ನಮಗ ಗಟಾರ ಭಾರಸುವುದಕಕ ಹೕಳಕೂಟಟನಂದು ನನಗ ಮರತುಹೂೕಯತು . <end>\n"
          ],
          "name": "stdout"
        }
      ]
    },
    {
      "cell_type": "code",
      "metadata": {
        "id": "uOMq7udNm98w",
        "colab_type": "code",
        "colab": {}
      },
      "source": [
        "num_examples = len(en)"
      ],
      "execution_count": 103,
      "outputs": []
    },
    {
      "cell_type": "code",
      "metadata": {
        "id": "SnlhBO0izxXm",
        "colab_type": "code",
        "colab": {}
      },
      "source": [
        "input_tensor, target_tensor, inp_lang, targ_lang = load_dataset(path_to_file+'/kan.txt', num_examples)\n",
        "\n",
        "# Calculate max_length of the target tensors\n",
        "max_length_targ, max_length_inp = target_tensor.shape[1], input_tensor.shape[1]"
      ],
      "execution_count": 104,
      "outputs": []
    },
    {
      "cell_type": "code",
      "metadata": {
        "id": "SsBqh5Y32B3s",
        "colab_type": "code",
        "colab": {
          "base_uri": "https://localhost:8080/",
          "height": 34
        },
        "outputId": "6efe3c4d-375b-4717-8a57-8c46ccbe272b"
      },
      "source": [
        "# Creating training and validation sets using an 80-20 split\n",
        "input_tensor_train, input_tensor_val, target_tensor_train, target_tensor_val = train_test_split(input_tensor, target_tensor, test_size=0.2)\n",
        "\n",
        "# Show length\n",
        "print(len(input_tensor_train), len(target_tensor_train), len(input_tensor_val), len(target_tensor_val))"
      ],
      "execution_count": 105,
      "outputs": [
        {
          "output_type": "stream",
          "text": [
            "119 119 30 30\n"
          ],
          "name": "stdout"
        }
      ]
    },
    {
      "cell_type": "code",
      "metadata": {
        "id": "OLP2xysK29IE",
        "colab_type": "code",
        "colab": {
          "base_uri": "https://localhost:8080/",
          "height": 323
        },
        "outputId": "63b1713b-68a2-4dfe-951a-73306d5fdefc"
      },
      "source": [
        "print (\"Input Language; index to word mapping\")\n",
        "convert(inp_lang, input_tensor_train[0])\n",
        "print ()\n",
        "print (\"Target Language; index to word mapping\")\n",
        "convert(targ_lang, target_tensor_train[0])"
      ],
      "execution_count": 106,
      "outputs": [
        {
          "output_type": "stream",
          "text": [
            "Input Language; index to word mapping\n",
            "1 ----> <start>\n",
            "6 ----> ಟಾಮ\n",
            "159 ----> ಒಬಬ\n",
            "66 ----> ಒಳಳಯ\n",
            "160 ----> ಪರತಸಪರಧ\n",
            "3 ----> .\n",
            "2 ----> <end>\n",
            "\n",
            "Target Language; index to word mapping\n",
            "1 ----> <start>\n",
            "8 ----> tom\n",
            "12 ----> is\n",
            "10 ----> a\n",
            "182 ----> real\n",
            "183 ----> competitor\n",
            "3 ----> .\n",
            "2 ----> <end>\n"
          ],
          "name": "stdout"
        }
      ]
    },
    {
      "cell_type": "code",
      "metadata": {
        "id": "p0TkhSBH2-bk",
        "colab_type": "code",
        "colab": {}
      },
      "source": [
        "BUFFER_SIZE = len(input_tensor_train)\n",
        "BATCH_SIZE = 16\n",
        "steps_per_epoch = len(input_tensor_train)//BATCH_SIZE\n",
        "embedding_dim = 64\n",
        "units = 512\n",
        "vocab_inp_size = len(inp_lang.word_index)+1\n",
        "vocab_tar_size = len(targ_lang.word_index)+1\n",
        "\n",
        "dataset = tf.data.Dataset.from_tensor_slices((input_tensor_train, target_tensor_train)).shuffle(BUFFER_SIZE)\n",
        "dataset = dataset.batch(BATCH_SIZE, drop_remainder=True)"
      ],
      "execution_count": 144,
      "outputs": []
    },
    {
      "cell_type": "code",
      "metadata": {
        "id": "D9l0dcjl3H9l",
        "colab_type": "code",
        "colab": {
          "base_uri": "https://localhost:8080/",
          "height": 34
        },
        "outputId": "c20d6b2b-01c9-4fde-de79-4a1af525240c"
      },
      "source": [
        "example_input_batch, example_target_batch = next(iter(dataset))\n",
        "example_input_batch.shape, example_target_batch.shape"
      ],
      "execution_count": 145,
      "outputs": [
        {
          "output_type": "execute_result",
          "data": {
            "text/plain": [
              "(TensorShape([16, 12]), TensorShape([16, 19]))"
            ]
          },
          "metadata": {
            "tags": []
          },
          "execution_count": 145
        }
      ]
    },
    {
      "cell_type": "code",
      "metadata": {
        "id": "3MeYJh6C3Vis",
        "colab_type": "code",
        "colab": {
          "base_uri": "https://localhost:8080/",
          "height": 51
        },
        "outputId": "70278bfc-dd15-41e2-e677-2295289b83fb"
      },
      "source": [
        "encoder = Encoder(vocab_inp_size, embedding_dim, units, BATCH_SIZE)\n",
        "\n",
        "# sample input\n",
        "sample_hidden = encoder.initialize_hidden_state()\n",
        "sample_output, sample_hidden = encoder(example_input_batch, sample_hidden)\n",
        "print ('Encoder output shape: (batch size, sequence length, units) {}'.format(sample_output.shape))\n",
        "print ('Encoder Hidden state shape: (batch size, units) {}'.format(sample_hidden.shape))"
      ],
      "execution_count": 146,
      "outputs": [
        {
          "output_type": "stream",
          "text": [
            "Encoder output shape: (batch size, sequence length, units) (16, 12, 512)\n",
            "Encoder Hidden state shape: (batch size, units) (16, 512)\n"
          ],
          "name": "stdout"
        }
      ]
    },
    {
      "cell_type": "code",
      "metadata": {
        "id": "1_4vPKwS3fdz",
        "colab_type": "code",
        "colab": {
          "base_uri": "https://localhost:8080/",
          "height": 51
        },
        "outputId": "56bc7408-9891-405a-a7ad-15f319f7e8ad"
      },
      "source": [
        "attention_layer = BahdanauAttention(10)\n",
        "attention_result, attention_weights = attention_layer(sample_hidden, sample_output)\n",
        "\n",
        "print(\"Attention result shape: (batch size, units) {}\".format(attention_result.shape))\n",
        "print(\"Attention weights shape: (batch_size, sequence_length, 1) {}\".format(attention_weights.shape))"
      ],
      "execution_count": 147,
      "outputs": [
        {
          "output_type": "stream",
          "text": [
            "Attention result shape: (batch size, units) (16, 512)\n",
            "Attention weights shape: (batch_size, sequence_length, 1) (16, 12, 1)\n"
          ],
          "name": "stdout"
        }
      ]
    },
    {
      "cell_type": "code",
      "metadata": {
        "id": "Io8HtKvQ3lq7",
        "colab_type": "code",
        "colab": {
          "base_uri": "https://localhost:8080/",
          "height": 34
        },
        "outputId": "bd1d9817-3eba-475a-f036-0fff9a945eef"
      },
      "source": [
        "decoder = Decoder(vocab_tar_size, embedding_dim, units, BATCH_SIZE)\n",
        "\n",
        "sample_decoder_output, _, _ = decoder(tf.random.uniform((BATCH_SIZE, 1)),\n",
        "                                      sample_hidden, sample_output)\n",
        "\n",
        "print ('Decoder output shape: (batch_size, vocab size) {}'.format(sample_decoder_output.shape))"
      ],
      "execution_count": 148,
      "outputs": [
        {
          "output_type": "stream",
          "text": [
            "Decoder output shape: (batch_size, vocab size) (16, 420)\n"
          ],
          "name": "stdout"
        }
      ]
    },
    {
      "cell_type": "code",
      "metadata": {
        "id": "RyW-SeGY3nWD",
        "colab_type": "code",
        "colab": {}
      },
      "source": [
        "optimizer = tf.keras.optimizers.Adam()\n",
        "loss_object = tf.keras.losses.SparseCategoricalCrossentropy(\n",
        "    from_logits=True, reduction='none')\n",
        "\n",
        "def loss_function(real, pred):\n",
        "  mask = tf.math.logical_not(tf.math.equal(real, 0))\n",
        "  loss_ = loss_object(real, pred)\n",
        "\n",
        "  mask = tf.cast(mask, dtype=loss_.dtype)\n",
        "  loss_ *= mask\n",
        "\n",
        "  return tf.reduce_mean(loss_)"
      ],
      "execution_count": 149,
      "outputs": []
    },
    {
      "cell_type": "code",
      "metadata": {
        "id": "TGzCrX0K3qT8",
        "colab_type": "code",
        "colab": {}
      },
      "source": [
        "checkpoint_dir = './training_checkpoints'\n",
        "checkpoint_prefix = os.path.join(checkpoint_dir, \"ckpt\")\n",
        "checkpoint = tf.train.Checkpoint(optimizer=optimizer,\n",
        "                                 encoder=encoder,\n",
        "                                 decoder=decoder)"
      ],
      "execution_count": 150,
      "outputs": []
    },
    {
      "cell_type": "code",
      "metadata": {
        "id": "YZBW5SA83sc0",
        "colab_type": "code",
        "colab": {}
      },
      "source": [
        "@tf.function\n",
        "def train_step(inp, targ, enc_hidden):\n",
        "  loss = 0\n",
        "\n",
        "  with tf.GradientTape() as tape:\n",
        "    enc_output, enc_hidden = encoder(inp, enc_hidden)\n",
        "\n",
        "    dec_hidden = enc_hidden\n",
        "\n",
        "    dec_input = tf.expand_dims([targ_lang.word_index['<start>']] * BATCH_SIZE, 1)\n",
        "\n",
        "    # Teacher forcing - feeding the target as the next input\n",
        "    for t in range(1, targ.shape[1]):\n",
        "      # passing enc_output to the decoder\n",
        "      predictions, dec_hidden, _ = decoder(dec_input, dec_hidden, enc_output)\n",
        "\n",
        "      loss += loss_function(targ[:, t], predictions)\n",
        "\n",
        "      # using teacher forcing\n",
        "      dec_input = tf.expand_dims(targ[:, t], 1)\n",
        "\n",
        "  batch_loss = (loss / int(targ.shape[1]))\n",
        "\n",
        "  variables = encoder.trainable_variables + decoder.trainable_variables\n",
        "\n",
        "  gradients = tape.gradient(loss, variables)\n",
        "\n",
        "  optimizer.apply_gradients(zip(gradients, variables))\n",
        "\n",
        "  return batch_loss"
      ],
      "execution_count": 151,
      "outputs": []
    },
    {
      "cell_type": "code",
      "metadata": {
        "id": "H_0vVArP3vnb",
        "colab_type": "code",
        "colab": {
          "base_uri": "https://localhost:8080/",
          "height": 1000
        },
        "outputId": "65181828-b072-484e-951d-2305f7618284"
      },
      "source": [
        "EPOCHS = 100\n",
        "\n",
        "for epoch in range(EPOCHS):\n",
        "  start = time.time()\n",
        "\n",
        "  enc_hidden = encoder.initialize_hidden_state()\n",
        "  total_loss = 0\n",
        "\n",
        "  for (batch, (inp, targ)) in enumerate(dataset.take(steps_per_epoch)):\n",
        "    batch_loss = train_step(inp, targ, enc_hidden)\n",
        "    total_loss += batch_loss\n",
        "\n",
        "    if batch % 100 == 0:\n",
        "      print('Epoch {} Batch {} Loss {:.4f}'.format(epoch + 1,\n",
        "                                                   batch,\n",
        "                                                   batch_loss.numpy()))\n",
        "  # saving (checkpoint) the model every 2 epochs\n",
        "  if (epoch + 1) % 2 == 0:\n",
        "    checkpoint.save(file_prefix = checkpoint_prefix)\n",
        "\n",
        "  print('Epoch {} Loss {:.4f}'.format(epoch + 1,\n",
        "                                      total_loss / steps_per_epoch))\n",
        "  print('Time taken for 1 epoch {} sec\\n'.format(time.time() - start))"
      ],
      "execution_count": 152,
      "outputs": [
        {
          "output_type": "stream",
          "text": [
            "Epoch 1 Batch 0 Loss 2.7620\n",
            "Epoch 1 Loss 2.6798\n",
            "Time taken for 1 epoch 27.209603309631348 sec\n",
            "\n",
            "Epoch 2 Batch 0 Loss 2.3043\n",
            "Epoch 2 Loss 2.3004\n",
            "Time taken for 1 epoch 1.0900146961212158 sec\n",
            "\n",
            "Epoch 3 Batch 0 Loss 1.7913\n",
            "Epoch 3 Loss 2.1889\n",
            "Time taken for 1 epoch 0.9031939506530762 sec\n",
            "\n",
            "Epoch 4 Batch 0 Loss 2.2619\n",
            "Epoch 4 Loss 2.1670\n",
            "Time taken for 1 epoch 1.1028189659118652 sec\n",
            "\n",
            "Epoch 5 Batch 0 Loss 2.2556\n",
            "Epoch 5 Loss 2.1314\n",
            "Time taken for 1 epoch 0.9004545211791992 sec\n",
            "\n",
            "Epoch 6 Batch 0 Loss 1.9948\n",
            "Epoch 6 Loss 2.1160\n",
            "Time taken for 1 epoch 1.107140302658081 sec\n",
            "\n",
            "Epoch 7 Batch 0 Loss 1.9865\n",
            "Epoch 7 Loss 2.0769\n",
            "Time taken for 1 epoch 0.8937926292419434 sec\n",
            "\n",
            "Epoch 8 Batch 0 Loss 2.1183\n",
            "Epoch 8 Loss 2.0384\n",
            "Time taken for 1 epoch 1.1050126552581787 sec\n",
            "\n",
            "Epoch 9 Batch 0 Loss 1.9196\n",
            "Epoch 9 Loss 1.9988\n",
            "Time taken for 1 epoch 0.9042630195617676 sec\n",
            "\n",
            "Epoch 10 Batch 0 Loss 2.0915\n",
            "Epoch 10 Loss 1.9853\n",
            "Time taken for 1 epoch 1.1213581562042236 sec\n",
            "\n",
            "Epoch 11 Batch 0 Loss 2.0385\n",
            "Epoch 11 Loss 1.9469\n",
            "Time taken for 1 epoch 0.8946478366851807 sec\n",
            "\n",
            "Epoch 12 Batch 0 Loss 2.1830\n",
            "Epoch 12 Loss 1.9159\n",
            "Time taken for 1 epoch 1.1129653453826904 sec\n",
            "\n",
            "Epoch 13 Batch 0 Loss 2.0626\n",
            "Epoch 13 Loss 1.8653\n",
            "Time taken for 1 epoch 0.900179386138916 sec\n",
            "\n",
            "Epoch 14 Batch 0 Loss 1.9948\n",
            "Epoch 14 Loss 1.8481\n",
            "Time taken for 1 epoch 1.0967698097229004 sec\n",
            "\n",
            "Epoch 15 Batch 0 Loss 1.8275\n",
            "Epoch 15 Loss 1.7828\n",
            "Time taken for 1 epoch 0.9168529510498047 sec\n",
            "\n",
            "Epoch 16 Batch 0 Loss 1.7502\n",
            "Epoch 16 Loss 1.7423\n",
            "Time taken for 1 epoch 1.1844279766082764 sec\n",
            "\n",
            "Epoch 17 Batch 0 Loss 1.7182\n",
            "Epoch 17 Loss 1.7119\n",
            "Time taken for 1 epoch 0.886974573135376 sec\n",
            "\n",
            "Epoch 18 Batch 0 Loss 1.6346\n",
            "Epoch 18 Loss 1.6701\n",
            "Time taken for 1 epoch 1.099494218826294 sec\n",
            "\n",
            "Epoch 19 Batch 0 Loss 1.7241\n",
            "Epoch 19 Loss 1.6001\n",
            "Time taken for 1 epoch 0.9070277214050293 sec\n",
            "\n",
            "Epoch 20 Batch 0 Loss 1.4022\n",
            "Epoch 20 Loss 1.5515\n",
            "Time taken for 1 epoch 1.0956909656524658 sec\n",
            "\n",
            "Epoch 21 Batch 0 Loss 1.7644\n",
            "Epoch 21 Loss 1.5249\n",
            "Time taken for 1 epoch 0.897791862487793 sec\n",
            "\n",
            "Epoch 22 Batch 0 Loss 1.5018\n",
            "Epoch 22 Loss 1.4819\n",
            "Time taken for 1 epoch 1.1269724369049072 sec\n",
            "\n",
            "Epoch 23 Batch 0 Loss 1.5324\n",
            "Epoch 23 Loss 1.4176\n",
            "Time taken for 1 epoch 0.9028670787811279 sec\n",
            "\n",
            "Epoch 24 Batch 0 Loss 1.3434\n",
            "Epoch 24 Loss 1.3870\n",
            "Time taken for 1 epoch 1.078537940979004 sec\n",
            "\n",
            "Epoch 25 Batch 0 Loss 1.4397\n",
            "Epoch 25 Loss 1.3455\n",
            "Time taken for 1 epoch 0.8927469253540039 sec\n",
            "\n",
            "Epoch 26 Batch 0 Loss 1.3226\n",
            "Epoch 26 Loss 1.3011\n",
            "Time taken for 1 epoch 1.2009551525115967 sec\n",
            "\n",
            "Epoch 27 Batch 0 Loss 1.0565\n",
            "Epoch 27 Loss 1.2627\n",
            "Time taken for 1 epoch 0.9167623519897461 sec\n",
            "\n",
            "Epoch 28 Batch 0 Loss 1.0861\n",
            "Epoch 28 Loss 1.1920\n",
            "Time taken for 1 epoch 1.1343810558319092 sec\n",
            "\n",
            "Epoch 29 Batch 0 Loss 1.0963\n",
            "Epoch 29 Loss 1.1774\n",
            "Time taken for 1 epoch 0.8926839828491211 sec\n",
            "\n",
            "Epoch 30 Batch 0 Loss 1.1804\n",
            "Epoch 30 Loss 1.1162\n",
            "Time taken for 1 epoch 1.1135854721069336 sec\n",
            "\n",
            "Epoch 31 Batch 0 Loss 1.2439\n",
            "Epoch 31 Loss 1.0870\n",
            "Time taken for 1 epoch 0.8926167488098145 sec\n",
            "\n",
            "Epoch 32 Batch 0 Loss 0.9999\n",
            "Epoch 32 Loss 1.0562\n",
            "Time taken for 1 epoch 1.1092405319213867 sec\n",
            "\n",
            "Epoch 33 Batch 0 Loss 1.0472\n",
            "Epoch 33 Loss 1.0159\n",
            "Time taken for 1 epoch 0.8977656364440918 sec\n",
            "\n",
            "Epoch 34 Batch 0 Loss 1.0280\n",
            "Epoch 34 Loss 0.9941\n",
            "Time taken for 1 epoch 1.0963139533996582 sec\n",
            "\n",
            "Epoch 35 Batch 0 Loss 0.8497\n",
            "Epoch 35 Loss 0.9507\n",
            "Time taken for 1 epoch 0.9111418724060059 sec\n",
            "\n",
            "Epoch 36 Batch 0 Loss 1.0517\n",
            "Epoch 36 Loss 0.9118\n",
            "Time taken for 1 epoch 1.1236588954925537 sec\n",
            "\n",
            "Epoch 37 Batch 0 Loss 0.8358\n",
            "Epoch 37 Loss 0.8560\n",
            "Time taken for 1 epoch 0.8985855579376221 sec\n",
            "\n",
            "Epoch 38 Batch 0 Loss 0.6780\n",
            "Epoch 38 Loss 0.8118\n",
            "Time taken for 1 epoch 1.1593670845031738 sec\n",
            "\n",
            "Epoch 39 Batch 0 Loss 0.7392\n",
            "Epoch 39 Loss 0.7851\n",
            "Time taken for 1 epoch 0.8911490440368652 sec\n",
            "\n",
            "Epoch 40 Batch 0 Loss 0.7301\n",
            "Epoch 40 Loss 0.7484\n",
            "Time taken for 1 epoch 1.1593246459960938 sec\n",
            "\n",
            "Epoch 41 Batch 0 Loss 0.6956\n",
            "Epoch 41 Loss 0.7002\n",
            "Time taken for 1 epoch 0.8931307792663574 sec\n",
            "\n",
            "Epoch 42 Batch 0 Loss 0.7416\n",
            "Epoch 42 Loss 0.6952\n",
            "Time taken for 1 epoch 1.1189212799072266 sec\n",
            "\n",
            "Epoch 43 Batch 0 Loss 0.5657\n",
            "Epoch 43 Loss 0.6761\n",
            "Time taken for 1 epoch 0.9086740016937256 sec\n",
            "\n",
            "Epoch 44 Batch 0 Loss 0.6042\n",
            "Epoch 44 Loss 0.6211\n",
            "Time taken for 1 epoch 1.101090431213379 sec\n",
            "\n",
            "Epoch 45 Batch 0 Loss 0.5924\n",
            "Epoch 45 Loss 0.6097\n",
            "Time taken for 1 epoch 0.9039909839630127 sec\n",
            "\n",
            "Epoch 46 Batch 0 Loss 0.5729\n",
            "Epoch 46 Loss 0.5738\n",
            "Time taken for 1 epoch 1.1534326076507568 sec\n",
            "\n",
            "Epoch 47 Batch 0 Loss 0.6233\n",
            "Epoch 47 Loss 0.5607\n",
            "Time taken for 1 epoch 0.901674747467041 sec\n",
            "\n",
            "Epoch 48 Batch 0 Loss 0.4309\n",
            "Epoch 48 Loss 0.5366\n",
            "Time taken for 1 epoch 1.1000092029571533 sec\n",
            "\n",
            "Epoch 49 Batch 0 Loss 0.4913\n",
            "Epoch 49 Loss 0.4979\n",
            "Time taken for 1 epoch 0.8891787528991699 sec\n",
            "\n",
            "Epoch 50 Batch 0 Loss 0.3879\n",
            "Epoch 50 Loss 0.4645\n",
            "Time taken for 1 epoch 1.1845860481262207 sec\n",
            "\n",
            "Epoch 51 Batch 0 Loss 0.4371\n",
            "Epoch 51 Loss 0.4594\n",
            "Time taken for 1 epoch 0.8966724872589111 sec\n",
            "\n",
            "Epoch 52 Batch 0 Loss 0.5078\n",
            "Epoch 52 Loss 0.4469\n",
            "Time taken for 1 epoch 1.1021523475646973 sec\n",
            "\n",
            "Epoch 53 Batch 0 Loss 0.3758\n",
            "Epoch 53 Loss 0.4172\n",
            "Time taken for 1 epoch 0.9122815132141113 sec\n",
            "\n",
            "Epoch 54 Batch 0 Loss 0.3933\n",
            "Epoch 54 Loss 0.3821\n",
            "Time taken for 1 epoch 1.0898702144622803 sec\n",
            "\n",
            "Epoch 55 Batch 0 Loss 0.3213\n",
            "Epoch 55 Loss 0.3761\n",
            "Time taken for 1 epoch 0.9067306518554688 sec\n",
            "\n",
            "Epoch 56 Batch 0 Loss 0.3308\n",
            "Epoch 56 Loss 0.3785\n",
            "Time taken for 1 epoch 1.1304817199707031 sec\n",
            "\n",
            "Epoch 57 Batch 0 Loss 0.3542\n",
            "Epoch 57 Loss 0.3460\n",
            "Time taken for 1 epoch 0.9015450477600098 sec\n",
            "\n",
            "Epoch 58 Batch 0 Loss 0.3394\n",
            "Epoch 58 Loss 0.3448\n",
            "Time taken for 1 epoch 1.104010820388794 sec\n",
            "\n",
            "Epoch 59 Batch 0 Loss 0.3030\n",
            "Epoch 59 Loss 0.3308\n",
            "Time taken for 1 epoch 0.9073104858398438 sec\n",
            "\n",
            "Epoch 60 Batch 0 Loss 0.3098\n",
            "Epoch 60 Loss 0.3190\n",
            "Time taken for 1 epoch 1.2075769901275635 sec\n",
            "\n",
            "Epoch 61 Batch 0 Loss 0.3482\n",
            "Epoch 61 Loss 0.2996\n",
            "Time taken for 1 epoch 0.8914551734924316 sec\n",
            "\n",
            "Epoch 62 Batch 0 Loss 0.3170\n",
            "Epoch 62 Loss 0.2945\n",
            "Time taken for 1 epoch 1.1000866889953613 sec\n",
            "\n",
            "Epoch 63 Batch 0 Loss 0.2291\n",
            "Epoch 63 Loss 0.2658\n",
            "Time taken for 1 epoch 0.8859682083129883 sec\n",
            "\n",
            "Epoch 64 Batch 0 Loss 0.2094\n",
            "Epoch 64 Loss 0.2518\n",
            "Time taken for 1 epoch 1.1175267696380615 sec\n",
            "\n",
            "Epoch 65 Batch 0 Loss 0.1931\n",
            "Epoch 65 Loss 0.2286\n",
            "Time taken for 1 epoch 0.9133491516113281 sec\n",
            "\n",
            "Epoch 66 Batch 0 Loss 0.1870\n",
            "Epoch 66 Loss 0.2113\n",
            "Time taken for 1 epoch 1.1309058666229248 sec\n",
            "\n",
            "Epoch 67 Batch 0 Loss 0.1669\n",
            "Epoch 67 Loss 0.1976\n",
            "Time taken for 1 epoch 0.9014666080474854 sec\n",
            "\n",
            "Epoch 68 Batch 0 Loss 0.1798\n",
            "Epoch 68 Loss 0.1901\n",
            "Time taken for 1 epoch 1.087981939315796 sec\n",
            "\n",
            "Epoch 69 Batch 0 Loss 0.1770\n",
            "Epoch 69 Loss 0.1776\n",
            "Time taken for 1 epoch 0.9163398742675781 sec\n",
            "\n",
            "Epoch 70 Batch 0 Loss 0.1546\n",
            "Epoch 70 Loss 0.1660\n",
            "Time taken for 1 epoch 1.103461742401123 sec\n",
            "\n",
            "Epoch 71 Batch 0 Loss 0.1267\n",
            "Epoch 71 Loss 0.1539\n",
            "Time taken for 1 epoch 0.9216125011444092 sec\n",
            "\n",
            "Epoch 72 Batch 0 Loss 0.1427\n",
            "Epoch 72 Loss 0.1449\n",
            "Time taken for 1 epoch 1.0835182666778564 sec\n",
            "\n",
            "Epoch 73 Batch 0 Loss 0.1158\n",
            "Epoch 73 Loss 0.1362\n",
            "Time taken for 1 epoch 0.9108872413635254 sec\n",
            "\n",
            "Epoch 74 Batch 0 Loss 0.1417\n",
            "Epoch 74 Loss 0.1290\n",
            "Time taken for 1 epoch 1.1819384098052979 sec\n",
            "\n",
            "Epoch 75 Batch 0 Loss 0.1586\n",
            "Epoch 75 Loss 0.1254\n",
            "Time taken for 1 epoch 0.8986473083496094 sec\n",
            "\n",
            "Epoch 76 Batch 0 Loss 0.0960\n",
            "Epoch 76 Loss 0.1219\n",
            "Time taken for 1 epoch 1.1166656017303467 sec\n",
            "\n",
            "Epoch 77 Batch 0 Loss 0.1105\n",
            "Epoch 77 Loss 0.1163\n",
            "Time taken for 1 epoch 0.9179177284240723 sec\n",
            "\n",
            "Epoch 78 Batch 0 Loss 0.1241\n",
            "Epoch 78 Loss 0.1116\n",
            "Time taken for 1 epoch 1.0951337814331055 sec\n",
            "\n",
            "Epoch 79 Batch 0 Loss 0.1836\n",
            "Epoch 79 Loss 0.1201\n",
            "Time taken for 1 epoch 0.914067268371582 sec\n",
            "\n",
            "Epoch 80 Batch 0 Loss 0.1189\n",
            "Epoch 80 Loss 0.1216\n",
            "Time taken for 1 epoch 1.1446144580841064 sec\n",
            "\n",
            "Epoch 81 Batch 0 Loss 0.1148\n",
            "Epoch 81 Loss 0.1139\n",
            "Time taken for 1 epoch 0.8997597694396973 sec\n",
            "\n",
            "Epoch 82 Batch 0 Loss 0.1464\n",
            "Epoch 82 Loss 0.1324\n",
            "Time taken for 1 epoch 1.1293611526489258 sec\n",
            "\n",
            "Epoch 83 Batch 0 Loss 0.1610\n",
            "Epoch 83 Loss 0.1273\n",
            "Time taken for 1 epoch 0.9025821685791016 sec\n",
            "\n",
            "Epoch 84 Batch 0 Loss 0.1219\n",
            "Epoch 84 Loss 0.1161\n",
            "Time taken for 1 epoch 1.0855350494384766 sec\n",
            "\n",
            "Epoch 85 Batch 0 Loss 0.1021\n",
            "Epoch 85 Loss 0.1142\n",
            "Time taken for 1 epoch 0.8937456607818604 sec\n",
            "\n",
            "Epoch 86 Batch 0 Loss 0.0664\n",
            "Epoch 86 Loss 0.0977\n",
            "Time taken for 1 epoch 1.1418452262878418 sec\n",
            "\n",
            "Epoch 87 Batch 0 Loss 0.0760\n",
            "Epoch 87 Loss 0.0818\n",
            "Time taken for 1 epoch 0.8894696235656738 sec\n",
            "\n",
            "Epoch 88 Batch 0 Loss 0.0545\n",
            "Epoch 88 Loss 0.0750\n",
            "Time taken for 1 epoch 1.1376025676727295 sec\n",
            "\n",
            "Epoch 89 Batch 0 Loss 0.0640\n",
            "Epoch 89 Loss 0.0666\n",
            "Time taken for 1 epoch 0.8987901210784912 sec\n",
            "\n",
            "Epoch 90 Batch 0 Loss 0.0568\n",
            "Epoch 90 Loss 0.0610\n",
            "Time taken for 1 epoch 1.0989556312561035 sec\n",
            "\n",
            "Epoch 91 Batch 0 Loss 0.0506\n",
            "Epoch 91 Loss 0.0538\n",
            "Time taken for 1 epoch 0.8826367855072021 sec\n",
            "\n",
            "Epoch 92 Batch 0 Loss 0.0594\n",
            "Epoch 92 Loss 0.0514\n",
            "Time taken for 1 epoch 1.1379592418670654 sec\n",
            "\n",
            "Epoch 93 Batch 0 Loss 0.0364\n",
            "Epoch 93 Loss 0.0467\n",
            "Time taken for 1 epoch 0.8856780529022217 sec\n",
            "\n",
            "Epoch 94 Batch 0 Loss 0.0433\n",
            "Epoch 94 Loss 0.0426\n",
            "Time taken for 1 epoch 1.1927342414855957 sec\n",
            "\n",
            "Epoch 95 Batch 0 Loss 0.0325\n",
            "Epoch 95 Loss 0.0389\n",
            "Time taken for 1 epoch 0.902705192565918 sec\n",
            "\n",
            "Epoch 96 Batch 0 Loss 0.0477\n",
            "Epoch 96 Loss 0.0382\n",
            "Time taken for 1 epoch 1.1221644878387451 sec\n",
            "\n",
            "Epoch 97 Batch 0 Loss 0.0407\n",
            "Epoch 97 Loss 0.0345\n",
            "Time taken for 1 epoch 0.8916022777557373 sec\n",
            "\n",
            "Epoch 98 Batch 0 Loss 0.0281\n",
            "Epoch 98 Loss 0.0321\n",
            "Time taken for 1 epoch 1.101775884628296 sec\n",
            "\n",
            "Epoch 99 Batch 0 Loss 0.0245\n",
            "Epoch 99 Loss 0.0301\n",
            "Time taken for 1 epoch 0.8917789459228516 sec\n",
            "\n",
            "Epoch 100 Batch 0 Loss 0.0240\n",
            "Epoch 100 Loss 0.0285\n",
            "Time taken for 1 epoch 1.1207053661346436 sec\n",
            "\n"
          ],
          "name": "stdout"
        }
      ]
    },
    {
      "cell_type": "code",
      "metadata": {
        "id": "02L1q-q73xJ8",
        "colab_type": "code",
        "colab": {}
      },
      "source": [
        "def evaluate(sentence):\n",
        "  attention_plot = np.zeros((max_length_targ, max_length_inp))\n",
        "\n",
        "  sentence = preprocess_sentence(sentence)\n",
        "\n",
        "\n",
        "  inputs = [inp_lang.word_index[i] for i in sentence.split(' ')]\n",
        "  inputs = tf.keras.preprocessing.sequence.pad_sequences([inputs],\n",
        "                                                         maxlen=max_length_inp,\n",
        "                                                         padding='post')\n",
        "  inputs = tf.convert_to_tensor(inputs)\n",
        "\n",
        "  result = ''\n",
        "\n",
        "  hidden = [tf.zeros((1, units))]\n",
        "  enc_out, enc_hidden = encoder(inputs, hidden)\n",
        "\n",
        "  dec_hidden = enc_hidden\n",
        "  dec_input = tf.expand_dims([targ_lang.word_index['<start>']], 0)\n",
        "\n",
        "  for t in range(max_length_targ):\n",
        "    predictions, dec_hidden, attention_weights = decoder(dec_input,\n",
        "                                                         dec_hidden,\n",
        "                                                         enc_out)\n",
        "\n",
        "    # storing the attention weights to plot later on\n",
        "    attention_weights = tf.reshape(attention_weights, (-1, ))\n",
        "    attention_plot[t] = attention_weights.numpy()\n",
        "\n",
        "    predicted_id = tf.argmax(predictions[0]).numpy()\n",
        "\n",
        "    result += targ_lang.index_word[predicted_id] + ' '\n",
        "\n",
        "    if targ_lang.index_word[predicted_id] == '<end>':\n",
        "      return result, sentence, attention_plot\n",
        "\n",
        "    # the predicted ID is fed back into the model\n",
        "    dec_input = tf.expand_dims([predicted_id], 0)\n",
        "  return result, sentence, attention_plot"
      ],
      "execution_count": 153,
      "outputs": []
    },
    {
      "cell_type": "code",
      "metadata": {
        "id": "3fO5fV6x30pE",
        "colab_type": "code",
        "colab": {}
      },
      "source": [
        "# function for plotting the attention weights\n",
        "def plot_attention(attention, sentence, predicted_sentence):\n",
        "  fig = plt.figure(figsize=(10,10))\n",
        "  ax = fig.add_subplot(1, 1, 1)\n",
        "  ax.matshow(attention, cmap='viridis')\n",
        "\n",
        "  fontdict = {'fontsize': 14}\n",
        "\n",
        "  ax.set_xticklabels([''] + sentence, fontdict=fontdict, rotation=90)\n",
        "  ax.set_yticklabels([''] + predicted_sentence, fontdict=fontdict)\n",
        "\n",
        "  ax.xaxis.set_major_locator(ticker.MultipleLocator(1))\n",
        "  ax.yaxis.set_major_locator(ticker.MultipleLocator(1))\n",
        "\n",
        "  plt.show()"
      ],
      "execution_count": 154,
      "outputs": []
    },
    {
      "cell_type": "code",
      "metadata": {
        "id": "bZoNpkzL34dM",
        "colab_type": "code",
        "colab": {}
      },
      "source": [
        "def translate(sentence):\n",
        "  result, sentence, attention_plot = evaluate(sentence)\n",
        "  print('res',result)\n",
        "\n",
        "  print('Input: %s' % (sentence))\n",
        "  print('Predicted translation: {}'.format(result))\n",
        "\n",
        "  attention_plot = attention_plot[:len(result.split(' ')), :len(sentence.split(' '))]\n",
        "  plot_attention(attention_plot, sentence.split(' '), result.split(' '))"
      ],
      "execution_count": 155,
      "outputs": []
    },
    {
      "cell_type": "code",
      "metadata": {
        "id": "rXMDoyYK36vs",
        "colab_type": "code",
        "colab": {
          "base_uri": "https://localhost:8080/",
          "height": 34
        },
        "outputId": "c488704a-997d-4823-d402-6582f966cc8b"
      },
      "source": [
        "# restoring the latest checkpoint in checkpoint_dir\n",
        "checkpoint.restore(tf.train.latest_checkpoint(checkpoint_dir))"
      ],
      "execution_count": 156,
      "outputs": [
        {
          "output_type": "execute_result",
          "data": {
            "text/plain": [
              "<tensorflow.python.training.tracking.util.CheckpointLoadStatus at 0x7f49ffa10ef0>"
            ]
          },
          "metadata": {
            "tags": []
          },
          "execution_count": 156
        }
      ]
    },
    {
      "cell_type": "code",
      "metadata": {
        "id": "1IEs5yTz39rE",
        "colab_type": "code",
        "colab": {
          "base_uri": "https://localhost:8080/",
          "height": 1000
        },
        "outputId": "828e1613-a53b-4001-aee6-323a1841e5bc"
      },
      "source": [
        "translate(u'ಅರ್ಧ ನನಗೆ ಕೊಡು.')"
      ],
      "execution_count": 157,
      "outputs": [
        {
          "output_type": "stream",
          "text": [
            "res give me half . <end> \n",
            "Input: <start> ಅರಧ ನನಗ ಕೂಡು . <end>\n",
            "Predicted translation: give me half . <end> \n"
          ],
          "name": "stdout"
        },
        {
          "output_type": "stream",
          "text": [
            "/usr/local/lib/python3.6/dist-packages/matplotlib/backends/backend_agg.py:214: RuntimeWarning: Glyph 3205 missing from current font.\n",
            "  font.set_text(s, 0.0, flags=flags)\n",
            "/usr/local/lib/python3.6/dist-packages/matplotlib/backends/backend_agg.py:214: RuntimeWarning: Glyph 3248 missing from current font.\n",
            "  font.set_text(s, 0.0, flags=flags)\n",
            "/usr/local/lib/python3.6/dist-packages/matplotlib/backends/backend_agg.py:214: RuntimeWarning: Glyph 3239 missing from current font.\n",
            "  font.set_text(s, 0.0, flags=flags)\n",
            "/usr/local/lib/python3.6/dist-packages/matplotlib/backends/backend_agg.py:214: RuntimeWarning: Glyph 3240 missing from current font.\n",
            "  font.set_text(s, 0.0, flags=flags)\n",
            "/usr/local/lib/python3.6/dist-packages/matplotlib/backends/backend_agg.py:214: RuntimeWarning: Glyph 3223 missing from current font.\n",
            "  font.set_text(s, 0.0, flags=flags)\n",
            "/usr/local/lib/python3.6/dist-packages/matplotlib/backends/backend_agg.py:214: RuntimeWarning: Glyph 3221 missing from current font.\n",
            "  font.set_text(s, 0.0, flags=flags)\n",
            "/usr/local/lib/python3.6/dist-packages/matplotlib/backends/backend_agg.py:214: RuntimeWarning: Glyph 3266 missing from current font.\n",
            "  font.set_text(s, 0.0, flags=flags)\n",
            "/usr/local/lib/python3.6/dist-packages/matplotlib/backends/backend_agg.py:214: RuntimeWarning: Glyph 3233 missing from current font.\n",
            "  font.set_text(s, 0.0, flags=flags)\n",
            "/usr/local/lib/python3.6/dist-packages/matplotlib/backends/backend_agg.py:214: RuntimeWarning: Glyph 3265 missing from current font.\n",
            "  font.set_text(s, 0.0, flags=flags)\n",
            "/usr/local/lib/python3.6/dist-packages/matplotlib/backends/backend_agg.py:183: RuntimeWarning: Glyph 3205 missing from current font.\n",
            "  font.set_text(s, 0, flags=flags)\n",
            "/usr/local/lib/python3.6/dist-packages/matplotlib/backends/backend_agg.py:183: RuntimeWarning: Glyph 3248 missing from current font.\n",
            "  font.set_text(s, 0, flags=flags)\n",
            "/usr/local/lib/python3.6/dist-packages/matplotlib/backends/backend_agg.py:183: RuntimeWarning: Glyph 3239 missing from current font.\n",
            "  font.set_text(s, 0, flags=flags)\n",
            "/usr/local/lib/python3.6/dist-packages/matplotlib/backends/backend_agg.py:183: RuntimeWarning: Glyph 3240 missing from current font.\n",
            "  font.set_text(s, 0, flags=flags)\n",
            "/usr/local/lib/python3.6/dist-packages/matplotlib/backends/backend_agg.py:183: RuntimeWarning: Glyph 3223 missing from current font.\n",
            "  font.set_text(s, 0, flags=flags)\n",
            "/usr/local/lib/python3.6/dist-packages/matplotlib/backends/backend_agg.py:183: RuntimeWarning: Glyph 3221 missing from current font.\n",
            "  font.set_text(s, 0, flags=flags)\n",
            "/usr/local/lib/python3.6/dist-packages/matplotlib/backends/backend_agg.py:183: RuntimeWarning: Glyph 3266 missing from current font.\n",
            "  font.set_text(s, 0, flags=flags)\n",
            "/usr/local/lib/python3.6/dist-packages/matplotlib/backends/backend_agg.py:183: RuntimeWarning: Glyph 3233 missing from current font.\n",
            "  font.set_text(s, 0, flags=flags)\n",
            "/usr/local/lib/python3.6/dist-packages/matplotlib/backends/backend_agg.py:183: RuntimeWarning: Glyph 3265 missing from current font.\n",
            "  font.set_text(s, 0, flags=flags)\n"
          ],
          "name": "stderr"
        },
        {
          "output_type": "display_data",
          "data": {
            "image/png": "[encoded data removed]",
            "text/plain": [
              "<Figure size 720x720 with 1 Axes>"
            ]
          },
          "metadata": {
            "tags": [],
            "needs_background": "light"
          }
        }
      ]
    },
    {
      "cell_type": "code",
      "metadata": {
        "id": "9rSYkCZUIKpb",
        "colab_type": "code",
        "colab": {
          "base_uri": "https://localhost:8080/",
          "height": 1000
        },
        "outputId": "4bbf98e7-2cfe-4794-9708-a8018a834ea1"
      },
      "source": [
        "translate(u'ನಿಮಗೆ ನೆನಪು ಇದ್ಯಾ?')"
      ],
      "execution_count": 158,
      "outputs": [
        {
          "output_type": "stream",
          "text": [
            "res do you remember ? <end> \n",
            "Input: <start> ನಮಗ ನನಪು ಇದಯಾ ? <end>\n",
            "Predicted translation: do you remember ? <end> \n"
          ],
          "name": "stdout"
        },
        {
          "output_type": "stream",
          "text": [
            "/usr/local/lib/python3.6/dist-packages/matplotlib/backends/backend_agg.py:214: RuntimeWarning: Glyph 3240 missing from current font.\n",
            "  font.set_text(s, 0.0, flags=flags)\n",
            "/usr/local/lib/python3.6/dist-packages/matplotlib/backends/backend_agg.py:214: RuntimeWarning: Glyph 3246 missing from current font.\n",
            "  font.set_text(s, 0.0, flags=flags)\n",
            "/usr/local/lib/python3.6/dist-packages/matplotlib/backends/backend_agg.py:214: RuntimeWarning: Glyph 3223 missing from current font.\n",
            "  font.set_text(s, 0.0, flags=flags)\n",
            "/usr/local/lib/python3.6/dist-packages/matplotlib/backends/backend_agg.py:214: RuntimeWarning: Glyph 3242 missing from current font.\n",
            "  font.set_text(s, 0.0, flags=flags)\n",
            "/usr/local/lib/python3.6/dist-packages/matplotlib/backends/backend_agg.py:214: RuntimeWarning: Glyph 3265 missing from current font.\n",
            "  font.set_text(s, 0.0, flags=flags)\n",
            "/usr/local/lib/python3.6/dist-packages/matplotlib/backends/backend_agg.py:214: RuntimeWarning: Glyph 3207 missing from current font.\n",
            "  font.set_text(s, 0.0, flags=flags)\n",
            "/usr/local/lib/python3.6/dist-packages/matplotlib/backends/backend_agg.py:214: RuntimeWarning: Glyph 3238 missing from current font.\n",
            "  font.set_text(s, 0.0, flags=flags)\n",
            "/usr/local/lib/python3.6/dist-packages/matplotlib/backends/backend_agg.py:214: RuntimeWarning: Glyph 3247 missing from current font.\n",
            "  font.set_text(s, 0.0, flags=flags)\n",
            "/usr/local/lib/python3.6/dist-packages/matplotlib/backends/backend_agg.py:214: RuntimeWarning: Glyph 3262 missing from current font.\n",
            "  font.set_text(s, 0.0, flags=flags)\n",
            "/usr/local/lib/python3.6/dist-packages/matplotlib/backends/backend_agg.py:183: RuntimeWarning: Glyph 3240 missing from current font.\n",
            "  font.set_text(s, 0, flags=flags)\n",
            "/usr/local/lib/python3.6/dist-packages/matplotlib/backends/backend_agg.py:183: RuntimeWarning: Glyph 3246 missing from current font.\n",
            "  font.set_text(s, 0, flags=flags)\n",
            "/usr/local/lib/python3.6/dist-packages/matplotlib/backends/backend_agg.py:183: RuntimeWarning: Glyph 3223 missing from current font.\n",
            "  font.set_text(s, 0, flags=flags)\n",
            "/usr/local/lib/python3.6/dist-packages/matplotlib/backends/backend_agg.py:183: RuntimeWarning: Glyph 3242 missing from current font.\n",
            "  font.set_text(s, 0, flags=flags)\n",
            "/usr/local/lib/python3.6/dist-packages/matplotlib/backends/backend_agg.py:183: RuntimeWarning: Glyph 3265 missing from current font.\n",
            "  font.set_text(s, 0, flags=flags)\n",
            "/usr/local/lib/python3.6/dist-packages/matplotlib/backends/backend_agg.py:183: RuntimeWarning: Glyph 3207 missing from current font.\n",
            "  font.set_text(s, 0, flags=flags)\n",
            "/usr/local/lib/python3.6/dist-packages/matplotlib/backends/backend_agg.py:183: RuntimeWarning: Glyph 3238 missing from current font.\n",
            "  font.set_text(s, 0, flags=flags)\n",
            "/usr/local/lib/python3.6/dist-packages/matplotlib/backends/backend_agg.py:183: RuntimeWarning: Glyph 3247 missing from current font.\n",
            "  font.set_text(s, 0, flags=flags)\n",
            "/usr/local/lib/python3.6/dist-packages/matplotlib/backends/backend_agg.py:183: RuntimeWarning: Glyph 3262 missing from current font.\n",
            "  font.set_text(s, 0, flags=flags)\n"
          ],
          "name": "stderr"
        },
        {
          "output_type": "display_data",
          "data": {
            "image/png": "[encoded data removed]",
            "text/plain": [
              "<Figure size 720x720 with 1 Axes>"
            ]
          },
          "metadata": {
            "tags": [],
            "needs_background": "light"
          }
        }
      ]
    },
    {
      "cell_type": "markdown",
      "metadata": {
        "id": "X1OGqO29cJPK",
        "colab_type": "text"
      },
      "source": [
        "## Deutsche - English"
      ]
    },
    {
      "cell_type": "code",
      "metadata": {
        "id": "Aae_XpzPcM3G",
        "colab_type": "code",
        "colab": {
          "base_uri": "https://localhost:8080/",
          "height": 51
        },
        "outputId": "2d5bcc6c-ccc6-4b6b-87e0-8e3f30aeec8e"
      },
      "source": [
        "deu_sentence = u\"Warte.\"\n",
        "en_sentence = u\"Wait.\"\n",
        "\n",
        "print(preprocess_sentence(en_sentence))\n",
        "print(preprocess_sentence(deu_sentence).encode('utf-8'))"
      ],
      "execution_count": 13,
      "outputs": [
        {
          "output_type": "stream",
          "text": [
            "<start> wait . <end>\n",
            "b'<start> warte . <end>'\n"
          ],
          "name": "stdout"
        }
      ]
    },
    {
      "cell_type": "code",
      "metadata": {
        "id": "AdehMHmPpJoW",
        "colab_type": "code",
        "colab": {}
      },
      "source": [
        "en, deu, _ = create_dataset(path_to_file+'/deu.txt', None)"
      ],
      "execution_count": 14,
      "outputs": []
    },
    {
      "cell_type": "code",
      "metadata": {
        "id": "GnvUgfyupozt",
        "colab_type": "code",
        "colab": {
          "base_uri": "https://localhost:8080/",
          "height": 71
        },
        "outputId": "c41adde9-2cdf-48e7-b5bc-42ff75c8094f"
      },
      "source": [
        "print(en[-1])\n",
        "print(deu[-1])"
      ],
      "execution_count": 15,
      "outputs": [
        {
          "output_type": "stream",
          "text": [
            "<start> doubtless there exists in this world precisely the right woman for any given man to marry and vice versa but when you consider that a human being has the opportunity of being acquainted with only a few hundred people , and out of the few hundred that there are but a dozen or less whom he knows intimately , and out of the dozen , one or two friends at most , it will easily be seen , when we remember the number of millions who inhabit this world , that probably , since the earth was created , the right man has never yet met the right woman . <end>\n",
            "<start> ohne zweifel findet sich auf dieser welt zu jedem mann genau die richtige ehefrau und umgekehrt wenn man jedoch in betracht zieht , dass ein mensch nur gelegenheit hat , mit ein paar hundert anderen bekannt zu sein , von denen ihm nur ein dutzend oder weniger nahesteht , darunter hochstens ein oder zwei freunde , dann erahnt man eingedenk der millionen einwohner dieser welt leicht , dass seit erschaffung ebenderselben wohl noch nie der richtige mann der richtigen frau begegnet ist . <end>\n"
          ],
          "name": "stdout"
        }
      ]
    },
    {
      "cell_type": "code",
      "metadata": {
        "id": "aF9RMUegp3Vx",
        "colab_type": "code",
        "colab": {}
      },
      "source": [
        "num_examples = int(0.5*len(en))\n",
        "\n",
        "input_tensor, target_tensor, inp_lang, targ_lang = load_dataset(path_to_file+'/deu.txt', num_examples)\n",
        "\n",
        "# Calculate max_length of the target tensors\n",
        "max_length_targ, max_length_inp = target_tensor.shape[1], input_tensor.shape[1]"
      ],
      "execution_count": 16,
      "outputs": []
    },
    {
      "cell_type": "code",
      "metadata": {
        "id": "_GEOiKVEqSKM",
        "colab_type": "code",
        "colab": {
          "base_uri": "https://localhost:8080/",
          "height": 34
        },
        "outputId": "e607429a-ec52-42a0-b517-6be183633f54"
      },
      "source": [
        "input_tensor_train, input_tensor_val, target_tensor_train, target_tensor_val = train_test_split(input_tensor, target_tensor, test_size=0.2)\n",
        "\n",
        "# Show length\n",
        "print(len(input_tensor_train), len(target_tensor_train), len(input_tensor_val), len(target_tensor_val))"
      ],
      "execution_count": 17,
      "outputs": [
        {
          "output_type": "stream",
          "text": [
            "88612 88612 22154 22154\n"
          ],
          "name": "stdout"
        }
      ]
    },
    {
      "cell_type": "code",
      "metadata": {
        "id": "1ImEqPi0qt48",
        "colab_type": "code",
        "colab": {
          "base_uri": "https://localhost:8080/",
          "height": 391
        },
        "outputId": "1ac5281b-e24d-4d0e-e434-b57d67c22428"
      },
      "source": [
        "print (\"Input Language; index to word mapping\")\n",
        "convert(inp_lang, input_tensor_train[0])\n",
        "print ()\n",
        "print (\"Target Language; index to word mapping\")\n",
        "convert(targ_lang, target_tensor_train[0])"
      ],
      "execution_count": 18,
      "outputs": [
        {
          "output_type": "stream",
          "text": [
            "Input Language; index to word mapping\n",
            "1 ----> <start>\n",
            "53 ----> warum\n",
            "2254 ----> farben\n",
            "34 ----> sich\n",
            "20 ----> die\n",
            "327 ----> leute\n",
            "20 ----> die\n",
            "441 ----> haare\n",
            "6 ----> ?\n",
            "2 ----> <end>\n",
            "\n",
            "Target Language; index to word mapping\n",
            "1 ----> <start>\n",
            "53 ----> why\n",
            "16 ----> do\n",
            "232 ----> people\n",
            "2306 ----> dye\n",
            "480 ----> their\n",
            "256 ----> hair\n",
            "7 ----> ?\n",
            "2 ----> <end>\n"
          ],
          "name": "stdout"
        }
      ]
    },
    {
      "cell_type": "code",
      "metadata": {
        "id": "sNUWx94TqxUM",
        "colab_type": "code",
        "colab": {}
      },
      "source": [
        "BUFFER_SIZE = len(input_tensor_train)\n",
        "BATCH_SIZE = 64\n",
        "steps_per_epoch = len(input_tensor_train)//BATCH_SIZE\n",
        "embedding_dim = 256\n",
        "units = 1024\n",
        "vocab_inp_size = len(inp_lang.word_index)+1\n",
        "vocab_tar_size = len(targ_lang.word_index)+1\n",
        "\n",
        "dataset = tf.data.Dataset.from_tensor_slices((input_tensor_train, target_tensor_train)).shuffle(BUFFER_SIZE)\n",
        "dataset = dataset.batch(BATCH_SIZE, drop_remainder=True)"
      ],
      "execution_count": 19,
      "outputs": []
    },
    {
      "cell_type": "code",
      "metadata": {
        "id": "qZjBYFNvrOIU",
        "colab_type": "code",
        "colab": {
          "base_uri": "https://localhost:8080/",
          "height": 34
        },
        "outputId": "51076e5c-4b57-48f0-da0e-18d4e7313c00"
      },
      "source": [
        "example_input_batch, example_target_batch = next(iter(dataset))\n",
        "example_input_batch.shape, example_target_batch.shape"
      ],
      "execution_count": 20,
      "outputs": [
        {
          "output_type": "execute_result",
          "data": {
            "text/plain": [
              "(TensorShape([64, 24]), TensorShape([64, 13]))"
            ]
          },
          "metadata": {
            "tags": []
          },
          "execution_count": 20
        }
      ]
    },
    {
      "cell_type": "code",
      "metadata": {
        "id": "RKz6XV8OrTJk",
        "colab_type": "code",
        "colab": {
          "base_uri": "https://localhost:8080/",
          "height": 51
        },
        "outputId": "bf48623d-99ca-412e-b99e-b1bb53f429fb"
      },
      "source": [
        "encoder = Encoder(vocab_inp_size, embedding_dim, units, BATCH_SIZE)\n",
        "\n",
        "# sample input\n",
        "sample_hidden = encoder.initialize_hidden_state()\n",
        "sample_output, sample_hidden = encoder(example_input_batch, sample_hidden)\n",
        "print ('Encoder output shape: (batch size, sequence length, units) {}'.format(sample_output.shape))\n",
        "print ('Encoder Hidden state shape: (batch size, units) {}'.format(sample_hidden.shape))"
      ],
      "execution_count": 21,
      "outputs": [
        {
          "output_type": "stream",
          "text": [
            "Encoder output shape: (batch size, sequence length, units) (64, 24, 1024)\n",
            "Encoder Hidden state shape: (batch size, units) (64, 1024)\n"
          ],
          "name": "stdout"
        }
      ]
    },
    {
      "cell_type": "code",
      "metadata": {
        "id": "vN-hhPFdu3fr",
        "colab_type": "code",
        "colab": {
          "base_uri": "https://localhost:8080/",
          "height": 51
        },
        "outputId": "5acc3376-e4a0-4ae6-b75d-df502f409e7b"
      },
      "source": [
        "attention_layer = BahdanauAttention(10)\n",
        "attention_result, attention_weights = attention_layer(sample_hidden, sample_output)\n",
        "\n",
        "print(\"Attention result shape: (batch size, units) {}\".format(attention_result.shape))\n",
        "print(\"Attention weights shape: (batch_size, sequence_length, 1) {}\".format(attention_weights.shape))"
      ],
      "execution_count": 22,
      "outputs": [
        {
          "output_type": "stream",
          "text": [
            "Attention result shape: (batch size, units) (64, 1024)\n",
            "Attention weights shape: (batch_size, sequence_length, 1) (64, 24, 1)\n"
          ],
          "name": "stdout"
        }
      ]
    },
    {
      "cell_type": "code",
      "metadata": {
        "id": "0aKJLJ4Zu7b5",
        "colab_type": "code",
        "colab": {
          "base_uri": "https://localhost:8080/",
          "height": 34
        },
        "outputId": "58d5003f-092f-4a99-9dc2-b9788601bc88"
      },
      "source": [
        "decoder = Decoder(vocab_tar_size, embedding_dim, units, BATCH_SIZE)\n",
        "\n",
        "sample_decoder_output, _, _ = decoder(tf.random.uniform((BATCH_SIZE, 1)),\n",
        "                                      sample_hidden, sample_output)\n",
        "\n",
        "print ('Decoder output shape: (batch_size, vocab size) {}'.format(sample_decoder_output.shape))"
      ],
      "execution_count": 23,
      "outputs": [
        {
          "output_type": "stream",
          "text": [
            "Decoder output shape: (batch_size, vocab size) (64, 9405)\n"
          ],
          "name": "stdout"
        }
      ]
    },
    {
      "cell_type": "code",
      "metadata": {
        "id": "6wtyNP3cu_N6",
        "colab_type": "code",
        "colab": {}
      },
      "source": [
        "optimizer = tf.keras.optimizers.Adam()\n",
        "loss_object = tf.keras.losses.SparseCategoricalCrossentropy(\n",
        "    from_logits=True, reduction='none')\n",
        "\n",
        "def loss_function(real, pred):\n",
        "  mask = tf.math.logical_not(tf.math.equal(real, 0))\n",
        "  loss_ = loss_object(real, pred)\n",
        "\n",
        "  mask = tf.cast(mask, dtype=loss_.dtype)\n",
        "  loss_ *= mask\n",
        "\n",
        "  return tf.reduce_mean(loss_)"
      ],
      "execution_count": 24,
      "outputs": []
    },
    {
      "cell_type": "code",
      "metadata": {
        "id": "U6NZtpWDvCaS",
        "colab_type": "code",
        "colab": {}
      },
      "source": [
        "checkpoint_dir = './training_checkpoints'\n",
        "checkpoint_prefix = os.path.join(checkpoint_dir, \"ckpt\")\n",
        "checkpoint = tf.train.Checkpoint(optimizer=optimizer,\n",
        "                                 encoder=encoder,\n",
        "                                 decoder=decoder)"
      ],
      "execution_count": 25,
      "outputs": []
    },
    {
      "cell_type": "code",
      "metadata": {
        "id": "E2GvBKuPvESa",
        "colab_type": "code",
        "colab": {}
      },
      "source": [
        "@tf.function\n",
        "def train_step(inp, targ, enc_hidden):\n",
        "  loss = 0\n",
        "\n",
        "  with tf.GradientTape() as tape:\n",
        "    enc_output, enc_hidden = encoder(inp, enc_hidden)\n",
        "\n",
        "    dec_hidden = enc_hidden\n",
        "\n",
        "    dec_input = tf.expand_dims([targ_lang.word_index['<start>']] * BATCH_SIZE, 1)\n",
        "\n",
        "    # Teacher forcing - feeding the target as the next input\n",
        "    for t in range(1, targ.shape[1]):\n",
        "      # passing enc_output to the decoder\n",
        "      predictions, dec_hidden, _ = decoder(dec_input, dec_hidden, enc_output)\n",
        "\n",
        "      loss += loss_function(targ[:, t], predictions)\n",
        "\n",
        "      # using teacher forcing\n",
        "      dec_input = tf.expand_dims(targ[:, t], 1)\n",
        "\n",
        "  batch_loss = (loss / int(targ.shape[1]))\n",
        "\n",
        "  variables = encoder.trainable_variables + decoder.trainable_variables\n",
        "\n",
        "  gradients = tape.gradient(loss, variables)\n",
        "\n",
        "  optimizer.apply_gradients(zip(gradients, variables))\n",
        "\n",
        "  return batch_loss"
      ],
      "execution_count": 26,
      "outputs": []
    },
    {
      "cell_type": "code",
      "metadata": {
        "id": "Mnf1DzaivG5q",
        "colab_type": "code",
        "colab": {
          "base_uri": "https://localhost:8080/",
          "height": 1000
        },
        "outputId": "a5f5c3e3-f10b-4d4d-fbd4-af9d3bfd8f3c"
      },
      "source": [
        "EPOCHS = 10\n",
        "\n",
        "for epoch in range(EPOCHS):\n",
        "  start = time.time()\n",
        "\n",
        "  enc_hidden = encoder.initialize_hidden_state()\n",
        "  total_loss = 0\n",
        "\n",
        "  for (batch, (inp, targ)) in enumerate(dataset.take(steps_per_epoch)):\n",
        "    batch_loss = train_step(inp, targ, enc_hidden)\n",
        "    total_loss += batch_loss\n",
        "\n",
        "    if batch % 100 == 0:\n",
        "      print('Epoch {} Batch {} Loss {:.4f}'.format(epoch + 1,\n",
        "                                                   batch,\n",
        "                                                   batch_loss.numpy()))\n",
        "  # saving (checkpoint) the model every 2 epochs\n",
        "  if (epoch + 1) % 2 == 0:\n",
        "    checkpoint.save(file_prefix = checkpoint_prefix)\n",
        "\n",
        "  print('Epoch {} Loss {:.4f}'.format(epoch + 1,\n",
        "                                      total_loss / steps_per_epoch))\n",
        "  print('Time taken for 1 epoch {} sec\\n'.format(time.time() - start))"
      ],
      "execution_count": 27,
      "outputs": [
        {
          "output_type": "stream",
          "text": [
            "Epoch 1 Batch 0 Loss 5.0032\n",
            "Epoch 1 Batch 100 Loss 2.4044\n",
            "Epoch 1 Batch 200 Loss 2.0167\n",
            "Epoch 1 Batch 300 Loss 1.8809\n",
            "Epoch 1 Batch 400 Loss 1.6429\n",
            "Epoch 1 Batch 500 Loss 1.7022\n",
            "Epoch 1 Batch 600 Loss 1.5370\n",
            "Epoch 1 Batch 700 Loss 1.5513\n",
            "Epoch 1 Batch 800 Loss 1.3560\n",
            "Epoch 1 Batch 900 Loss 1.3121\n",
            "Epoch 1 Batch 1000 Loss 1.1291\n",
            "Epoch 1 Batch 1100 Loss 1.0845\n",
            "Epoch 1 Batch 1200 Loss 1.2986\n",
            "Epoch 1 Batch 1300 Loss 0.9392\n",
            "Epoch 1 Loss 1.5687\n",
            "Time taken for 1 epoch 419.95623540878296 sec\n",
            "\n",
            "Epoch 2 Batch 0 Loss 1.0138\n",
            "Epoch 2 Batch 100 Loss 0.9187\n",
            "Epoch 2 Batch 200 Loss 0.8871\n",
            "Epoch 2 Batch 300 Loss 0.7681\n",
            "Epoch 2 Batch 400 Loss 0.7979\n",
            "Epoch 2 Batch 500 Loss 0.8254\n",
            "Epoch 2 Batch 600 Loss 0.6794\n",
            "Epoch 2 Batch 700 Loss 0.7674\n",
            "Epoch 2 Batch 800 Loss 0.7599\n",
            "Epoch 2 Batch 900 Loss 0.7065\n",
            "Epoch 2 Batch 1000 Loss 0.6547\n",
            "Epoch 2 Batch 1100 Loss 0.6247\n",
            "Epoch 2 Batch 1200 Loss 0.5884\n",
            "Epoch 2 Batch 1300 Loss 0.6024\n",
            "Epoch 2 Loss 0.7468\n",
            "Time taken for 1 epoch 406.8803548812866 sec\n",
            "\n",
            "Epoch 3 Batch 0 Loss 0.4835\n",
            "Epoch 3 Batch 100 Loss 0.4937\n",
            "Epoch 3 Batch 200 Loss 0.5729\n",
            "Epoch 3 Batch 300 Loss 0.5128\n",
            "Epoch 3 Batch 400 Loss 0.5187\n",
            "Epoch 3 Batch 500 Loss 0.5256\n",
            "Epoch 3 Batch 600 Loss 0.4246\n",
            "Epoch 3 Batch 700 Loss 0.4582\n",
            "Epoch 3 Batch 800 Loss 0.5053\n",
            "Epoch 3 Batch 900 Loss 0.3871\n",
            "Epoch 3 Batch 1000 Loss 0.5027\n",
            "Epoch 3 Batch 1100 Loss 0.5436\n",
            "Epoch 3 Batch 1200 Loss 0.5089\n",
            "Epoch 3 Batch 1300 Loss 0.4715\n",
            "Epoch 3 Loss 0.4589\n",
            "Time taken for 1 epoch 402.94555497169495 sec\n",
            "\n",
            "Epoch 4 Batch 0 Loss 0.3462\n",
            "Epoch 4 Batch 100 Loss 0.2718\n",
            "Epoch 4 Batch 200 Loss 0.3318\n",
            "Epoch 4 Batch 300 Loss 0.3366\n",
            "Epoch 4 Batch 400 Loss 0.2321\n",
            "Epoch 4 Batch 500 Loss 0.2778\n",
            "Epoch 4 Batch 600 Loss 0.3551\n",
            "Epoch 4 Batch 700 Loss 0.2190\n",
            "Epoch 4 Batch 800 Loss 0.3643\n",
            "Epoch 4 Batch 900 Loss 0.3678\n",
            "Epoch 4 Batch 1000 Loss 0.2792\n",
            "Epoch 4 Batch 1100 Loss 0.3025\n",
            "Epoch 4 Batch 1200 Loss 0.3651\n",
            "Epoch 4 Batch 1300 Loss 0.2699\n",
            "Epoch 4 Loss 0.3119\n",
            "Time taken for 1 epoch 401.75312662124634 sec\n",
            "\n",
            "Epoch 5 Batch 0 Loss 0.1817\n",
            "Epoch 5 Batch 100 Loss 0.1851\n",
            "Epoch 5 Batch 200 Loss 0.2094\n",
            "Epoch 5 Batch 300 Loss 0.2272\n",
            "Epoch 5 Batch 400 Loss 0.2384\n",
            "Epoch 5 Batch 500 Loss 0.2143\n",
            "Epoch 5 Batch 600 Loss 0.1634\n",
            "Epoch 5 Batch 700 Loss 0.1488\n",
            "Epoch 5 Batch 800 Loss 0.2875\n",
            "Epoch 5 Batch 900 Loss 0.2211\n",
            "Epoch 5 Batch 1000 Loss 0.2613\n",
            "Epoch 5 Batch 1100 Loss 0.2577\n",
            "Epoch 5 Batch 1200 Loss 0.2665\n",
            "Epoch 5 Batch 1300 Loss 0.2024\n",
            "Epoch 5 Loss 0.2263\n",
            "Time taken for 1 epoch 403.0334966182709 sec\n",
            "\n",
            "Epoch 6 Batch 0 Loss 0.1637\n",
            "Epoch 6 Batch 100 Loss 0.1444\n",
            "Epoch 6 Batch 200 Loss 0.1767\n",
            "Epoch 6 Batch 300 Loss 0.1867\n",
            "Epoch 6 Batch 400 Loss 0.1301\n",
            "Epoch 6 Batch 500 Loss 0.2080\n",
            "Epoch 6 Batch 600 Loss 0.1692\n",
            "Epoch 6 Batch 700 Loss 0.2190\n",
            "Epoch 6 Batch 800 Loss 0.1818\n",
            "Epoch 6 Batch 900 Loss 0.1754\n",
            "Epoch 6 Batch 1000 Loss 0.1703\n",
            "Epoch 6 Batch 1100 Loss 0.1897\n",
            "Epoch 6 Batch 1200 Loss 0.2253\n",
            "Epoch 6 Batch 1300 Loss 0.1796\n",
            "Epoch 6 Loss 0.1724\n",
            "Time taken for 1 epoch 402.73066997528076 sec\n",
            "\n",
            "Epoch 7 Batch 0 Loss 0.1452\n",
            "Epoch 7 Batch 100 Loss 0.1443\n",
            "Epoch 7 Batch 200 Loss 0.1011\n",
            "Epoch 7 Batch 300 Loss 0.1628\n",
            "Epoch 7 Batch 400 Loss 0.1254\n",
            "Epoch 7 Batch 500 Loss 0.1066\n",
            "Epoch 7 Batch 600 Loss 0.1782\n",
            "Epoch 7 Batch 700 Loss 0.1493\n",
            "Epoch 7 Batch 800 Loss 0.1801\n",
            "Epoch 7 Batch 900 Loss 0.1765\n",
            "Epoch 7 Batch 1000 Loss 0.1451\n",
            "Epoch 7 Batch 1100 Loss 0.1229\n",
            "Epoch 7 Batch 1200 Loss 0.1415\n",
            "Epoch 7 Batch 1300 Loss 0.1591\n",
            "Epoch 7 Loss 0.1386\n",
            "Time taken for 1 epoch 402.5476064682007 sec\n",
            "\n",
            "Epoch 8 Batch 0 Loss 0.1016\n",
            "Epoch 8 Batch 100 Loss 0.1037\n",
            "Epoch 8 Batch 200 Loss 0.1033\n",
            "Epoch 8 Batch 300 Loss 0.0961\n",
            "Epoch 8 Batch 400 Loss 0.0841\n",
            "Epoch 8 Batch 500 Loss 0.1018\n",
            "Epoch 8 Batch 600 Loss 0.1477\n",
            "Epoch 8 Batch 700 Loss 0.1474\n",
            "Epoch 8 Batch 800 Loss 0.0811\n",
            "Epoch 8 Batch 900 Loss 0.1332\n",
            "Epoch 8 Batch 1000 Loss 0.1516\n",
            "Epoch 8 Batch 1100 Loss 0.1063\n",
            "Epoch 8 Batch 1200 Loss 0.1017\n",
            "Epoch 8 Batch 1300 Loss 0.1136\n",
            "Epoch 8 Loss 0.1170\n",
            "Time taken for 1 epoch 404.7842044830322 sec\n",
            "\n",
            "Epoch 9 Batch 0 Loss 0.0971\n",
            "Epoch 9 Batch 100 Loss 0.0828\n",
            "Epoch 9 Batch 200 Loss 0.0864\n",
            "Epoch 9 Batch 300 Loss 0.1041\n",
            "Epoch 9 Batch 400 Loss 0.0688\n",
            "Epoch 9 Batch 500 Loss 0.1085\n",
            "Epoch 9 Batch 600 Loss 0.1028\n",
            "Epoch 9 Batch 700 Loss 0.1204\n",
            "Epoch 9 Batch 800 Loss 0.1343\n",
            "Epoch 9 Batch 900 Loss 0.1303\n",
            "Epoch 9 Batch 1000 Loss 0.1184\n",
            "Epoch 9 Batch 1100 Loss 0.1055\n",
            "Epoch 9 Batch 1200 Loss 0.1382\n",
            "Epoch 9 Batch 1300 Loss 0.1208\n",
            "Epoch 9 Loss 0.1026\n",
            "Time taken for 1 epoch 402.13426995277405 sec\n",
            "\n",
            "Epoch 10 Batch 0 Loss 0.0546\n",
            "Epoch 10 Batch 100 Loss 0.0704\n",
            "Epoch 10 Batch 200 Loss 0.0649\n",
            "Epoch 10 Batch 300 Loss 0.0660\n",
            "Epoch 10 Batch 400 Loss 0.0807\n",
            "Epoch 10 Batch 500 Loss 0.0813\n",
            "Epoch 10 Batch 600 Loss 0.0795\n",
            "Epoch 10 Batch 700 Loss 0.1043\n",
            "Epoch 10 Batch 800 Loss 0.1384\n",
            "Epoch 10 Batch 900 Loss 0.1217\n",
            "Epoch 10 Batch 1000 Loss 0.1062\n",
            "Epoch 10 Batch 1100 Loss 0.1240\n",
            "Epoch 10 Batch 1200 Loss 0.1379\n",
            "Epoch 10 Batch 1300 Loss 0.0753\n",
            "Epoch 10 Loss 0.0915\n",
            "Time taken for 1 epoch 402.6829409599304 sec\n",
            "\n"
          ],
          "name": "stdout"
        }
      ]
    },
    {
      "cell_type": "code",
      "metadata": {
        "id": "4BqWl3RAvMK5",
        "colab_type": "code",
        "colab": {}
      },
      "source": [
        "def evaluate(sentence):\n",
        "  attention_plot = np.zeros((max_length_targ, max_length_inp))\n",
        "\n",
        "  sentence = preprocess_sentence(sentence)\n",
        "\n",
        "  inputs = [inp_lang.word_index[i] for i in sentence.split(' ')]\n",
        "  inputs = tf.keras.preprocessing.sequence.pad_sequences([inputs],\n",
        "                                                         maxlen=max_length_inp,\n",
        "                                                         padding='post')\n",
        "  inputs = tf.convert_to_tensor(inputs)\n",
        "\n",
        "  result = ''\n",
        "\n",
        "  hidden = [tf.zeros((1, units))]\n",
        "  enc_out, enc_hidden = encoder(inputs, hidden)\n",
        "\n",
        "  dec_hidden = enc_hidden\n",
        "  dec_input = tf.expand_dims([targ_lang.word_index['<start>']], 0)\n",
        "\n",
        "  for t in range(max_length_targ):\n",
        "    predictions, dec_hidden, attention_weights = decoder(dec_input,\n",
        "                                                         dec_hidden,\n",
        "                                                         enc_out)\n",
        "\n",
        "    # storing the attention weights to plot later on\n",
        "    attention_weights = tf.reshape(attention_weights, (-1, ))\n",
        "    attention_plot[t] = attention_weights.numpy()\n",
        "\n",
        "    predicted_id = tf.argmax(predictions[0]).numpy()\n",
        "\n",
        "    result += targ_lang.index_word[predicted_id] + ' '\n",
        "\n",
        "    if targ_lang.index_word[predicted_id] == '<end>':\n",
        "      return result, sentence, attention_plot\n",
        "\n",
        "    # the predicted ID is fed back into the model\n",
        "    dec_input = tf.expand_dims([predicted_id], 0)\n",
        "\n",
        "  return result, sentence, attention_plot"
      ],
      "execution_count": 28,
      "outputs": []
    },
    {
      "cell_type": "code",
      "metadata": {
        "id": "0nP9EUGEvPzv",
        "colab_type": "code",
        "colab": {}
      },
      "source": [
        "# function for plotting the attention weights\n",
        "def plot_attention(attention, sentence, predicted_sentence):\n",
        "  fig = plt.figure(figsize=(10,10))\n",
        "  ax = fig.add_subplot(1, 1, 1)\n",
        "  ax.matshow(attention, cmap='viridis')\n",
        "\n",
        "  fontdict = {'fontsize': 14}\n",
        "\n",
        "  ax.set_xticklabels([''] + sentence, fontdict=fontdict, rotation=90)\n",
        "  ax.set_yticklabels([''] + predicted_sentence, fontdict=fontdict)\n",
        "\n",
        "  ax.xaxis.set_major_locator(ticker.MultipleLocator(1))\n",
        "  ax.yaxis.set_major_locator(ticker.MultipleLocator(1))\n",
        "\n",
        "  plt.show()"
      ],
      "execution_count": 29,
      "outputs": []
    },
    {
      "cell_type": "code",
      "metadata": {
        "id": "3z4LYoQ9vWbz",
        "colab_type": "code",
        "colab": {}
      },
      "source": [
        "def translate(sentence):\n",
        "  result, sentence, attention_plot = evaluate(sentence)\n",
        "\n",
        "  print('Input: %s' % (sentence))\n",
        "  print('Predicted translation: {}'.format(result))\n",
        "\n",
        "  attention_plot = attention_plot[:len(result.split(' ')), :len(sentence.split(' '))]\n",
        "  plot_attention(attention_plot, sentence.split(' '), result.split(' '))"
      ],
      "execution_count": 30,
      "outputs": []
    },
    {
      "cell_type": "code",
      "metadata": {
        "id": "X2hRVddtvXxr",
        "colab_type": "code",
        "colab": {
          "base_uri": "https://localhost:8080/",
          "height": 34
        },
        "outputId": "0938d37a-e141-428c-d919-d8ea877e7b7b"
      },
      "source": [
        "# restoring the latest checkpoint in checkpoint_dir\n",
        "checkpoint.restore(tf.train.latest_checkpoint(checkpoint_dir))"
      ],
      "execution_count": 31,
      "outputs": [
        {
          "output_type": "execute_result",
          "data": {
            "text/plain": [
              "<tensorflow.python.training.tracking.util.CheckpointLoadStatus at 0x7f4a02e1c550>"
            ]
          },
          "metadata": {
            "tags": []
          },
          "execution_count": 31
        }
      ]
    },
    {
      "cell_type": "code",
      "metadata": {
        "id": "rsrI5J8HBSjn",
        "colab_type": "code",
        "colab": {
          "base_uri": "https://localhost:8080/",
          "height": 691
        },
        "outputId": "8e7fdd52-2577-4f38-cb39-9b84f3860add"
      },
      "source": [
        "translate(U\"Irgendwas stimmt nicht mit ihm.\")"
      ],
      "execution_count": 32,
      "outputs": [
        {
          "output_type": "stream",
          "text": [
            "Input: <start> irgendwas stimmt nicht mit ihm . <end>\n",
            "Predicted translation: something isn t stupid with him . <end> \n"
          ],
          "name": "stdout"
        },
        {
          "output_type": "display_data",
          "data": {
            "image/png": "[encoded data removed]",
            "text/plain": [
              "<Figure size 720x720 with 1 Axes>"
            ]
          },
          "metadata": {
            "tags": [],
            "needs_background": "light"
          }
        }
      ]
    },
    {
      "cell_type": "code",
      "metadata": {
        "id": "IyYuS7N_BgJ2",
        "colab_type": "code",
        "colab": {
          "base_uri": "https://localhost:8080/",
          "height": 691
        },
        "outputId": "548cf06a-6ae4-4cf5-9714-a96568e13d99"
      },
      "source": [
        "translate(u'Irgendwas stimmt hier nicht!')"
      ],
      "execution_count": 33,
      "outputs": [
        {
          "output_type": "stream",
          "text": [
            "Input: <start> irgendwas stimmt hier nicht ! <end>\n",
            "Predicted translation: something doesn t seem right here . <end> \n"
          ],
          "name": "stdout"
        },
        {
          "output_type": "display_data",
          "data": {
            "image/png": "[encoded data removed]",
            "text/plain": [
              "<Figure size 720x720 with 1 Axes>"
            ]
          },
          "metadata": {
            "tags": [],
            "needs_background": "light"
          }
        }
      ]
    }
  ]
}