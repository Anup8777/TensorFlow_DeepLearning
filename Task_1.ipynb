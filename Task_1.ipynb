{
  "nbformat": 4,
  "nbformat_minor": 0,
  "metadata": {
    "colab": {
      "name": "Task_1.ipynb",
      "provenance": [],
      "collapsed_sections": [],
      "mount_file_id": "1XfEXYOPWLA3Z4sXUqpXSKZZqIlqLAFWL",
      "authorship_tag": "ABX9TyOZZCLJSBpHseu9sPGe84KL",
      "include_colab_link": true
    },
    "kernelspec": {
      "name": "python3",
      "display_name": "Python 3"
    },
    "accelerator": "GPU"
  },
  "cells": [
    {
      "cell_type": "markdown",
      "metadata": {
        "id": "view-in-github",
        "colab_type": "text"
      },
      "source": [
        "<a href=\"https://colab.research.google.com/github/Anup8777/TensorFlow_DeepLearning/blob/master/Task_1.ipynb\" target=\"_parent\"><img src=\"https://colab.research.google.com/assets/colab-badge.svg\" alt=\"Open In Colab\"/></a>"
      ]
    },
    {
      "cell_type": "markdown",
      "metadata": {
        "id": "nnfw1Yf4D9Bv",
        "colab_type": "text"
      },
      "source": [
        "# Task 1 - Optimizers"
      ]
    },
    {
      "cell_type": "code",
      "metadata": {
        "id": "inGyrUEz9lNY",
        "colab_type": "code",
        "colab": {}
      },
      "source": [
        "import numpy as np\n",
        "import tensorflow as tf\n",
        "import matplotlib.pyplot as plt\n",
        "\n",
        "import os\n",
        "import sys"
      ],
      "execution_count": 1,
      "outputs": []
    },
    {
      "cell_type": "code",
      "metadata": {
        "id": "OQILUcImEh6v",
        "colab_type": "code",
        "colab": {
          "base_uri": "https://localhost:8080/",
          "height": 50
        },
        "outputId": "be16aa63-7d5d-4b23-b8a2-9030b3270899"
      },
      "source": [
        "train_images, test_images = tf.keras.datasets.cifar10.load_data()"
      ],
      "execution_count": 2,
      "outputs": [
        {
          "output_type": "stream",
          "text": [
            "Downloading data from https://www.cs.toronto.edu/~kriz/cifar-10-python.tar.gz\n",
            "170500096/170498071 [==============================] - 4s 0us/step\n"
          ],
          "name": "stdout"
        }
      ]
    },
    {
      "cell_type": "code",
      "metadata": {
        "id": "g2J9MLN6E-EF",
        "colab_type": "code",
        "colab": {
          "base_uri": "https://localhost:8080/",
          "height": 50
        },
        "outputId": "748d0551-6df8-48c3-e9dd-5c5762d7973e"
      },
      "source": [
        "print('Maximum Pixel value tarining',train_images[0].max(), 'Minimum Pixel values', train_images[0].min())\n",
        "n_classes = len(np.unique(train_images[-1]))\n",
        "print('Uniques labels and number of labels are:', np.unique(train_images[-1]), 'and', n_classes)"
      ],
      "execution_count": 3,
      "outputs": [
        {
          "output_type": "stream",
          "text": [
            "Maximum Pixel value tarining 255 Minimum Pixel values 0\n",
            "Uniques labels and number of labels are: [0 1 2 3 4 5 6 7 8 9] and 10\n"
          ],
          "name": "stdout"
        }
      ]
    },
    {
      "cell_type": "code",
      "metadata": {
        "id": "8aPQJCzKFEbC",
        "colab_type": "code",
        "colab": {
          "base_uri": "https://localhost:8080/",
          "height": 34
        },
        "outputId": "93301dcc-2ebc-41b1-fbc2-eb1035b799b4"
      },
      "source": [
        "images, labels = train_images\n",
        "images = (images/255.0)\n",
        "images = images.astype(np.float32)\n",
        "labels = labels.astype(np.int32)\n",
        "\n",
        "input_shape = images[0].shape\n",
        "n_channels = input_shape[-1]\n",
        "\n",
        "dataset = tf.data.Dataset.from_tensor_slices((images, labels))\n",
        "\n",
        "# Creating the data batches\n",
        "\n",
        "ds = dataset.shuffle(5000).batch(64)\n",
        "ds"
      ],
      "execution_count": 4,
      "outputs": [
        {
          "output_type": "execute_result",
          "data": {
            "text/plain": [
              "<BatchDataset shapes: ((None, 32, 32, 3), (None, 1)), types: (tf.float32, tf.int32)>"
            ]
          },
          "metadata": {
            "tags": []
          },
          "execution_count": 4
        }
      ]
    },
    {
      "cell_type": "code",
      "metadata": {
        "id": "fgtBJwEvHAU7",
        "colab_type": "code",
        "colab": {}
      },
      "source": [
        "model_1 = tf.keras.applications.ResNet50(\n",
        "    include_top=True,\n",
        "    weights=None,\n",
        "    input_tensor=None,\n",
        "    input_shape=input_shape,\n",
        "    pooling='max',\n",
        "    classes=n_classes\n",
        ")\n",
        "\n",
        "model_2 = tf.keras.applications.ResNet50(\n",
        "    include_top=True,\n",
        "    weights=None,\n",
        "    input_tensor=None,\n",
        "    input_shape=input_shape,\n",
        "    pooling='max',\n",
        "    classes=n_classes\n",
        ")\n",
        "\n",
        "model_3 = tf.keras.applications.ResNet50(\n",
        "    include_top=True,\n",
        "    weights=None,\n",
        "    input_tensor=None,\n",
        "    input_shape=input_shape,\n",
        "    pooling='max',\n",
        "    classes=n_classes\n",
        ")"
      ],
      "execution_count": 5,
      "outputs": []
    },
    {
      "cell_type": "code",
      "metadata": {
        "id": "fMIAFcjYQflF",
        "colab_type": "code",
        "colab": {}
      },
      "source": [
        "reduce_lr = tf.keras.callbacks.ReduceLROnPlateau(monitor='accuracy', factor=0.2,\n",
        "                              patience=5, min_lr=0.001)"
      ],
      "execution_count": 6,
      "outputs": []
    },
    {
      "cell_type": "code",
      "metadata": {
        "id": "4QYUK9pTG0QG",
        "colab_type": "code",
        "colab": {}
      },
      "source": [
        "opt1 = tf.keras.optimizers.Adam(learning_rate=0.01, name='Adam')\n",
        "opt2 = tf.keras.optimizers.SGD(learning_rate=0.01, name='SGD')\n",
        "opt3 = tf.keras.optimizers.RMSprop(learning_rate=0.01, name='RMSprop')\n",
        "\n",
        "opt = [opt1, opt2, opt3]\n",
        "history = []\n",
        "models = [model_1, model_2, model_3]\n",
        "\n",
        "loss = tf.keras.losses.SparseCategoricalCrossentropy()"
      ],
      "execution_count": 7,
      "outputs": []
    },
    {
      "cell_type": "code",
      "metadata": {
        "id": "dMTj-4FQOYYg",
        "colab_type": "code",
        "colab": {
          "base_uri": "https://localhost:8080/",
          "height": 1000
        },
        "outputId": "c72a3e88-c789-471f-c6c9-024dfbba3b20"
      },
      "source": [
        "for i in range(0, len(opt)):\n",
        "  models[i].compile(optimizer=opt[i], loss = loss, metrics=['accuracy'] )\n",
        "  history.append(models[i].fit(ds, epochs=30, verbose=1, callbacks=reduce_lr, use_multiprocessing=True))\n",
        "  print('******** New Optimiser with a New Model',models[i], i, '*********')"
      ],
      "execution_count": 8,
      "outputs": [
        {
          "output_type": "stream",
          "text": [
            "Epoch 1/30\n",
            "782/782 [==============================] - 34s 44ms/step - loss: 2.7585 - accuracy: 0.1953 - lr: 0.0100\n",
            "Epoch 2/30\n",
            "782/782 [==============================] - 36s 45ms/step - loss: 1.6827 - accuracy: 0.3743 - lr: 0.0100\n",
            "Epoch 3/30\n",
            "782/782 [==============================] - 36s 46ms/step - loss: 1.4743 - accuracy: 0.4636 - lr: 0.0100\n",
            "Epoch 4/30\n",
            "782/782 [==============================] - 35s 45ms/step - loss: 1.3291 - accuracy: 0.5198 - lr: 0.0100\n",
            "Epoch 5/30\n",
            "782/782 [==============================] - 36s 46ms/step - loss: 1.2476 - accuracy: 0.5547 - lr: 0.0100\n",
            "Epoch 6/30\n",
            "782/782 [==============================] - 36s 46ms/step - loss: 1.2621 - accuracy: 0.5521 - lr: 0.0100\n",
            "Epoch 7/30\n",
            "782/782 [==============================] - 35s 45ms/step - loss: 1.1230 - accuracy: 0.6035 - lr: 0.0100\n",
            "Epoch 8/30\n",
            "782/782 [==============================] - 35s 45ms/step - loss: 0.9741 - accuracy: 0.6598 - lr: 0.0100\n",
            "Epoch 9/30\n",
            "782/782 [==============================] - 35s 45ms/step - loss: 0.8971 - accuracy: 0.6876 - lr: 0.0100\n",
            "Epoch 10/30\n",
            "782/782 [==============================] - 35s 45ms/step - loss: 0.8357 - accuracy: 0.7109 - lr: 0.0100\n",
            "Epoch 11/30\n",
            "782/782 [==============================] - 35s 45ms/step - loss: 0.7965 - accuracy: 0.7241 - lr: 0.0100\n",
            "Epoch 12/30\n",
            "782/782 [==============================] - 36s 45ms/step - loss: 0.7021 - accuracy: 0.7575 - lr: 0.0100\n",
            "Epoch 13/30\n",
            "782/782 [==============================] - 35s 45ms/step - loss: 0.6635 - accuracy: 0.7690 - lr: 0.0100\n",
            "Epoch 14/30\n",
            "782/782 [==============================] - 36s 45ms/step - loss: 0.5829 - accuracy: 0.7979 - lr: 0.0100\n",
            "Epoch 15/30\n",
            "782/782 [==============================] - 36s 45ms/step - loss: 0.6317 - accuracy: 0.7809 - lr: 0.0100\n",
            "Epoch 16/30\n",
            "782/782 [==============================] - 36s 45ms/step - loss: 0.4865 - accuracy: 0.8306 - lr: 0.0100\n",
            "Epoch 17/30\n",
            "782/782 [==============================] - 36s 46ms/step - loss: 0.4511 - accuracy: 0.8443 - lr: 0.0100\n",
            "Epoch 18/30\n",
            "782/782 [==============================] - 36s 45ms/step - loss: 0.4237 - accuracy: 0.8548 - lr: 0.0100\n",
            "Epoch 19/30\n",
            "782/782 [==============================] - 36s 45ms/step - loss: 0.3605 - accuracy: 0.8778 - lr: 0.0100\n",
            "Epoch 20/30\n",
            "782/782 [==============================] - 34s 44ms/step - loss: 0.2836 - accuracy: 0.9026 - lr: 0.0100\n",
            "Epoch 21/30\n",
            "782/782 [==============================] - 34s 44ms/step - loss: 0.3097 - accuracy: 0.8940 - lr: 0.0100\n",
            "Epoch 22/30\n",
            "782/782 [==============================] - 34s 44ms/step - loss: 0.2794 - accuracy: 0.9052 - lr: 0.0100\n",
            "Epoch 23/30\n",
            "782/782 [==============================] - 34s 44ms/step - loss: 0.2096 - accuracy: 0.9285 - lr: 0.0100\n",
            "Epoch 24/30\n",
            "782/782 [==============================] - 34s 44ms/step - loss: 0.5696 - accuracy: 0.8118 - lr: 0.0100\n",
            "Epoch 25/30\n",
            "782/782 [==============================] - 34s 44ms/step - loss: 0.2300 - accuracy: 0.9190 - lr: 0.0100\n",
            "Epoch 26/30\n",
            "782/782 [==============================] - 34s 44ms/step - loss: 0.1774 - accuracy: 0.9395 - lr: 0.0100\n",
            "Epoch 27/30\n",
            "782/782 [==============================] - 34s 44ms/step - loss: 0.1418 - accuracy: 0.9517 - lr: 0.0100\n",
            "Epoch 28/30\n",
            "782/782 [==============================] - 34s 44ms/step - loss: 0.1827 - accuracy: 0.9392 - lr: 0.0100\n",
            "Epoch 29/30\n",
            "782/782 [==============================] - 34s 44ms/step - loss: 0.1297 - accuracy: 0.9558 - lr: 0.0100\n",
            "Epoch 30/30\n",
            "782/782 [==============================] - 34s 44ms/step - loss: 0.1303 - accuracy: 0.9558 - lr: 0.0100\n",
            "******** New Optimiser with a New Model <tensorflow.python.keras.engine.training.Model object at 0x7f99931aea20> 0 *********\n",
            "Epoch 1/30\n",
            "782/782 [==============================] - 33s 43ms/step - loss: 2.2804 - accuracy: 0.3471 - lr: 0.0100\n",
            "Epoch 2/30\n",
            "782/782 [==============================] - 33s 43ms/step - loss: 1.7580 - accuracy: 0.4655 - lr: 0.0100\n",
            "Epoch 3/30\n",
            "782/782 [==============================] - 34s 43ms/step - loss: 1.5950 - accuracy: 0.5177 - lr: 0.0100\n",
            "Epoch 4/30\n",
            "782/782 [==============================] - 34s 43ms/step - loss: 1.4616 - accuracy: 0.5580 - lr: 0.0100\n",
            "Epoch 5/30\n",
            "782/782 [==============================] - 33s 43ms/step - loss: 1.3489 - accuracy: 0.5887 - lr: 0.0100\n",
            "Epoch 6/30\n",
            "782/782 [==============================] - 32s 41ms/step - loss: 1.2736 - accuracy: 0.6186 - lr: 0.0100\n",
            "Epoch 7/30\n",
            "782/782 [==============================] - 32s 41ms/step - loss: 1.2537 - accuracy: 0.6232 - lr: 0.0100\n",
            "Epoch 8/30\n",
            "782/782 [==============================] - 32s 41ms/step - loss: 1.1250 - accuracy: 0.6612 - lr: 0.0100\n",
            "Epoch 9/30\n",
            "782/782 [==============================] - 32s 42ms/step - loss: 0.9877 - accuracy: 0.6970 - lr: 0.0100\n",
            "Epoch 10/30\n",
            "782/782 [==============================] - 32s 41ms/step - loss: 0.8385 - accuracy: 0.7223 - lr: 0.0100\n",
            "Epoch 11/30\n",
            "782/782 [==============================] - 32s 41ms/step - loss: 0.7185 - accuracy: 0.7529 - lr: 0.0100\n",
            "Epoch 12/30\n",
            "782/782 [==============================] - 33s 42ms/step - loss: 0.6392 - accuracy: 0.7791 - lr: 0.0100\n",
            "Epoch 13/30\n",
            "782/782 [==============================] - 32s 41ms/step - loss: 0.5627 - accuracy: 0.8033 - lr: 0.0100\n",
            "Epoch 14/30\n",
            "782/782 [==============================] - 32s 41ms/step - loss: 0.4875 - accuracy: 0.8280 - lr: 0.0100\n",
            "Epoch 15/30\n",
            "782/782 [==============================] - 32s 41ms/step - loss: 0.4286 - accuracy: 0.8509 - lr: 0.0100\n",
            "Epoch 16/30\n",
            "782/782 [==============================] - 32s 41ms/step - loss: 0.3837 - accuracy: 0.8657 - lr: 0.0100\n",
            "Epoch 17/30\n",
            "782/782 [==============================] - 32s 41ms/step - loss: 0.3360 - accuracy: 0.8808 - lr: 0.0100\n",
            "Epoch 18/30\n",
            "782/782 [==============================] - 32s 41ms/step - loss: 0.3090 - accuracy: 0.8920 - lr: 0.0100\n",
            "Epoch 19/30\n",
            "782/782 [==============================] - 32s 41ms/step - loss: 0.2750 - accuracy: 0.9032 - lr: 0.0100\n",
            "Epoch 20/30\n",
            "782/782 [==============================] - 32s 41ms/step - loss: 0.2409 - accuracy: 0.9150 - lr: 0.0100\n",
            "Epoch 21/30\n",
            "782/782 [==============================] - 33s 42ms/step - loss: 0.2248 - accuracy: 0.9226 - lr: 0.0100\n",
            "Epoch 22/30\n",
            "782/782 [==============================] - 32s 41ms/step - loss: 0.1889 - accuracy: 0.9344 - lr: 0.0100\n",
            "Epoch 23/30\n",
            "782/782 [==============================] - 32s 41ms/step - loss: 0.1741 - accuracy: 0.9398 - lr: 0.0100\n",
            "Epoch 24/30\n",
            "782/782 [==============================] - 32s 41ms/step - loss: 0.1540 - accuracy: 0.9464 - lr: 0.0100\n",
            "Epoch 25/30\n",
            "782/782 [==============================] - 32s 41ms/step - loss: 0.1424 - accuracy: 0.9500 - lr: 0.0100\n",
            "Epoch 26/30\n",
            "782/782 [==============================] - 32s 41ms/step - loss: 0.1414 - accuracy: 0.9513 - lr: 0.0100\n",
            "Epoch 27/30\n",
            "782/782 [==============================] - 32s 41ms/step - loss: 0.1280 - accuracy: 0.9564 - lr: 0.0100\n",
            "Epoch 28/30\n",
            "782/782 [==============================] - 32s 41ms/step - loss: 0.1070 - accuracy: 0.9645 - lr: 0.0100\n",
            "Epoch 29/30\n",
            "782/782 [==============================] - 32s 41ms/step - loss: 0.0975 - accuracy: 0.9663 - lr: 0.0100\n",
            "Epoch 30/30\n",
            "782/782 [==============================] - 32s 41ms/step - loss: 0.1270 - accuracy: 0.9565 - lr: 0.0100\n",
            "******** New Optimiser with a New Model <tensorflow.python.keras.engine.training.Model object at 0x7f9992775e80> 1 *********\n",
            "Epoch 1/30\n",
            "782/782 [==============================] - 42s 54ms/step - loss: 3.0345 - accuracy: 0.1690 - lr: 0.0100\n",
            "Epoch 2/30\n",
            "782/782 [==============================] - 42s 54ms/step - loss: 1.6661 - accuracy: 0.3858 - lr: 0.0100\n",
            "Epoch 3/30\n",
            "782/782 [==============================] - 42s 54ms/step - loss: 1.4367 - accuracy: 0.4830 - lr: 0.0100\n",
            "Epoch 4/30\n",
            "782/782 [==============================] - 42s 54ms/step - loss: 1.2751 - accuracy: 0.5489 - lr: 0.0100\n",
            "Epoch 5/30\n",
            "782/782 [==============================] - 42s 54ms/step - loss: 1.1435 - accuracy: 0.5985 - lr: 0.0100\n",
            "Epoch 6/30\n",
            "782/782 [==============================] - 42s 54ms/step - loss: 1.0581 - accuracy: 0.6343 - lr: 0.0100\n",
            "Epoch 7/30\n",
            "782/782 [==============================] - 42s 54ms/step - loss: 0.9919 - accuracy: 0.6626 - lr: 0.0100\n",
            "Epoch 8/30\n",
            "782/782 [==============================] - 42s 54ms/step - loss: 0.9348 - accuracy: 0.6851 - lr: 0.0100\n",
            "Epoch 9/30\n",
            "782/782 [==============================] - 42s 54ms/step - loss: 0.8948 - accuracy: 0.6969 - lr: 0.0100\n",
            "Epoch 10/30\n",
            "782/782 [==============================] - 42s 54ms/step - loss: 0.8615 - accuracy: 0.7133 - lr: 0.0100\n",
            "Epoch 11/30\n",
            "782/782 [==============================] - 42s 54ms/step - loss: 0.8049 - accuracy: 0.7298 - lr: 0.0100\n",
            "Epoch 12/30\n",
            "782/782 [==============================] - 42s 54ms/step - loss: 0.7902 - accuracy: 0.7419 - lr: 0.0100\n",
            "Epoch 13/30\n",
            "782/782 [==============================] - 42s 54ms/step - loss: 0.7373 - accuracy: 0.7560 - lr: 0.0100\n",
            "Epoch 14/30\n",
            "782/782 [==============================] - 42s 54ms/step - loss: 0.6930 - accuracy: 0.7707 - lr: 0.0100\n",
            "Epoch 15/30\n",
            "782/782 [==============================] - 42s 54ms/step - loss: 0.6602 - accuracy: 0.7844 - lr: 0.0100\n",
            "Epoch 16/30\n",
            "782/782 [==============================] - 42s 54ms/step - loss: 0.6408 - accuracy: 0.7938 - lr: 0.0100\n",
            "Epoch 17/30\n",
            "782/782 [==============================] - 42s 54ms/step - loss: 0.5930 - accuracy: 0.8073 - lr: 0.0100\n",
            "Epoch 18/30\n",
            "782/782 [==============================] - 42s 54ms/step - loss: 0.5746 - accuracy: 0.8160 - lr: 0.0100\n",
            "Epoch 19/30\n",
            "782/782 [==============================] - 42s 54ms/step - loss: 0.5236 - accuracy: 0.8316 - lr: 0.0100\n",
            "Epoch 20/30\n",
            "782/782 [==============================] - 42s 54ms/step - loss: 0.4809 - accuracy: 0.8430 - lr: 0.0100\n",
            "Epoch 21/30\n",
            "782/782 [==============================] - 42s 54ms/step - loss: 0.4639 - accuracy: 0.8518 - lr: 0.0100\n",
            "Epoch 22/30\n",
            "782/782 [==============================] - 42s 54ms/step - loss: 0.4452 - accuracy: 0.8595 - lr: 0.0100\n",
            "Epoch 23/30\n",
            "782/782 [==============================] - 42s 54ms/step - loss: 0.3889 - accuracy: 0.8720 - lr: 0.0100\n",
            "Epoch 24/30\n",
            "782/782 [==============================] - 42s 54ms/step - loss: 0.3810 - accuracy: 0.8846 - lr: 0.0100\n",
            "Epoch 25/30\n",
            "782/782 [==============================] - 42s 54ms/step - loss: 0.3839 - accuracy: 0.8834 - lr: 0.0100\n",
            "Epoch 26/30\n",
            "782/782 [==============================] - 42s 54ms/step - loss: 0.3310 - accuracy: 0.8953 - lr: 0.0100\n",
            "Epoch 27/30\n",
            "782/782 [==============================] - 42s 54ms/step - loss: 0.2927 - accuracy: 0.9045 - lr: 0.0100\n",
            "Epoch 28/30\n",
            "782/782 [==============================] - 42s 54ms/step - loss: 0.2757 - accuracy: 0.9127 - lr: 0.0100\n",
            "Epoch 29/30\n",
            "782/782 [==============================] - 42s 54ms/step - loss: 0.2648 - accuracy: 0.9177 - lr: 0.0100\n",
            "Epoch 30/30\n",
            "782/782 [==============================] - 42s 54ms/step - loss: 0.2327 - accuracy: 0.9258 - lr: 0.0100\n",
            "******** New Optimiser with a New Model <tensorflow.python.keras.engine.training.Model object at 0x7f9981cf8da0> 2 *********\n"
          ],
          "name": "stdout"
        }
      ]
    },
    {
      "cell_type": "code",
      "metadata": {
        "id": "rs2TywSYPOXU",
        "colab_type": "code",
        "colab": {
          "base_uri": "https://localhost:8080/",
          "height": 380
        },
        "outputId": "551894ad-cec1-4b9d-b0a2-81d51a8ab107"
      },
      "source": [
        "plt.style.use('seaborn')\n",
        "plt.plot(history[0].history['accuracy'], '-k', label='Adam')\n",
        "plt.plot(history[1].history['accuracy'], '--r',  label='SGD')\n",
        "plt.plot(history[2].history['accuracy'], '.-b', label='RMSProp')\n",
        "plt.xlabel('Epochs')\n",
        "plt.ylabel('Accuracy')\n",
        "plt.legend(loc='best')"
      ],
      "execution_count": 9,
      "outputs": [
        {
          "output_type": "execute_result",
          "data": {
            "text/plain": [
              "<matplotlib.legend.Legend at 0x7f998063ec50>"
            ]
          },
          "metadata": {
            "tags": []
          },
          "execution_count": 9
        },
        {
          "output_type": "display_data",
          "data": {
            "image/png": "[encoded data removed]",
            "text/plain": [
              "<Figure size 576x396 with 1 Axes>"
            ]
          },
          "metadata": {
            "tags": []
          }
        }
      ]
    },
    {
      "cell_type": "code",
      "metadata": {
        "id": "OFy3MxacOd4I",
        "colab_type": "code",
        "colab": {
          "base_uri": "https://localhost:8080/",
          "height": 378
        },
        "outputId": "88c10680-9ae6-4a13-ccb7-1bfd489861b9"
      },
      "source": [
        "plt.plot(history[0].history['loss'], '-k', label='Adam')\n",
        "plt.plot(history[1].history['loss'], '--r',  label='SGD')\n",
        "plt.plot(history[2].history['loss'], '.-b', label='RMSProp')\n",
        "plt.xlabel('Epochs')\n",
        "plt.ylabel('loss')\n",
        "plt.legend(loc='best')"
      ],
      "execution_count": 10,
      "outputs": [
        {
          "output_type": "execute_result",
          "data": {
            "text/plain": [
              "<matplotlib.legend.Legend at 0x7f9980573fd0>"
            ]
          },
          "metadata": {
            "tags": []
          },
          "execution_count": 10
        },
        {
          "output_type": "display_data",
          "data": {
            "image/png": "[encoded data removed]",
            "text/plain": [
              "<Figure size 576x396 with 1 Axes>"
            ]
          },
          "metadata": {
            "tags": []
          }
        }
      ]
    },
    {
      "cell_type": "code",
      "metadata": {
        "id": "CvNIgQ9kQ7YX",
        "colab_type": "code",
        "colab": {
          "base_uri": "https://localhost:8080/",
          "height": 378
        },
        "outputId": "3b5a8b87-a47c-48dd-d9bf-feeb0860c740"
      },
      "source": [
        "plt.plot(history[0].history['lr'], '-k', label='Adam')\n",
        "plt.plot(history[1].history['lr'], '--r',  label='SGD')\n",
        "plt.plot(history[2].history['lr'], '.-b', label='RMSProp')\n",
        "plt.xlabel('Epochs')\n",
        "plt.ylabel('lr')\n",
        "plt.legend(loc='best')"
      ],
      "execution_count": 11,
      "outputs": [
        {
          "output_type": "execute_result",
          "data": {
            "text/plain": [
              "<matplotlib.legend.Legend at 0x7f99800a96a0>"
            ]
          },
          "metadata": {
            "tags": []
          },
          "execution_count": 11
        },
        {
          "output_type": "display_data",
          "data": {
            "image/png": "[encoded data removed]",
            "text/plain": [
              "<Figure size 576x396 with 1 Axes>"
            ]
          },
          "metadata": {
            "tags": []
          }
        }
      ]
    },
    {
      "cell_type": "code",
      "metadata": {
        "id": "7dtd0GxmTI8S",
        "colab_type": "code",
        "colab": {
          "base_uri": "https://localhost:8080/",
          "height": 67
        },
        "outputId": "8a5599ab-8bf7-48d3-d81e-344746d03a4d"
      },
      "source": [
        "test_acc = []\n",
        "for i in range(0, len(opt)):\n",
        "  test_acc.append( models[i].evaluate(\n",
        "    x=test_images[0],\n",
        "    y=test_images[1],\n",
        "    batch_size=32,\n",
        "    verbose=1,\n",
        "    sample_weight=None,\n",
        "    steps=None,\n",
        "    callbacks=None,\n",
        "    max_queue_size=10,\n",
        "    workers=1,\n",
        "    use_multiprocessing=False,\n",
        "    return_dict=False,\n",
        "  ))"
      ],
      "execution_count": 14,
      "outputs": [
        {
          "output_type": "stream",
          "text": [
            "313/313 [==============================] - 3s 9ms/step - loss: 23865.9980 - accuracy: 0.1000\n",
            "313/313 [==============================] - 3s 9ms/step - loss: 125491.1875 - accuracy: 0.1000\n",
            "313/313 [==============================] - 3s 9ms/step - loss: 72017248.0000 - accuracy: 0.1000\n"
          ],
          "name": "stdout"
        }
      ]
    },
    {
      "cell_type": "code",
      "metadata": {
        "id": "1hEAIApEFIbd",
        "colab_type": "code",
        "colab": {
          "base_uri": "https://localhost:8080/",
          "height": 67
        },
        "outputId": "13db7aef-4c55-44fa-c1ab-3b73f758583d"
      },
      "source": [
        "test_acc"
      ],
      "execution_count": 15,
      "outputs": [
        {
          "output_type": "execute_result",
          "data": {
            "text/plain": [
              "[[23865.998046875, 0.10000000149011612],\n",
              " [125491.1875, 0.10000000149011612],\n",
              " [72017248.0, 0.10000000149011612]]"
            ]
          },
          "metadata": {
            "tags": []
          },
          "execution_count": 15
        }
      ]
    },
    {
      "cell_type": "code",
      "metadata": {
        "id": "3hE649JTvIR-",
        "colab_type": "code",
        "colab": {}
      },
      "source": [
        "os.chdir('/content/drive/My Drive/IDL Project')\n",
        "model_1.save('/content/drive/My Drive/IDL Project/model_1.h5')\n",
        "model_2.save('/content/drive/My Drive/IDL Project/model_2.h5')\n",
        "model_3.save('/content/drive/My Drive/IDL Project/model_3.h5')"
      ],
      "execution_count": 19,
      "outputs": []
    },
    {
      "cell_type": "code",
      "metadata": {
        "id": "bq-GltKDvr7_",
        "colab_type": "code",
        "colab": {}
      },
      "source": [
        ""
      ],
      "execution_count": null,
      "outputs": []
    }
  ]
}