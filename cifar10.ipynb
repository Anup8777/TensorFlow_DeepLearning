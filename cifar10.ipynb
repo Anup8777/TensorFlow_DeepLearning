{
  "nbformat": 4,
  "nbformat_minor": 0,
  "metadata": {
    "colab": {
      "name": "Untitled2.ipynb",
      "provenance": [],
      "collapsed_sections": [],
      "toc_visible": true,
      "mount_file_id": "1PEvTjY2I5ZUHJiczMBTsFmxhihznIdXk",
      "authorship_tag": "ABX9TyPmE1yNazzZ00F9jFPLhu64",
      "include_colab_link": true
    },
    "kernelspec": {
      "name": "python3",
      "display_name": "Python 3"
    },
    "accelerator": "GPU"
  },
  "cells": [
    {
      "cell_type": "markdown",
      "metadata": {
        "id": "view-in-github",
        "colab_type": "text"
      },
      "source": [
        "<a href=\"https://colab.research.google.com/github/Anup8777/TensorFlow_DeepLearning/blob/master/cifar10.ipynb\" target=\"_parent\"><img src=\"https://colab.research.google.com/assets/colab-badge.svg\" alt=\"Open In Colab\"/></a>"
      ]
    },
    {
      "cell_type": "markdown",
      "metadata": {
        "id": "IR-ydQSO45Ri",
        "colab_type": "text"
      },
      "source": [
        "# Convolutional Neural Networks"
      ]
    },
    {
      "cell_type": "markdown",
      "metadata": {
        "id": "S4Zlx57u5BMM",
        "colab_type": "text"
      },
      "source": [
        "## CNN for MNIST dataset"
      ]
    },
    {
      "cell_type": "markdown",
      "metadata": {
        "id": "5PbM7SWV5SMe",
        "colab_type": "text"
      },
      "source": [
        "The MNIST dataset is not a complecated dataset with images of RGB values. It does not require a super deep or a deep CNN for classification of digits. The simple CNN with one layer 32 filters of stride 2 with Relu activation and one output layer with a Softmax activation gives us a descent accuracy. \n",
        "\n",
        "The filters, the filter layers, the stride and the pooling size are the some of the very important factors that affect the performance of the CNN. However, this does not mean that the other factors do not play an important role.\n",
        "\n",
        "The filters and the pooling layers play a more prominent role than the non linear layers in the CNN, which is unlike in MLPs or Feed Forward Networks."
      ]
    },
    {
      "cell_type": "code",
      "metadata": {
        "id": "Vy-W36Br41Rl",
        "colab_type": "code",
        "colab": {
          "base_uri": "https://localhost:8080/",
          "height": 87
        },
        "outputId": "6f239a14-f08f-4ba7-9982-45616cf17e5a"
      },
      "source": [
        "import tensorflow as tf\n",
        "from tensorflow.keras import layers as layers\n",
        "import numpy as np\n",
        "import matplotlib.pyplot as plt\n",
        "import seaborn as sns\n",
        "from tensorflow.keras.optimizers import Adam\n",
        "import tensorboard\n",
        "import datetime\n",
        "import warnings\n",
        "import os\n",
        "from sklearn import metrics\n",
        "from __future__ import print_function\n",
        "import keras\n",
        "from keras.layers import Dense, Conv2D, BatchNormalization, Activation\n",
        "from keras.layers import AveragePooling2D, Input, Flatten\n",
        "from keras.optimizers import Adam\n",
        "from keras.callbacks import ModelCheckpoint, LearningRateScheduler\n",
        "from keras.callbacks import ReduceLROnPlateau\n",
        "from keras.preprocessing.image import ImageDataGenerator\n",
        "from keras.regularizers import l2\n",
        "from keras import backend as K\n",
        "from keras.models import Model\n",
        "from keras.datasets import cifar10, cifar100\n",
        "import numpy as np\n",
        "import os\n",
        "\n",
        "%load_ext tensorboard"
      ],
      "execution_count": 3,
      "outputs": [
        {
          "output_type": "stream",
          "text": [
            "/usr/local/lib/python3.6/dist-packages/statsmodels/tools/_testing.py:19: FutureWarning: pandas.util.testing is deprecated. Use the functions in the public API at pandas.testing instead.\n",
            "  import pandas.util.testing as tm\n",
            "Using TensorFlow backend.\n"
          ],
          "name": "stderr"
        }
      ]
    },
    {
      "cell_type": "code",
      "metadata": {
        "id": "qiNGLAwx8EVe",
        "colab_type": "code",
        "colab": {}
      },
      "source": [
        "logdir = os.path.join(\"logs\", datetime.datetime.now( ).strftime(\"%Y%m%d-%H%M%S\"))\n",
        "tensorboard_callback = tf.keras.callbacks.TensorBoard(logdir, histogram_freq=1)\n",
        "warnings.filterwarnings('ignore')"
      ],
      "execution_count": 0,
      "outputs": []
    },
    {
      "cell_type": "code",
      "metadata": {
        "id": "xAYkFd0b8In6",
        "colab_type": "code",
        "colab": {
          "base_uri": "https://localhost:8080/",
          "height": 50
        },
        "outputId": "54cb3a76-36e6-457a-db2b-484847e69e8f"
      },
      "source": [
        "(x_train, y_train), (x_test, y_test) = tf.keras.datasets.mnist.load_data()\n",
        "img_rows = x_train[0].shape[0]\n",
        "img_cols = x_test[0].shape[1]\n",
        "no_channels = 1\n",
        "BATCH_SIZE = 128\n",
        "EPOCHS = 30\n",
        "\n",
        "x_train = x_train.reshape(x_train.shape[0],img_rows,img_cols,no_channels)\n",
        "x_test = x_test.reshape(x_test.shape[0],img_rows,img_cols,no_channels)\n",
        "in_shape = (img_rows, img_cols, no_channels)"
      ],
      "execution_count": 3,
      "outputs": [
        {
          "output_type": "stream",
          "text": [
            "Downloading data from https://storage.googleapis.com/tensorflow/tf-keras-datasets/mnist.npz\n",
            "11493376/11490434 [==============================] - 0s 0us/step\n"
          ],
          "name": "stdout"
        }
      ]
    },
    {
      "cell_type": "code",
      "metadata": {
        "id": "J8XBhZtZ8ljo",
        "colab_type": "code",
        "colab": {}
      },
      "source": [
        "model = tf.keras.Sequential([\n",
        "tf.keras.layers.Conv2D(filters=32, kernel_size=(2,2), strides=(2, 2), input_shape=in_shape, activation='relu', kernel_initializer='he_uniform', padding='same'),\n",
        "tf.keras.layers.MaxPool2D(),\n",
        "tf.keras.layers.Flatten(),\n",
        "tf.keras.layers.Dense(10, activation='softmax')])"
      ],
      "execution_count": 0,
      "outputs": []
    },
    {
      "cell_type": "code",
      "metadata": {
        "id": "0W3oRZI48sxh",
        "colab_type": "code",
        "colab": {
          "base_uri": "https://localhost:8080/",
          "height": 34
        },
        "outputId": "fc275035-b5a3-46b3-e09c-6befdb7873da"
      },
      "source": [
        "model.compile(optimizer='Adam', loss=tf.keras.losses.sparse_categorical_crossentropy, metrics='accuracy')\n",
        "model.fit(x_train, y_train, batch_size=BATCH_SIZE, epochs = EPOCHS, verbose=0, callbacks= [tensorboard_callback], validation_split=0.8, shuffle=True )"
      ],
      "execution_count": 5,
      "outputs": [
        {
          "output_type": "execute_result",
          "data": {
            "text/plain": [
              "<tensorflow.python.keras.callbacks.History at 0x7f9cb0105e48>"
            ]
          },
          "metadata": {
            "tags": []
          },
          "execution_count": 5
        }
      ]
    },
    {
      "cell_type": "code",
      "metadata": {
        "id": "E5AnHOBS8xQx",
        "colab_type": "code",
        "colab": {
          "base_uri": "https://localhost:8080/",
          "height": 34
        },
        "outputId": "3820a899-72fe-4fdb-ff52-daf30e365222"
      },
      "source": [
        "model.evaluate(x_test, y_test)\n",
        "y_hat = model.predict(x_test, batch_size=32)"
      ],
      "execution_count": 6,
      "outputs": [
        {
          "output_type": "stream",
          "text": [
            "313/313 [==============================] - 1s 2ms/step - loss: 4.5972 - accuracy: 0.9261\n"
          ],
          "name": "stdout"
        }
      ]
    },
    {
      "cell_type": "code",
      "metadata": {
        "id": "fV6gfhnu9Q5N",
        "colab_type": "code",
        "colab": {
          "base_uri": "https://localhost:8080/",
          "height": 282
        },
        "outputId": "1bf0c169-d1b4-4bff-a98e-95add5d13f32"
      },
      "source": [
        "sns.heatmap(tf.math.confusion_matrix(y_test, y_hat.argmax(axis=1)  ), cmap='GnBu', cbar=True)"
      ],
      "execution_count": 7,
      "outputs": [
        {
          "output_type": "execute_result",
          "data": {
            "text/plain": [
              "<matplotlib.axes._subplots.AxesSubplot at 0x7f9c5a17c3c8>"
            ]
          },
          "metadata": {
            "tags": []
          },
          "execution_count": 7
        },
        {
          "output_type": "display_data",
          "data": {
            "image/png": "[encoded data removed]",
            "text/plain": [
              "<Figure size 432x288 with 2 Axes>"
            ]
          },
          "metadata": {
            "tags": [],
            "needs_background": "light"
          }
        }
      ]
    },
    {
      "cell_type": "code",
      "metadata": {
        "id": "FjXoYUp09Ba9",
        "colab_type": "code",
        "colab": {
          "base_uri": "https://localhost:8080/",
          "height": 302
        },
        "outputId": "3aeac4d4-b43c-4f45-9167-dfcb855f82d3"
      },
      "source": [
        "print(metrics.classification_report( y_test, y_hat.argmax(axis=1)))"
      ],
      "execution_count": 9,
      "outputs": [
        {
          "output_type": "stream",
          "text": [
            "              precision    recall  f1-score   support\n",
            "\n",
            "           0       0.94      0.98      0.96       980\n",
            "           1       0.99      0.94      0.97      1135\n",
            "           2       0.87      0.95      0.91      1032\n",
            "           3       0.96      0.88      0.92      1010\n",
            "           4       0.94      0.96      0.95       982\n",
            "           5       0.81      0.97      0.88       892\n",
            "           6       0.96      0.94      0.95       958\n",
            "           7       0.94      0.92      0.93      1028\n",
            "           8       0.94      0.81      0.87       974\n",
            "           9       0.93      0.90      0.91      1009\n",
            "\n",
            "    accuracy                           0.93     10000\n",
            "   macro avg       0.93      0.93      0.93     10000\n",
            "weighted avg       0.93      0.93      0.93     10000\n",
            "\n"
          ],
          "name": "stdout"
        }
      ]
    },
    {
      "cell_type": "markdown",
      "metadata": {
        "id": "7kGeLBs25GLM",
        "colab_type": "text"
      },
      "source": [
        "## CNN for CIFAR-10 Dataset"
      ]
    },
    {
      "cell_type": "markdown",
      "metadata": {
        "id": "ocdDhiaJ_mZ_",
        "colab_type": "text"
      },
      "source": [
        "The CIFAR dataset is a complicated dataset with 10 classes of 6000 images in the respective classes. This is complicated in several aspects on of them being the RGB values in the input image. The pixel values without any inofrmation all has a greater pixel values unlike in MNIST dataset. The CIFAR dataset training was complicated because of the nature of the data. Generalisation techniques like Dropouts, Regularisation and Batch Normalisation were tried to achive better results and help the Network genralise better. Several, Networks of different sizes were tried starting with the shallow CNN used in for MNIST case.\n",
        "\n",
        "According to the white paper listed below:\n",
        "> *   https://arxiv.org/pdf/1603.05027.pdf\n",
        "> *   https://keras.io/examples/cifar10_resnet/\n",
        "\n",
        "\n",
        "the ResNets are indetified to perform better for the datasets. The filter sizes are doubled ofr every convoloutional layer as we progress from input layer to the output layer, meanwhile the strides are halved(downsampled). \n",
        "\n"
      ]
    },
    {
      "cell_type": "code",
      "metadata": {
        "id": "J_DQqnki5Kkz",
        "colab_type": "code",
        "colab": {
          "base_uri": "https://localhost:8080/",
          "height": 50
        },
        "outputId": "f6088b19-d351-4fc0-94c1-0582a8221102"
      },
      "source": [
        "batch_size = 256  # orig paper trained all networks with batch_size=128\n",
        "epochs = 200\n",
        "data_augmentation = True\n",
        "num_classes = 10\n",
        "\n",
        "subtract_pixel_mean = True\n",
        "\n",
        "n = 3\n",
        "depth = n * 6 + 2\n",
        "\n",
        "(x_train, y_train), (x_test, y_test) = cifar10.load_data()\n",
        "input_shape = x_train.shape[1:]"
      ],
      "execution_count": 10,
      "outputs": [
        {
          "output_type": "stream",
          "text": [
            "Downloading data from https://www.cs.toronto.edu/~kriz/cifar-10-python.tar.gz\n",
            "170500096/170498071 [==============================] - 11s 0us/step\n"
          ],
          "name": "stdout"
        }
      ]
    },
    {
      "cell_type": "markdown",
      "metadata": {
        "id": "6o9drIrCDH6E",
        "colab_type": "text"
      },
      "source": [
        "The input data is normalised(the pixel values). By subtarcting the mean of the pixel values help us reach better accuracy."
      ]
    },
    {
      "cell_type": "code",
      "metadata": {
        "id": "sjOj-009DCAV",
        "colab_type": "code",
        "colab": {}
      },
      "source": [
        "x_train = x_train.astype('float32') / 255\n",
        "x_test = x_test.astype('float32') / 255\n",
        "\n",
        "if subtract_pixel_mean:\n",
        "    x_train_mean = np.mean(x_train, axis=0)\n",
        "    x_train -= x_train_mean\n",
        "    x_test -= x_train_mean"
      ],
      "execution_count": 0,
      "outputs": []
    },
    {
      "cell_type": "code",
      "metadata": {
        "id": "9XlzGrkwDuwp",
        "colab_type": "code",
        "colab": {}
      },
      "source": [
        "y_train = keras.utils.to_categorical(y_train, num_classes)\n",
        "y_test = keras.utils.to_categorical(y_test, num_classes)"
      ],
      "execution_count": 0,
      "outputs": []
    },
    {
      "cell_type": "code",
      "metadata": {
        "id": "dGnESvHob2gR",
        "colab_type": "code",
        "colab": {}
      },
      "source": [
        "def lr_schedule(epoch):\n",
        "    \"\"\"Learning Rate Schedule\n",
        "\n",
        "    Learning rate is scheduled to be reduced after 80, 120, 160, 180 epochs.\n",
        "    Called automatically every epoch as part of callbacks during training.\n",
        "\n",
        "    # Arguments\n",
        "        epoch (int): The number of epochs\n",
        "\n",
        "    # Returns\n",
        "        lr (float32): learning rate\n",
        "    \"\"\"\n",
        "    lr = 1e-3\n",
        "    if epoch > 180:\n",
        "        lr *= 0.5e-3\n",
        "    elif epoch > 160:\n",
        "        lr *= 1e-3\n",
        "    elif epoch > 120:\n",
        "        lr *= 1e-2\n",
        "    elif epoch > 80:\n",
        "        lr *= 1e-1\n",
        "    print('Learning rate: ', lr)\n",
        "    return lr"
      ],
      "execution_count": 0,
      "outputs": []
    },
    {
      "cell_type": "code",
      "metadata": {
        "id": "OJJhLwwRDxHX",
        "colab_type": "code",
        "colab": {}
      },
      "source": [
        "def resnet_layer(inputs, num_filters=16, kernel_size=3, strides=1, activation='relu',batch_normalization=True,conv_first=True):\n",
        "    \n",
        "    conv = Conv2D(num_filters,\n",
        "                  kernel_size=kernel_size,\n",
        "                  strides=strides,\n",
        "                  padding='same',\n",
        "                  kernel_initializer='he_normal',\n",
        "                  kernel_regularizer=l2(1e-4))\n",
        "\n",
        "    x = inputs\n",
        "    if conv_first:\n",
        "        x = conv(x)\n",
        "        if batch_normalization:\n",
        "            x = BatchNormalization()(x)\n",
        "        if activation is not None:\n",
        "            x = Activation(activation)(x)\n",
        "    else:\n",
        "        if batch_normalization:\n",
        "            x = BatchNormalization()(x)\n",
        "        if activation is not None:\n",
        "            x = Activation(activation)(x)\n",
        "        x = conv(x)\n",
        "    return x"
      ],
      "execution_count": 0,
      "outputs": []
    },
    {
      "cell_type": "markdown",
      "metadata": {
        "id": "Ejm_ao3zI8p_",
        "colab_type": "text"
      },
      "source": [
        "Here we build the 2D Convoultion layers - Batch Normalisation pairs. The method is taken from the above link and modified to the convinience. "
      ]
    },
    {
      "cell_type": "code",
      "metadata": {
        "id": "nqIpqt8_I8G6",
        "colab_type": "code",
        "colab": {}
      },
      "source": [
        "def resnet_v1(input_shape, depth, num_classes=10):\n",
        "    if (depth - 2) % 6 != 0:\n",
        "        raise ValueError('depth should be 6n+2 (eg 20, 32, 44 in [a])')\n",
        "    num_filters = 16\n",
        "    num_res_blocks = int((depth - 2) / 6)\n",
        "\n",
        "    inputs = Input(shape=input_shape)\n",
        "    x = resnet_layer(inputs=inputs)\n",
        "    # Instantiate the stack of residual units\n",
        "    for stack in range(3):\n",
        "        for res_block in range(num_res_blocks):\n",
        "            strides = 1\n",
        "            if stack > 0 and res_block == 0:  # first layer but not first stack\n",
        "                strides = 2  # downsample\n",
        "            y = resnet_layer(inputs=x, num_filters=num_filters,strides=strides)\n",
        "            y = resnet_layer(inputs=y,num_filters=num_filters, activation=None)\n",
        "            if stack > 0 and res_block == 0:  \n",
        "                x = resnet_layer(inputs=x,num_filters=num_filters, kernel_size=1,strides=strides, activation=None, batch_normalization=False)\n",
        "            x = keras.layers.add([x, y])\n",
        "            x = Activation('relu')(x)\n",
        "        num_filters *= 2\n",
        "\n",
        "    # Add classifier on top.\n",
        "    # v1 does not use BN after last shortcut connection-ReLU\n",
        "    x = AveragePooling2D(pool_size=8)(x)\n",
        "    y = Flatten()(x)\n",
        "    outputs = Dense(num_classes,\n",
        "                    activation='softmax',\n",
        "                    kernel_initializer='he_normal')(y)\n",
        "\n",
        "    # Instantiate model.\n",
        "    model = Model(inputs=inputs, outputs=outputs)\n",
        "    return model"
      ],
      "execution_count": 0,
      "outputs": []
    },
    {
      "cell_type": "code",
      "metadata": {
        "id": "T7itH5P1LHiB",
        "colab_type": "code",
        "colab": {
          "base_uri": "https://localhost:8080/",
          "height": 1000
        },
        "outputId": "ac023ff1-0382-4583-b28a-cf9e8f3bb910"
      },
      "source": [
        "model = resnet_v1(input_shape=input_shape, depth=depth)\n",
        "model.compile(loss='categorical_crossentropy', optimizer=Adam(learning_rate=lr_schedule(0)),metrics=['accuracy'])\n",
        "model.summary()"
      ],
      "execution_count": 26,
      "outputs": [
        {
          "output_type": "stream",
          "text": [
            "Learning rate:  0.001\n",
            "Model: \"model_6\"\n",
            "__________________________________________________________________________________________________\n",
            "Layer (type)                    Output Shape         Param #     Connected to                     \n",
            "==================================================================================================\n",
            "input_6 (InputLayer)            (None, 32, 32, 3)    0                                            \n",
            "__________________________________________________________________________________________________\n",
            "conv2d_106 (Conv2D)             (None, 32, 32, 16)   448         input_6[0][0]                    \n",
            "__________________________________________________________________________________________________\n",
            "batch_normalization_96 (BatchNo (None, 32, 32, 16)   64          conv2d_106[0][0]                 \n",
            "__________________________________________________________________________________________________\n",
            "activation_96 (Activation)      (None, 32, 32, 16)   0           batch_normalization_96[0][0]     \n",
            "__________________________________________________________________________________________________\n",
            "conv2d_107 (Conv2D)             (None, 32, 32, 16)   2320        activation_96[0][0]              \n",
            "__________________________________________________________________________________________________\n",
            "batch_normalization_97 (BatchNo (None, 32, 32, 16)   64          conv2d_107[0][0]                 \n",
            "__________________________________________________________________________________________________\n",
            "activation_97 (Activation)      (None, 32, 32, 16)   0           batch_normalization_97[0][0]     \n",
            "__________________________________________________________________________________________________\n",
            "conv2d_108 (Conv2D)             (None, 32, 32, 16)   2320        activation_97[0][0]              \n",
            "__________________________________________________________________________________________________\n",
            "batch_normalization_98 (BatchNo (None, 32, 32, 16)   64          conv2d_108[0][0]                 \n",
            "__________________________________________________________________________________________________\n",
            "add_46 (Add)                    (None, 32, 32, 16)   0           activation_96[0][0]              \n",
            "                                                                 batch_normalization_98[0][0]     \n",
            "__________________________________________________________________________________________________\n",
            "activation_98 (Activation)      (None, 32, 32, 16)   0           add_46[0][0]                     \n",
            "__________________________________________________________________________________________________\n",
            "conv2d_109 (Conv2D)             (None, 32, 32, 16)   2320        activation_98[0][0]              \n",
            "__________________________________________________________________________________________________\n",
            "batch_normalization_99 (BatchNo (None, 32, 32, 16)   64          conv2d_109[0][0]                 \n",
            "__________________________________________________________________________________________________\n",
            "activation_99 (Activation)      (None, 32, 32, 16)   0           batch_normalization_99[0][0]     \n",
            "__________________________________________________________________________________________________\n",
            "conv2d_110 (Conv2D)             (None, 32, 32, 16)   2320        activation_99[0][0]              \n",
            "__________________________________________________________________________________________________\n",
            "batch_normalization_100 (BatchN (None, 32, 32, 16)   64          conv2d_110[0][0]                 \n",
            "__________________________________________________________________________________________________\n",
            "add_47 (Add)                    (None, 32, 32, 16)   0           activation_98[0][0]              \n",
            "                                                                 batch_normalization_100[0][0]    \n",
            "__________________________________________________________________________________________________\n",
            "activation_100 (Activation)     (None, 32, 32, 16)   0           add_47[0][0]                     \n",
            "__________________________________________________________________________________________________\n",
            "conv2d_111 (Conv2D)             (None, 32, 32, 16)   2320        activation_100[0][0]             \n",
            "__________________________________________________________________________________________________\n",
            "batch_normalization_101 (BatchN (None, 32, 32, 16)   64          conv2d_111[0][0]                 \n",
            "__________________________________________________________________________________________________\n",
            "activation_101 (Activation)     (None, 32, 32, 16)   0           batch_normalization_101[0][0]    \n",
            "__________________________________________________________________________________________________\n",
            "conv2d_112 (Conv2D)             (None, 32, 32, 16)   2320        activation_101[0][0]             \n",
            "__________________________________________________________________________________________________\n",
            "batch_normalization_102 (BatchN (None, 32, 32, 16)   64          conv2d_112[0][0]                 \n",
            "__________________________________________________________________________________________________\n",
            "add_48 (Add)                    (None, 32, 32, 16)   0           activation_100[0][0]             \n",
            "                                                                 batch_normalization_102[0][0]    \n",
            "__________________________________________________________________________________________________\n",
            "activation_102 (Activation)     (None, 32, 32, 16)   0           add_48[0][0]                     \n",
            "__________________________________________________________________________________________________\n",
            "conv2d_113 (Conv2D)             (None, 16, 16, 32)   4640        activation_102[0][0]             \n",
            "__________________________________________________________________________________________________\n",
            "batch_normalization_103 (BatchN (None, 16, 16, 32)   128         conv2d_113[0][0]                 \n",
            "__________________________________________________________________________________________________\n",
            "activation_103 (Activation)     (None, 16, 16, 32)   0           batch_normalization_103[0][0]    \n",
            "__________________________________________________________________________________________________\n",
            "conv2d_114 (Conv2D)             (None, 16, 16, 32)   9248        activation_103[0][0]             \n",
            "__________________________________________________________________________________________________\n",
            "conv2d_115 (Conv2D)             (None, 16, 16, 32)   544         activation_102[0][0]             \n",
            "__________________________________________________________________________________________________\n",
            "batch_normalization_104 (BatchN (None, 16, 16, 32)   128         conv2d_114[0][0]                 \n",
            "__________________________________________________________________________________________________\n",
            "add_49 (Add)                    (None, 16, 16, 32)   0           conv2d_115[0][0]                 \n",
            "                                                                 batch_normalization_104[0][0]    \n",
            "__________________________________________________________________________________________________\n",
            "activation_104 (Activation)     (None, 16, 16, 32)   0           add_49[0][0]                     \n",
            "__________________________________________________________________________________________________\n",
            "conv2d_116 (Conv2D)             (None, 16, 16, 32)   9248        activation_104[0][0]             \n",
            "__________________________________________________________________________________________________\n",
            "batch_normalization_105 (BatchN (None, 16, 16, 32)   128         conv2d_116[0][0]                 \n",
            "__________________________________________________________________________________________________\n",
            "activation_105 (Activation)     (None, 16, 16, 32)   0           batch_normalization_105[0][0]    \n",
            "__________________________________________________________________________________________________\n",
            "conv2d_117 (Conv2D)             (None, 16, 16, 32)   9248        activation_105[0][0]             \n",
            "__________________________________________________________________________________________________\n",
            "batch_normalization_106 (BatchN (None, 16, 16, 32)   128         conv2d_117[0][0]                 \n",
            "__________________________________________________________________________________________________\n",
            "add_50 (Add)                    (None, 16, 16, 32)   0           activation_104[0][0]             \n",
            "                                                                 batch_normalization_106[0][0]    \n",
            "__________________________________________________________________________________________________\n",
            "activation_106 (Activation)     (None, 16, 16, 32)   0           add_50[0][0]                     \n",
            "__________________________________________________________________________________________________\n",
            "conv2d_118 (Conv2D)             (None, 16, 16, 32)   9248        activation_106[0][0]             \n",
            "__________________________________________________________________________________________________\n",
            "batch_normalization_107 (BatchN (None, 16, 16, 32)   128         conv2d_118[0][0]                 \n",
            "__________________________________________________________________________________________________\n",
            "activation_107 (Activation)     (None, 16, 16, 32)   0           batch_normalization_107[0][0]    \n",
            "__________________________________________________________________________________________________\n",
            "conv2d_119 (Conv2D)             (None, 16, 16, 32)   9248        activation_107[0][0]             \n",
            "__________________________________________________________________________________________________\n",
            "batch_normalization_108 (BatchN (None, 16, 16, 32)   128         conv2d_119[0][0]                 \n",
            "__________________________________________________________________________________________________\n",
            "add_51 (Add)                    (None, 16, 16, 32)   0           activation_106[0][0]             \n",
            "                                                                 batch_normalization_108[0][0]    \n",
            "__________________________________________________________________________________________________\n",
            "activation_108 (Activation)     (None, 16, 16, 32)   0           add_51[0][0]                     \n",
            "__________________________________________________________________________________________________\n",
            "conv2d_120 (Conv2D)             (None, 8, 8, 64)     18496       activation_108[0][0]             \n",
            "__________________________________________________________________________________________________\n",
            "batch_normalization_109 (BatchN (None, 8, 8, 64)     256         conv2d_120[0][0]                 \n",
            "__________________________________________________________________________________________________\n",
            "activation_109 (Activation)     (None, 8, 8, 64)     0           batch_normalization_109[0][0]    \n",
            "__________________________________________________________________________________________________\n",
            "conv2d_121 (Conv2D)             (None, 8, 8, 64)     36928       activation_109[0][0]             \n",
            "__________________________________________________________________________________________________\n",
            "conv2d_122 (Conv2D)             (None, 8, 8, 64)     2112        activation_108[0][0]             \n",
            "__________________________________________________________________________________________________\n",
            "batch_normalization_110 (BatchN (None, 8, 8, 64)     256         conv2d_121[0][0]                 \n",
            "__________________________________________________________________________________________________\n",
            "add_52 (Add)                    (None, 8, 8, 64)     0           conv2d_122[0][0]                 \n",
            "                                                                 batch_normalization_110[0][0]    \n",
            "__________________________________________________________________________________________________\n",
            "activation_110 (Activation)     (None, 8, 8, 64)     0           add_52[0][0]                     \n",
            "__________________________________________________________________________________________________\n",
            "conv2d_123 (Conv2D)             (None, 8, 8, 64)     36928       activation_110[0][0]             \n",
            "__________________________________________________________________________________________________\n",
            "batch_normalization_111 (BatchN (None, 8, 8, 64)     256         conv2d_123[0][0]                 \n",
            "__________________________________________________________________________________________________\n",
            "activation_111 (Activation)     (None, 8, 8, 64)     0           batch_normalization_111[0][0]    \n",
            "__________________________________________________________________________________________________\n",
            "conv2d_124 (Conv2D)             (None, 8, 8, 64)     36928       activation_111[0][0]             \n",
            "__________________________________________________________________________________________________\n",
            "batch_normalization_112 (BatchN (None, 8, 8, 64)     256         conv2d_124[0][0]                 \n",
            "__________________________________________________________________________________________________\n",
            "add_53 (Add)                    (None, 8, 8, 64)     0           activation_110[0][0]             \n",
            "                                                                 batch_normalization_112[0][0]    \n",
            "__________________________________________________________________________________________________\n",
            "activation_112 (Activation)     (None, 8, 8, 64)     0           add_53[0][0]                     \n",
            "__________________________________________________________________________________________________\n",
            "conv2d_125 (Conv2D)             (None, 8, 8, 64)     36928       activation_112[0][0]             \n",
            "__________________________________________________________________________________________________\n",
            "batch_normalization_113 (BatchN (None, 8, 8, 64)     256         conv2d_125[0][0]                 \n",
            "__________________________________________________________________________________________________\n",
            "activation_113 (Activation)     (None, 8, 8, 64)     0           batch_normalization_113[0][0]    \n",
            "__________________________________________________________________________________________________\n",
            "conv2d_126 (Conv2D)             (None, 8, 8, 64)     36928       activation_113[0][0]             \n",
            "__________________________________________________________________________________________________\n",
            "batch_normalization_114 (BatchN (None, 8, 8, 64)     256         conv2d_126[0][0]                 \n",
            "__________________________________________________________________________________________________\n",
            "add_54 (Add)                    (None, 8, 8, 64)     0           activation_112[0][0]             \n",
            "                                                                 batch_normalization_114[0][0]    \n",
            "__________________________________________________________________________________________________\n",
            "activation_114 (Activation)     (None, 8, 8, 64)     0           add_54[0][0]                     \n",
            "__________________________________________________________________________________________________\n",
            "average_pooling2d_6 (AveragePoo (None, 1, 1, 64)     0           activation_114[0][0]             \n",
            "__________________________________________________________________________________________________\n",
            "flatten_6 (Flatten)             (None, 64)           0           average_pooling2d_6[0][0]        \n",
            "__________________________________________________________________________________________________\n",
            "dense_6 (Dense)                 (None, 10)           650         flatten_6[0][0]                  \n",
            "==================================================================================================\n",
            "Total params: 274,442\n",
            "Trainable params: 273,066\n",
            "Non-trainable params: 1,376\n",
            "__________________________________________________________________________________________________\n"
          ],
          "name": "stdout"
        }
      ]
    },
    {
      "cell_type": "code",
      "metadata": {
        "id": "S8-3CWB4NO69",
        "colab_type": "code",
        "colab": {}
      },
      "source": [
        "# Prepare model model saving directory.\n",
        "save_dir = os.path.join(os.getcwd(), 'saved_models')\n",
        "model_name = 'cifar10_%s_model.{epoch:03d}.h5'\n",
        "if not os.path.isdir(save_dir):\n",
        "    os.makedirs(save_dir)\n",
        "filepath = os.path.join(save_dir, model_name)\n",
        "\n",
        "# Prepare callbacks for model saving and for learning rate adjustment.\n",
        "checkpoint = ModelCheckpoint(filepath=filepath,monitor='val_acc',verbose=1, save_best_only=True)\n",
        "lr_scheduler = LearningRateScheduler(lr_schedule)\n",
        "\n",
        "callbacks = [checkpoint, tensorboard_callback, lr_scheduler]"
      ],
      "execution_count": 0,
      "outputs": []
    },
    {
      "cell_type": "code",
      "metadata": {
        "id": "OKjWgEkgOQbm",
        "colab_type": "code",
        "colab": {}
      },
      "source": [
        "if not data_augmentation:\n",
        "    print('Not using data augmentation.')\n",
        "    model.fit(x_train, y_train,\n",
        "              batch_size=batch_size,\n",
        "              epochs=epochs,\n",
        "              validation_data=(x_test, y_test),\n",
        "              shuffle=True,\n",
        "              callbacks=callbacks)\n",
        "else:\n",
        "    print('Using real-time data augmentation.')\n",
        "    # This will do preprocessing and realtime data augmentation:\n",
        "    datagen = ImageDataGenerator(\n",
        "        # set input mean to 0 over the dataset\n",
        "        featurewise_center=False,\n",
        "        # set each sample mean to 0\n",
        "        samplewise_center=False,\n",
        "        # divide inputs by std of dataset\n",
        "        featurewise_std_normalization=False,\n",
        "        # divide each input by its std\n",
        "        samplewise_std_normalization=False,\n",
        "        # apply ZCA whitening\n",
        "        zca_whitening=False,\n",
        "        # epsilon for ZCA whitening\n",
        "        zca_epsilon=1e-06,\n",
        "        # randomly rotate images in the range (deg 0 to 180)\n",
        "        rotation_range=0,\n",
        "        # randomly shift images horizontally\n",
        "        width_shift_range=0.1,\n",
        "        # randomly shift images vertically\n",
        "        height_shift_range=0.1,\n",
        "        # set range for random shear\n",
        "        shear_range=0.,\n",
        "        # set range for random zoom\n",
        "        zoom_range=0.,\n",
        "        # set range for random channel shifts\n",
        "        channel_shift_range=0.,\n",
        "        # set mode for filling points outside the input boundaries\n",
        "        fill_mode='nearest',\n",
        "        # value used for fill_mode = \"constant\"\n",
        "        cval=0.,\n",
        "        # randomly flip images\n",
        "        horizontal_flip=True,\n",
        "        # randomly flip images\n",
        "        vertical_flip=False,\n",
        "        # set rescaling factor (applied before any other transformation)\n",
        "        rescale=None,\n",
        "        # set function that will be applied on each input\n",
        "        preprocessing_function=None,\n",
        "        # image data format, either \"channels_first\" or \"channels_last\"\n",
        "        data_format=None,\n",
        "        # fraction of images reserved for validation (strictly between 0 and 1)\n",
        "        validation_split=0.0)\n",
        "\n",
        "    # Compute quantities required for featurewise normalization\n",
        "    # (std, mean, and principal components if ZCA whitening is applied).\n",
        "    datagen.fit(x_train)\n",
        "\n",
        "    # Fit the model on the batches generated by datagen.flow().\n",
        "    model.fit_generator(datagen.flow(x_train, y_train, batch_size=batch_size),\n",
        "                        validation_data=(x_test, y_test),\n",
        "                        epochs=epochs, verbose=1, workers=4,\n",
        "                        callbacks=callbacks)\n",
        "\n",
        "# Score trained model.\n",
        "scores = model.evaluate(x_test, y_test, verbose=1)\n",
        "print('Test loss:', scores[0])\n",
        "print('Test accuracy:', scores[1])"
      ],
      "execution_count": 0,
      "outputs": []
    },
    {
      "cell_type": "code",
      "metadata": {
        "id": "3AEEl3gRORiA",
        "colab_type": "code",
        "colab": {
          "base_uri": "https://localhost:8080/",
          "height": 34
        },
        "outputId": "14eaf034-0176-4f36-e65b-e59d865faa8f"
      },
      "source": [
        "from google.colab import drive\n",
        "drive.mount('/content/drive/')\n",
        "model1 = keras.models.load_model('/content/drive/My Drive/Colab Notebooks/CNN_resnet.hd5')"
      ],
      "execution_count": 58,
      "outputs": [
        {
          "output_type": "stream",
          "text": [
            "Drive already mounted at /content/drive/; to attempt to forcibly remount, call drive.mount(\"/content/drive/\", force_remount=True).\n"
          ],
          "name": "stdout"
        }
      ]
    },
    {
      "cell_type": "code",
      "metadata": {
        "id": "YqK3gG7XSE2r",
        "colab_type": "code",
        "colab": {
          "base_uri": "https://localhost:8080/",
          "height": 50
        },
        "outputId": "feab56ec-78f7-4871-cb80-60dc47b8e402"
      },
      "source": [
        "print(model1.evaluate(x_test, y_test))\n",
        "y_hat_1 = model1.predict(x_test)"
      ],
      "execution_count": 59,
      "outputs": [
        {
          "output_type": "stream",
          "text": [
            "10000/10000 [==============================] - 3s 301us/step\n",
            "[0.49906386132240294, 0.9085000157356262]\n"
          ],
          "name": "stdout"
        }
      ]
    },
    {
      "cell_type": "code",
      "metadata": {
        "id": "rflqF_lLSIXC",
        "colab_type": "code",
        "colab": {
          "base_uri": "https://localhost:8080/",
          "height": 302
        },
        "outputId": "11fedd43-2f1f-4b6f-8ba0-b04108f02903"
      },
      "source": [
        "print(metrics.classification_report(y_hat_1.argmax(axis=1), np.argmax(y_test, axis=1)))"
      ],
      "execution_count": 60,
      "outputs": [
        {
          "output_type": "stream",
          "text": [
            "              precision    recall  f1-score   support\n",
            "\n",
            "           0       0.93      0.91      0.92      1015\n",
            "           1       0.97      0.95      0.96      1023\n",
            "           2       0.86      0.87      0.87       990\n",
            "           3       0.79      0.82      0.81       960\n",
            "           4       0.92      0.90      0.91      1020\n",
            "           5       0.84      0.87      0.85       966\n",
            "           6       0.95      0.91      0.93      1045\n",
            "           7       0.94      0.95      0.95       987\n",
            "           8       0.95      0.96      0.95       990\n",
            "           9       0.95      0.94      0.94      1004\n",
            "\n",
            "    accuracy                           0.91     10000\n",
            "   macro avg       0.91      0.91      0.91     10000\n",
            "weighted avg       0.91      0.91      0.91     10000\n",
            "\n"
          ],
          "name": "stdout"
        }
      ]
    },
    {
      "cell_type": "code",
      "metadata": {
        "id": "jsiCrbEagw9w",
        "colab_type": "code",
        "colab": {
          "base_uri": "https://localhost:8080/",
          "height": 282
        },
        "outputId": "89555969-3601-4e66-f52e-590aaf924eee"
      },
      "source": [
        "sns.heatmap(metrics.confusion_matrix(y_hat_1.argmax(axis=1), np.argmax(y_test, axis=1)), cmap = 'GnBu', cbar=True)"
      ],
      "execution_count": 62,
      "outputs": [
        {
          "output_type": "execute_result",
          "data": {
            "text/plain": [
              "<matplotlib.axes._subplots.AxesSubplot at 0x7f9c2e6b79e8>"
            ]
          },
          "metadata": {
            "tags": []
          },
          "execution_count": 62
        },
        {
          "output_type": "display_data",
          "data": {
            "image/png": "[encoded data removed]",
            "text/plain": [
              "<Figure size 432x288 with 2 Axes>"
            ]
          },
          "metadata": {
            "tags": [],
            "needs_background": "light"
          }
        }
      ]
    },
    {
      "cell_type": "markdown",
      "metadata": {
        "id": "pc7Y10afX3Ys",
        "colab_type": "text"
      },
      "source": [
        "On training the NN model with image augmentation and for 200 epoch with varying learning rate. We observe the following behaviour.\n",
        "\n",
        "![alt text](https://drive.google.com/uc?id=1-k3ROZNy8CBjJJupxN5Yp6Wnh4fKSmf_)\n",
        "\n",
        "The plot shows the loss for validation and training against number of epochs.\n",
        "\n",
        "\n",
        "![alt text](https://drive.google.com/uc?id=1-eMnMrI2l9PBcUxeZ0WZYP1-YV4EJmnq)\n",
        "\n",
        "The plot shows the accuracy for the training and validation.\n",
        "\n",
        "![alt text](https://drive.google.com/uc?id=1-e3Qd8kq1G4mOAsJrMkvEwFOo0npHdvg)\n",
        "\n",
        "The figure shows the input image after normalisation and subtacting the pixel mean.\n",
        "\n",
        "![alt text](https://drive.google.com/uc?id=1-Nq03zfZBZ0vsH61-F8wojF1jpxlqwQc)\n",
        "\n",
        "The figure shows the varying learning rate across the epochs."
      ]
    },
    {
      "cell_type": "markdown",
      "metadata": {
        "id": "19CNMROw5MFS",
        "colab_type": "text"
      },
      "source": [
        "## CNN for CIFAR-100 Dataset"
      ]
    },
    {
      "cell_type": "code",
      "metadata": {
        "id": "3y3S5QKk5QBw",
        "colab_type": "code",
        "colab": {}
      },
      "source": [
        "batch_size = 256  # orig paper trained all networks with batch_size=128\n",
        "epochs = 200\n",
        "data_augmentation = True\n",
        "num_classes = 100\n",
        "\n",
        "subtract_pixel_mean = True\n",
        "\n",
        "n = 3\n",
        "depth = n * 6 + 2\n",
        "\n",
        "(x_train, y_train), (x_test, y_test) = cifar100.load_data()\n",
        "input_shape = x_train.shape[1:]"
      ],
      "execution_count": 0,
      "outputs": []
    },
    {
      "cell_type": "code",
      "metadata": {
        "id": "PRxSF1MHjw_P",
        "colab_type": "code",
        "colab": {}
      },
      "source": [
        "x_train = x_train.astype('float32') / 255\n",
        "x_test = x_test.astype('float32') / 255\n",
        "\n",
        "if subtract_pixel_mean:\n",
        "    x_train_mean = np.mean(x_train, axis=0)\n",
        "    x_train -= x_train_mean\n",
        "    x_test -= x_train_mean\n",
        "y_train = keras.utils.to_categorical(y_train, num_classes)\n",
        "y_test = keras.utils.to_categorical(y_test, num_classes)"
      ],
      "execution_count": 0,
      "outputs": []
    },
    {
      "cell_type": "code",
      "metadata": {
        "id": "xEwOjax6kc6P",
        "colab_type": "code",
        "colab": {}
      },
      "source": [
        "if version == 2:\n",
        "    model = resnet_v2(input_shape=input_shape, depth=depth)\n",
        "else:\n",
        "    model = resnet_v1(input_shape=input_shape, depth=depth)\n",
        "\n",
        "model.compile(loss='categorical_crossentropy',\n",
        "              optimizer=Adam(learning_rate=lr_schedule(0)),\n",
        "              metrics=['accuracy'])\n",
        "model.summary()\n",
        "print(model_type)\n",
        "\n",
        "# Prepare model model saving directory.\n",
        "save_dir = os.path.join(os.getcwd(), 'saved_models')\n",
        "model_name = 'cifar100_%s_model.{epoch:03d}.h5' % model_type\n",
        "if not os.path.isdir(save_dir):\n",
        "    os.makedirs(save_dir)\n",
        "filepath = os.path.join(save_dir, model_name)\n",
        "\n",
        "# Prepare callbacks for model saving and for learning rate adjustment.\n",
        "checkpoint = ModelCheckpoint(filepath=filepath,\n",
        "                             monitor='val_acc',\n",
        "                             verbose=1,\n",
        "                             save_best_only=True)\n",
        "\n",
        "lr_scheduler = LearningRateScheduler(lr_schedule)\n",
        "\n",
        "lr_reducer = ReduceLROnPlateau(factor=np.sqrt(0.1),\n",
        "                               cooldown=0,\n",
        "                               patience=5,\n",
        "                               min_lr=0.5e-6)\n",
        "\n",
        "callbacks = [checkpoint, lr_reducer, lr_scheduler]\n",
        "\n",
        "# Run training, with or without data augmentation.\n",
        "if not data_augmentation:\n",
        "    print('Not using data augmentation.')\n",
        "    model.fit(x_train, y_train,\n",
        "              batch_size=batch_size,\n",
        "              epochs=epochs,\n",
        "              validation_data=(x_test, y_test),\n",
        "              shuffle=True,\n",
        "              callbacks=callbacks)\n",
        "else:\n",
        "    print('Using real-time data augmentation.')\n",
        "    # This will do preprocessing and realtime data augmentation:\n",
        "    datagen = ImageDataGenerator(\n",
        "        # set input mean to 0 over the dataset\n",
        "        featurewise_center=False,\n",
        "        # set each sample mean to 0\n",
        "        samplewise_center=False,\n",
        "        # divide inputs by std of dataset\n",
        "        featurewise_std_normalization=False,\n",
        "        # divide each input by its std\n",
        "        samplewise_std_normalization=False,\n",
        "        # apply ZCA whitening\n",
        "        zca_whitening=False,\n",
        "        # epsilon for ZCA whitening\n",
        "        zca_epsilon=1e-06,\n",
        "        # randomly rotate images in the range (deg 0 to 180)\n",
        "        rotation_range=0,\n",
        "        # randomly shift images horizontally\n",
        "        width_shift_range=0.1,\n",
        "        # randomly shift images vertically\n",
        "        height_shift_range=0.1,\n",
        "        # set range for random shear\n",
        "        shear_range=0.,\n",
        "        # set range for random zoom\n",
        "        zoom_range=0.,\n",
        "        # set range for random channel shifts\n",
        "        channel_shift_range=0.,\n",
        "        # set mode for filling points outside the input boundaries\n",
        "        fill_mode='nearest',\n",
        "        # value used for fill_mode = \"constant\"\n",
        "        cval=0.,\n",
        "        # randomly flip images\n",
        "        horizontal_flip=True,\n",
        "        # randomly flip images\n",
        "        vertical_flip=False,\n",
        "        # set rescaling factor (applied before any other transformation)\n",
        "        rescale=None,\n",
        "        # set function that will be applied on each input\n",
        "        preprocessing_function=None,\n",
        "        # image data format, either \"channels_first\" or \"channels_last\"\n",
        "        data_format=None,\n",
        "        # fraction of images reserved for validation (strictly between 0 and 1)\n",
        "        validation_split=0.0)\n",
        "\n",
        "    # Compute quantities required for featurewise normalization\n",
        "    # (std, mean, and principal components if ZCA whitening is applied).\n",
        "    datagen.fit(x_train)\n",
        "\n",
        "    # Fit the model on the batches generated by datagen.flow().\n",
        "    model.fit_generator(datagen.flow(x_train, y_train, batch_size=batch_size),\n",
        "                        validation_data=(x_test, y_test),\n",
        "                        epochs=epochs, verbose=1, workers=4,\n",
        "                        callbacks=callbacks)\n",
        "\n",
        "# Score trained model.\n",
        "scores = model.evaluate(x_test, y_test, verbose=1)\n",
        "print('Test loss:', scores[0])\n",
        "print('Test accuracy:', scores[1])"
      ],
      "execution_count": 0,
      "outputs": []
    },
    {
      "cell_type": "code",
      "metadata": {
        "id": "E5ieM_k-FFWj",
        "colab_type": "code",
        "colab": {}
      },
      "source": [
        "model_cifar100 = tf.keras.models.load_model('/content/drive/My Drive/Colab Notebooks/CNN_resnet_cifar100_2.hd5')"
      ],
      "execution_count": 0,
      "outputs": []
    },
    {
      "cell_type": "code",
      "metadata": {
        "id": "EttawuBXFhKv",
        "colab_type": "code",
        "colab": {
          "base_uri": "https://localhost:8080/",
          "height": 50
        },
        "outputId": "142d4924-d2b1-43ec-bc65-d5249a9c9509"
      },
      "source": [
        "print(model_cifar100.evaluate(x_test, y_test))\n",
        "y_hat_1 = model_cifar100.predict(x_test)"
      ],
      "execution_count": 16,
      "outputs": [
        {
          "output_type": "stream",
          "text": [
            "313/313 [==============================] - 2s 6ms/step - loss: 1.6738 - accuracy: 0.6284\n",
            "[1.6738015413284302, 0.6284000277519226]\n"
          ],
          "name": "stdout"
        }
      ]
    },
    {
      "cell_type": "code",
      "metadata": {
        "id": "Cr65n8SVHGse",
        "colab_type": "code",
        "colab": {
          "base_uri": "https://localhost:8080/",
          "height": 288
        },
        "outputId": "6ec01d13-f23e-477b-e7c5-d17afd5398f1"
      },
      "source": [
        "sns.heatmap(tf.math.confusion_matrix(np.argmax(y_hat_1, axis=1), np.argmax(y_test, axis=1) ), cmap='GnBu', cbar=True)"
      ],
      "execution_count": 18,
      "outputs": [
        {
          "output_type": "execute_result",
          "data": {
            "text/plain": [
              "<matplotlib.axes._subplots.AxesSubplot at 0x7f8638cb0e48>"
            ]
          },
          "metadata": {
            "tags": []
          },
          "execution_count": 18
        },
        {
          "output_type": "display_data",
          "data": {
            "image/png": "[encoded data removed]",
            "text/plain": [
              "<Figure size 432x288 with 2 Axes>"
            ]
          },
          "metadata": {
            "tags": [],
            "needs_background": "light"
          }
        }
      ]
    },
    {
      "cell_type": "code",
      "metadata": {
        "id": "m95C2kwDHP6b",
        "colab_type": "code",
        "colab": {
          "base_uri": "https://localhost:8080/",
          "height": 1000
        },
        "outputId": "c43962a2-e24c-4471-fb35-fa188e428f36"
      },
      "source": [
        "print(metrics.classification_report(y_hat_1.argmax(axis=1), np.argmax(y_test, axis=1)))"
      ],
      "execution_count": 20,
      "outputs": [
        {
          "output_type": "stream",
          "text": [
            "              precision    recall  f1-score   support\n",
            "\n",
            "           0       0.72      0.89      0.80        81\n",
            "           1       0.73      0.80      0.76        91\n",
            "           2       0.52      0.58      0.55        89\n",
            "           3       0.36      0.55      0.43        66\n",
            "           4       0.43      0.51      0.47        84\n",
            "           5       0.63      0.69      0.66        91\n",
            "           6       0.71      0.66      0.69       107\n",
            "           7       0.65      0.55      0.59       119\n",
            "           8       0.82      0.71      0.76       115\n",
            "           9       0.73      0.85      0.78        86\n",
            "          10       0.43      0.43      0.43       101\n",
            "          11       0.45      0.45      0.45       101\n",
            "          12       0.75      0.61      0.67       123\n",
            "          13       0.54      0.57      0.56        94\n",
            "          14       0.60      0.47      0.53       127\n",
            "          15       0.67      0.66      0.67       101\n",
            "          16       0.68      0.65      0.66       105\n",
            "          17       0.74      0.81      0.77        91\n",
            "          18       0.53      0.49      0.51       109\n",
            "          19       0.61      0.64      0.62        96\n",
            "          20       0.84      0.83      0.84       101\n",
            "          21       0.78      0.84      0.81        93\n",
            "          22       0.64      0.59      0.62       108\n",
            "          23       0.66      0.79      0.72        84\n",
            "          24       0.79      0.82      0.81        96\n",
            "          25       0.58      0.54      0.56       107\n",
            "          26       0.63      0.42      0.51       149\n",
            "          27       0.50      0.49      0.50       102\n",
            "          28       0.76      0.71      0.73       107\n",
            "          29       0.54      0.62      0.58        87\n",
            "          30       0.55      0.67      0.60        82\n",
            "          31       0.50      0.72      0.59        69\n",
            "          32       0.58      0.58      0.58       100\n",
            "          33       0.61      0.57      0.59       107\n",
            "          34       0.66      0.67      0.66        99\n",
            "          35       0.33      0.42      0.37        78\n",
            "          36       0.70      0.85      0.77        82\n",
            "          37       0.69      0.67      0.68       103\n",
            "          38       0.47      0.53      0.50        88\n",
            "          39       0.77      0.73      0.75       106\n",
            "          40       0.58      0.57      0.58       101\n",
            "          41       0.81      0.75      0.78       108\n",
            "          42       0.77      0.42      0.54       184\n",
            "          43       0.56      0.77      0.65        73\n",
            "          44       0.36      0.32      0.34       111\n",
            "          45       0.56      0.46      0.50       122\n",
            "          46       0.43      0.40      0.41       108\n",
            "          47       0.56      0.57      0.56        99\n",
            "          48       0.89      0.76      0.82       117\n",
            "          49       0.81      0.74      0.78       109\n",
            "          50       0.41      0.38      0.39       109\n",
            "          51       0.70      0.62      0.66       113\n",
            "          52       0.70      0.56      0.62       125\n",
            "          53       0.88      0.77      0.82       114\n",
            "          54       0.76      0.72      0.74       105\n",
            "          55       0.25      0.32      0.28        77\n",
            "          56       0.78      0.90      0.83        87\n",
            "          57       0.63      0.73      0.68        86\n",
            "          58       0.76      0.80      0.78        95\n",
            "          59       0.55      0.59      0.57        93\n",
            "          60       0.79      0.84      0.81        94\n",
            "          61       0.65      0.68      0.67        95\n",
            "          62       0.66      0.66      0.66       100\n",
            "          63       0.63      0.54      0.58       116\n",
            "          64       0.38      0.55      0.45        69\n",
            "          65       0.51      0.58      0.54        88\n",
            "          66       0.68      0.59      0.63       116\n",
            "          67       0.44      0.54      0.49        81\n",
            "          68       0.86      0.93      0.90        92\n",
            "          69       0.73      0.77      0.75        95\n",
            "          70       0.67      0.71      0.69        95\n",
            "          71       0.67      0.74      0.71        90\n",
            "          72       0.32      0.36      0.34        89\n",
            "          73       0.40      0.48      0.44        83\n",
            "          74       0.44      0.37      0.40       119\n",
            "          75       0.81      0.75      0.78       108\n",
            "          76       0.82      0.86      0.84        95\n",
            "          77       0.52      0.63      0.57        82\n",
            "          78       0.52      0.37      0.44       139\n",
            "          79       0.74      0.69      0.71       107\n",
            "          80       0.36      0.53      0.43        68\n",
            "          81       0.74      0.63      0.68       117\n",
            "          82       0.83      0.86      0.85        96\n",
            "          83       0.58      0.63      0.60        92\n",
            "          84       0.62      0.65      0.63        96\n",
            "          85       0.78      0.79      0.78        99\n",
            "          86       0.71      0.60      0.65       119\n",
            "          87       0.73      0.62      0.67       118\n",
            "          88       0.71      0.70      0.70       102\n",
            "          89       0.75      0.68      0.71       111\n",
            "          90       0.74      0.68      0.71       109\n",
            "          91       0.67      0.70      0.68        96\n",
            "          92       0.50      0.68      0.58        73\n",
            "          93       0.51      0.48      0.49       107\n",
            "          94       0.87      0.86      0.87       101\n",
            "          95       0.63      0.61      0.62       103\n",
            "          96       0.47      0.55      0.51        86\n",
            "          97       0.71      0.72      0.71        99\n",
            "          98       0.43      0.43      0.43        99\n",
            "          99       0.63      0.66      0.65        95\n",
            "\n",
            "    accuracy                           0.63     10000\n",
            "   macro avg       0.63      0.64      0.63     10000\n",
            "weighted avg       0.64      0.63      0.63     10000\n",
            "\n"
          ],
          "name": "stdout"
        }
      ]
    },
    {
      "cell_type": "markdown",
      "metadata": {
        "id": "6dIpodjKHlcm",
        "colab_type": "text"
      },
      "source": [
        "The plot shows the loss for validation and training against number of epochs.\n",
        "\n",
        "![alt text](https://drive.google.com/uc?id=1-t_oVS2ogocEas-vb_YyAo-C8N63aGNm)\n",
        "\n",
        "The plot shows the accuracy for the training and validation.\n",
        "\n",
        "![alt text](https://drive.google.com/uc?id=102-wDCf4fOLKXu6V8PbX1oD-wGdYs3av)\n",
        "\n",
        "The figure shows the varying learning rate across the epochs.\n",
        "![alt text](https://drive.google.com/uc?id=108UaqSKdTkoLLbt9r1_044KHJzNB1H6D)\n",
        "\n",
        "The figure shows the input image after normalisation and subtacting the pixel mean.\n",
        "\n",
        "![alt text](https://drive.google.com/uc?id=103bKsq8Xw0zVBNIE6FZFTPOyUcnmRIQS)\n"
      ]
    },
    {
      "cell_type": "markdown",
      "metadata": {
        "id": "XMSv6ls6Iz3b",
        "colab_type": "text"
      },
      "source": [
        "The model is the same as the above except for the last layer. The model was trained for 150 epochs. As the learning curves indicate, the model is still capable of learning and is not yet overfitting or underfitting. It can be trained further with number of epochs to achieve better results. The model still needs to fine tuned for the best results."
      ]
    },
    {
      "cell_type": "code",
      "metadata": {
        "id": "7C7jnwnRSDqB",
        "colab_type": "code",
        "colab": {}
      },
      "source": [
        "%tensorboard --logdir logs"
      ],
      "execution_count": 0,
      "outputs": []
    },
    {
      "cell_type": "markdown",
      "metadata": {
        "id": "DvZ334q2_FH_",
        "colab_type": "text"
      },
      "source": [
        "## References:\n",
        "\n",
        "$ @TECHREPORT { Krizhevsky09learningmultiple, author = {Alex Krizhevsky},\n",
        "    title = {Learning multiple layers of features from tiny images},\n",
        "    institution = {},\n",
        "    year = {2009}} $"
      ]
    }
  ]
}